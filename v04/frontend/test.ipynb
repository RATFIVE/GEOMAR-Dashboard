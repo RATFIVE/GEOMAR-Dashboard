{
 "cells": [
  {
   "cell_type": "code",
   "execution_count": 11,
   "metadata": {},
   "outputs": [
    {
     "data": {
      "application/vnd.plotly.v1+json": {
       "config": {
        "plotlyServerURL": "https://plot.ly"
       },
       "data": [
        {
         "marker": {
          "color": [
           30
          ],
          "colorbar": {
           "len": 0.5,
           "title": {
            "text": "Wind (m/s)"
           },
           "x": 0.8,
           "y": 0.5
          },
          "colorscale": [
           [
            0,
            "rgb(255,245,235)"
           ],
           [
            0.125,
            "rgb(254,230,206)"
           ],
           [
            0.25,
            "rgb(253,208,162)"
           ],
           [
            0.375,
            "rgb(253,174,107)"
           ],
           [
            0.5,
            "rgb(253,141,60)"
           ],
           [
            0.625,
            "rgb(241,105,19)"
           ],
           [
            0.75,
            "rgb(217,72,1)"
           ],
           [
            0.875,
            "rgb(166,54,3)"
           ],
           [
            1,
            "rgb(127,39,4)"
           ]
          ],
          "showscale": true
         },
         "r": [
          30
         ],
         "theta": [
          0
         ],
         "type": "barpolar",
         "width": 45
        }
       ],
       "layout": {
        "font": {
         "color": "#053246"
        },
        "plot_bgcolor": "#78d278",
        "polar": {
         "angularaxis": {
          "direction": "clockwise",
          "tickmode": "array",
          "ticktext": [
           "N",
           "E",
           "S",
           "W"
          ],
          "tickvals": [
           0,
           90,
           180,
           270
          ]
         },
         "radialaxis": {
          "showticklabels": false,
          "ticksuffix": " m/s"
         }
        },
        "template": {
         "data": {
          "bar": [
           {
            "error_x": {
             "color": "#2a3f5f"
            },
            "error_y": {
             "color": "#2a3f5f"
            },
            "marker": {
             "line": {
              "color": "#E5ECF6",
              "width": 0.5
             },
             "pattern": {
              "fillmode": "overlay",
              "size": 10,
              "solidity": 0.2
             }
            },
            "type": "bar"
           }
          ],
          "barpolar": [
           {
            "marker": {
             "line": {
              "color": "#E5ECF6",
              "width": 0.5
             },
             "pattern": {
              "fillmode": "overlay",
              "size": 10,
              "solidity": 0.2
             }
            },
            "type": "barpolar"
           }
          ],
          "carpet": [
           {
            "aaxis": {
             "endlinecolor": "#2a3f5f",
             "gridcolor": "white",
             "linecolor": "white",
             "minorgridcolor": "white",
             "startlinecolor": "#2a3f5f"
            },
            "baxis": {
             "endlinecolor": "#2a3f5f",
             "gridcolor": "white",
             "linecolor": "white",
             "minorgridcolor": "white",
             "startlinecolor": "#2a3f5f"
            },
            "type": "carpet"
           }
          ],
          "choropleth": [
           {
            "colorbar": {
             "outlinewidth": 0,
             "ticks": ""
            },
            "type": "choropleth"
           }
          ],
          "contour": [
           {
            "colorbar": {
             "outlinewidth": 0,
             "ticks": ""
            },
            "colorscale": [
             [
              0,
              "#0d0887"
             ],
             [
              0.1111111111111111,
              "#46039f"
             ],
             [
              0.2222222222222222,
              "#7201a8"
             ],
             [
              0.3333333333333333,
              "#9c179e"
             ],
             [
              0.4444444444444444,
              "#bd3786"
             ],
             [
              0.5555555555555556,
              "#d8576b"
             ],
             [
              0.6666666666666666,
              "#ed7953"
             ],
             [
              0.7777777777777778,
              "#fb9f3a"
             ],
             [
              0.8888888888888888,
              "#fdca26"
             ],
             [
              1,
              "#f0f921"
             ]
            ],
            "type": "contour"
           }
          ],
          "contourcarpet": [
           {
            "colorbar": {
             "outlinewidth": 0,
             "ticks": ""
            },
            "type": "contourcarpet"
           }
          ],
          "heatmap": [
           {
            "colorbar": {
             "outlinewidth": 0,
             "ticks": ""
            },
            "colorscale": [
             [
              0,
              "#0d0887"
             ],
             [
              0.1111111111111111,
              "#46039f"
             ],
             [
              0.2222222222222222,
              "#7201a8"
             ],
             [
              0.3333333333333333,
              "#9c179e"
             ],
             [
              0.4444444444444444,
              "#bd3786"
             ],
             [
              0.5555555555555556,
              "#d8576b"
             ],
             [
              0.6666666666666666,
              "#ed7953"
             ],
             [
              0.7777777777777778,
              "#fb9f3a"
             ],
             [
              0.8888888888888888,
              "#fdca26"
             ],
             [
              1,
              "#f0f921"
             ]
            ],
            "type": "heatmap"
           }
          ],
          "heatmapgl": [
           {
            "colorbar": {
             "outlinewidth": 0,
             "ticks": ""
            },
            "colorscale": [
             [
              0,
              "#0d0887"
             ],
             [
              0.1111111111111111,
              "#46039f"
             ],
             [
              0.2222222222222222,
              "#7201a8"
             ],
             [
              0.3333333333333333,
              "#9c179e"
             ],
             [
              0.4444444444444444,
              "#bd3786"
             ],
             [
              0.5555555555555556,
              "#d8576b"
             ],
             [
              0.6666666666666666,
              "#ed7953"
             ],
             [
              0.7777777777777778,
              "#fb9f3a"
             ],
             [
              0.8888888888888888,
              "#fdca26"
             ],
             [
              1,
              "#f0f921"
             ]
            ],
            "type": "heatmapgl"
           }
          ],
          "histogram": [
           {
            "marker": {
             "pattern": {
              "fillmode": "overlay",
              "size": 10,
              "solidity": 0.2
             }
            },
            "type": "histogram"
           }
          ],
          "histogram2d": [
           {
            "colorbar": {
             "outlinewidth": 0,
             "ticks": ""
            },
            "colorscale": [
             [
              0,
              "#0d0887"
             ],
             [
              0.1111111111111111,
              "#46039f"
             ],
             [
              0.2222222222222222,
              "#7201a8"
             ],
             [
              0.3333333333333333,
              "#9c179e"
             ],
             [
              0.4444444444444444,
              "#bd3786"
             ],
             [
              0.5555555555555556,
              "#d8576b"
             ],
             [
              0.6666666666666666,
              "#ed7953"
             ],
             [
              0.7777777777777778,
              "#fb9f3a"
             ],
             [
              0.8888888888888888,
              "#fdca26"
             ],
             [
              1,
              "#f0f921"
             ]
            ],
            "type": "histogram2d"
           }
          ],
          "histogram2dcontour": [
           {
            "colorbar": {
             "outlinewidth": 0,
             "ticks": ""
            },
            "colorscale": [
             [
              0,
              "#0d0887"
             ],
             [
              0.1111111111111111,
              "#46039f"
             ],
             [
              0.2222222222222222,
              "#7201a8"
             ],
             [
              0.3333333333333333,
              "#9c179e"
             ],
             [
              0.4444444444444444,
              "#bd3786"
             ],
             [
              0.5555555555555556,
              "#d8576b"
             ],
             [
              0.6666666666666666,
              "#ed7953"
             ],
             [
              0.7777777777777778,
              "#fb9f3a"
             ],
             [
              0.8888888888888888,
              "#fdca26"
             ],
             [
              1,
              "#f0f921"
             ]
            ],
            "type": "histogram2dcontour"
           }
          ],
          "mesh3d": [
           {
            "colorbar": {
             "outlinewidth": 0,
             "ticks": ""
            },
            "type": "mesh3d"
           }
          ],
          "parcoords": [
           {
            "line": {
             "colorbar": {
              "outlinewidth": 0,
              "ticks": ""
             }
            },
            "type": "parcoords"
           }
          ],
          "pie": [
           {
            "automargin": true,
            "type": "pie"
           }
          ],
          "scatter": [
           {
            "fillpattern": {
             "fillmode": "overlay",
             "size": 10,
             "solidity": 0.2
            },
            "type": "scatter"
           }
          ],
          "scatter3d": [
           {
            "line": {
             "colorbar": {
              "outlinewidth": 0,
              "ticks": ""
             }
            },
            "marker": {
             "colorbar": {
              "outlinewidth": 0,
              "ticks": ""
             }
            },
            "type": "scatter3d"
           }
          ],
          "scattercarpet": [
           {
            "marker": {
             "colorbar": {
              "outlinewidth": 0,
              "ticks": ""
             }
            },
            "type": "scattercarpet"
           }
          ],
          "scattergeo": [
           {
            "marker": {
             "colorbar": {
              "outlinewidth": 0,
              "ticks": ""
             }
            },
            "type": "scattergeo"
           }
          ],
          "scattergl": [
           {
            "marker": {
             "colorbar": {
              "outlinewidth": 0,
              "ticks": ""
             }
            },
            "type": "scattergl"
           }
          ],
          "scattermapbox": [
           {
            "marker": {
             "colorbar": {
              "outlinewidth": 0,
              "ticks": ""
             }
            },
            "type": "scattermapbox"
           }
          ],
          "scatterpolar": [
           {
            "marker": {
             "colorbar": {
              "outlinewidth": 0,
              "ticks": ""
             }
            },
            "type": "scatterpolar"
           }
          ],
          "scatterpolargl": [
           {
            "marker": {
             "colorbar": {
              "outlinewidth": 0,
              "ticks": ""
             }
            },
            "type": "scatterpolargl"
           }
          ],
          "scatterternary": [
           {
            "marker": {
             "colorbar": {
              "outlinewidth": 0,
              "ticks": ""
             }
            },
            "type": "scatterternary"
           }
          ],
          "surface": [
           {
            "colorbar": {
             "outlinewidth": 0,
             "ticks": ""
            },
            "colorscale": [
             [
              0,
              "#0d0887"
             ],
             [
              0.1111111111111111,
              "#46039f"
             ],
             [
              0.2222222222222222,
              "#7201a8"
             ],
             [
              0.3333333333333333,
              "#9c179e"
             ],
             [
              0.4444444444444444,
              "#bd3786"
             ],
             [
              0.5555555555555556,
              "#d8576b"
             ],
             [
              0.6666666666666666,
              "#ed7953"
             ],
             [
              0.7777777777777778,
              "#fb9f3a"
             ],
             [
              0.8888888888888888,
              "#fdca26"
             ],
             [
              1,
              "#f0f921"
             ]
            ],
            "type": "surface"
           }
          ],
          "table": [
           {
            "cells": {
             "fill": {
              "color": "#EBF0F8"
             },
             "line": {
              "color": "white"
             }
            },
            "header": {
             "fill": {
              "color": "#C8D4E3"
             },
             "line": {
              "color": "white"
             }
            },
            "type": "table"
           }
          ]
         },
         "layout": {
          "annotationdefaults": {
           "arrowcolor": "#2a3f5f",
           "arrowhead": 0,
           "arrowwidth": 1
          },
          "autotypenumbers": "strict",
          "coloraxis": {
           "colorbar": {
            "outlinewidth": 0,
            "ticks": ""
           }
          },
          "colorscale": {
           "diverging": [
            [
             0,
             "#8e0152"
            ],
            [
             0.1,
             "#c51b7d"
            ],
            [
             0.2,
             "#de77ae"
            ],
            [
             0.3,
             "#f1b6da"
            ],
            [
             0.4,
             "#fde0ef"
            ],
            [
             0.5,
             "#f7f7f7"
            ],
            [
             0.6,
             "#e6f5d0"
            ],
            [
             0.7,
             "#b8e186"
            ],
            [
             0.8,
             "#7fbc41"
            ],
            [
             0.9,
             "#4d9221"
            ],
            [
             1,
             "#276419"
            ]
           ],
           "sequential": [
            [
             0,
             "#0d0887"
            ],
            [
             0.1111111111111111,
             "#46039f"
            ],
            [
             0.2222222222222222,
             "#7201a8"
            ],
            [
             0.3333333333333333,
             "#9c179e"
            ],
            [
             0.4444444444444444,
             "#bd3786"
            ],
            [
             0.5555555555555556,
             "#d8576b"
            ],
            [
             0.6666666666666666,
             "#ed7953"
            ],
            [
             0.7777777777777778,
             "#fb9f3a"
            ],
            [
             0.8888888888888888,
             "#fdca26"
            ],
            [
             1,
             "#f0f921"
            ]
           ],
           "sequentialminus": [
            [
             0,
             "#0d0887"
            ],
            [
             0.1111111111111111,
             "#46039f"
            ],
            [
             0.2222222222222222,
             "#7201a8"
            ],
            [
             0.3333333333333333,
             "#9c179e"
            ],
            [
             0.4444444444444444,
             "#bd3786"
            ],
            [
             0.5555555555555556,
             "#d8576b"
            ],
            [
             0.6666666666666666,
             "#ed7953"
            ],
            [
             0.7777777777777778,
             "#fb9f3a"
            ],
            [
             0.8888888888888888,
             "#fdca26"
            ],
            [
             1,
             "#f0f921"
            ]
           ]
          },
          "colorway": [
           "#636efa",
           "#EF553B",
           "#00cc96",
           "#ab63fa",
           "#FFA15A",
           "#19d3f3",
           "#FF6692",
           "#B6E880",
           "#FF97FF",
           "#FECB52"
          ],
          "font": {
           "color": "#2a3f5f"
          },
          "geo": {
           "bgcolor": "white",
           "lakecolor": "white",
           "landcolor": "#E5ECF6",
           "showlakes": true,
           "showland": true,
           "subunitcolor": "white"
          },
          "hoverlabel": {
           "align": "left"
          },
          "hovermode": "closest",
          "mapbox": {
           "style": "light"
          },
          "paper_bgcolor": "white",
          "plot_bgcolor": "#E5ECF6",
          "polar": {
           "angularaxis": {
            "gridcolor": "white",
            "linecolor": "white",
            "ticks": ""
           },
           "bgcolor": "#E5ECF6",
           "radialaxis": {
            "gridcolor": "white",
            "linecolor": "white",
            "ticks": ""
           }
          },
          "scene": {
           "xaxis": {
            "backgroundcolor": "#E5ECF6",
            "gridcolor": "white",
            "gridwidth": 2,
            "linecolor": "white",
            "showbackground": true,
            "ticks": "",
            "zerolinecolor": "white"
           },
           "yaxis": {
            "backgroundcolor": "#E5ECF6",
            "gridcolor": "white",
            "gridwidth": 2,
            "linecolor": "white",
            "showbackground": true,
            "ticks": "",
            "zerolinecolor": "white"
           },
           "zaxis": {
            "backgroundcolor": "#E5ECF6",
            "gridcolor": "white",
            "gridwidth": 2,
            "linecolor": "white",
            "showbackground": true,
            "ticks": "",
            "zerolinecolor": "white"
           }
          },
          "shapedefaults": {
           "line": {
            "color": "#2a3f5f"
           }
          },
          "ternary": {
           "aaxis": {
            "gridcolor": "white",
            "linecolor": "white",
            "ticks": ""
           },
           "baxis": {
            "gridcolor": "white",
            "linecolor": "white",
            "ticks": ""
           },
           "bgcolor": "#E5ECF6",
           "caxis": {
            "gridcolor": "white",
            "linecolor": "white",
            "ticks": ""
           }
          },
          "title": {
           "x": 0.05
          },
          "xaxis": {
           "automargin": true,
           "gridcolor": "white",
           "linecolor": "white",
           "ticks": "",
           "title": {
            "standoff": 15
           },
           "zerolinecolor": "white",
           "zerolinewidth": 2
          },
          "yaxis": {
           "automargin": true,
           "gridcolor": "white",
           "linecolor": "white",
           "ticks": "",
           "title": {
            "standoff": 15
           },
           "zerolinecolor": "white",
           "zerolinewidth": 2
          }
         }
        }
       }
      }
     },
     "metadata": {},
     "output_type": "display_data"
    }
   ],
   "source": [
    "import plotly.graph_objects as go\n",
    "\n",
    "# Beispiel-Daten: Windrichtung in Grad (0° = N, 90° = E, 180° = S, 270° = W)\n",
    "wind_directions = [0]  # Nord\n",
    "wind_speeds = [30]  # Windgeschwindigkeit\n",
    "\n",
    "# Erstellen des Plots\n",
    "fig = go.Figure()\n",
    "\n",
    "fig.add_trace(go.Barpolar(\n",
    "    r=wind_speeds,  # Windgeschwindigkeit als Radius\n",
    "    theta=wind_directions,  # Windrichtung in Grad\n",
    "    width=45,  # Breite der Balken (45° für 8 Himmelsrichtungen)\n",
    "    marker=dict(\n",
    "        color=wind_speeds,\n",
    "        colorscale='Oranges',\n",
    "        showscale=True,\n",
    "        colorbar=dict(\n",
    "            x=0.8,  # Näher ans Diagramm bringen (1.0 wäre ganz rechts)\n",
    "            y=0.5,  # In die Mitte des Diagramms setzen\n",
    "            len=0.5,  # Höhe der Colorbar reduzieren\n",
    "            title=\"Wind (m/s)\"  # Titel der Skala\n",
    "        )\n",
    "    )\n",
    "))\n",
    "\n",
    "# Theme anwenden\n",
    "fig.update_layout(\n",
    "    plot_bgcolor=\"#78d278\",  # Hintergrund des Plots\n",
    "    font=dict(color=\"#053246\"),  # Allgemeine Textfarbe\n",
    "    polar=dict(\n",
    "        radialaxis=dict(showticklabels=False, ticksuffix=\" m/s\"),\n",
    "        angularaxis=dict(direction=\"clockwise\", tickmode=\"array\",\n",
    "                         tickvals=[0, 90, 180, 270],\n",
    "                         ticktext=['N', 'E', 'S', 'W'])  # Himmelsrichtungen\n",
    "    )\n",
    ")\n",
    "\n",
    "fig.show()\n"
   ]
  },
  {
   "cell_type": "code",
   "execution_count": 1,
   "metadata": {},
   "outputs": [
    {
     "name": "stdout",
     "output_type": "stream",
     "text": [
      "2025-04-17 12:03:18.176871\n"
     ]
    }
   ],
   "source": [
    "import datetime\n",
    "print(datetime.datetime.now())"
   ]
  },
  {
   "cell_type": "code",
   "execution_count": 33,
   "metadata": {},
   "outputs": [
    {
     "name": "stdout",
     "output_type": "stream",
     "text": [
      "Daten empfangen: 10000 Einträge\n"
     ]
    }
   ],
   "source": [
    "import requests\n",
    "import datetime\n",
    "\n",
    "# Basis-URL der API\n",
    "url = \"https://timeseries.geomar.de/soop/FROST-Server/v1.1/Datastreams(35)/Observations\"\n",
    "\n",
    "# Zeitfilter: Letztes Jahr\n",
    "end_date = datetime.datetime.now()\n",
    "start_date = end_date - datetime.timedelta(days=365)\n",
    "\n",
    "# Formatieren der Datumswerte für den API-Filter (ISO 8601)\n",
    "start_date_str = start_date.strftime(\"%Y-%m-%dT%H:%M:%SZ\")\n",
    "end_date_str = end_date.strftime(\"%Y-%m-%dT%H:%M:%SZ\")\n",
    "\n",
    "# API-Query-Parameter für den Zeitfilter\n",
    "params = {\n",
    "    \"$filter\": f\"phenomenonTime ge {start_date_str} and phenomenonTime le {end_date_str}\",\n",
    "    \"$top\": 10000  # Anzahl der zurückgegebenen Einträge erhöhen, falls notwendig\n",
    "}\n",
    "\n",
    "# Anfrage senden\n",
    "response = requests.get(url, params=params)\n",
    "\n",
    "# Überprüfung der Antwort\n",
    "if response.status_code == 200:\n",
    "    data = response.json()  # JSON-Daten extrahieren\n",
    "    print(\"Daten empfangen:\", len(data.get(\"value\", [])), \"Einträge\")\n",
    "else:\n",
    "    print(\"Fehler:\", response.status_code, response.text)\n"
   ]
  },
  {
   "cell_type": "code",
   "execution_count": 34,
   "metadata": {},
   "outputs": [
    {
     "data": {
      "text/html": [
       "<div>\n",
       "<style scoped>\n",
       "    .dataframe tbody tr th:only-of-type {\n",
       "        vertical-align: middle;\n",
       "    }\n",
       "\n",
       "    .dataframe tbody tr th {\n",
       "        vertical-align: top;\n",
       "    }\n",
       "\n",
       "    .dataframe thead th {\n",
       "        text-align: right;\n",
       "    }\n",
       "</style>\n",
       "<table border=\"1\" class=\"dataframe\">\n",
       "  <thead>\n",
       "    <tr style=\"text-align: right;\">\n",
       "      <th></th>\n",
       "      <th>@iot.selfLink</th>\n",
       "      <th>@iot.id</th>\n",
       "      <th>phenomenonTime</th>\n",
       "      <th>resultTime</th>\n",
       "      <th>result</th>\n",
       "      <th>parameters</th>\n",
       "      <th>Datastream@iot.navigationLink</th>\n",
       "      <th>FeatureOfInterest@iot.navigationLink</th>\n",
       "    </tr>\n",
       "  </thead>\n",
       "  <tbody>\n",
       "    <tr>\n",
       "      <th>0</th>\n",
       "      <td>https://timeseries.geomar.de/soop/FROST-Server...</td>\n",
       "      <td>22146</td>\n",
       "      <td>2024-05-20T00:02:30Z</td>\n",
       "      <td>2024-05-20T00:02:30Z</td>\n",
       "      <td>0.0</td>\n",
       "      <td>{'q_flag': 'None'}</td>\n",
       "      <td>https://timeseries.geomar.de/soop/FROST-Server...</td>\n",
       "      <td>https://timeseries.geomar.de/soop/FROST-Server...</td>\n",
       "    </tr>\n",
       "    <tr>\n",
       "      <th>1</th>\n",
       "      <td>https://timeseries.geomar.de/soop/FROST-Server...</td>\n",
       "      <td>22151</td>\n",
       "      <td>2024-05-20T00:05:00Z</td>\n",
       "      <td>2024-05-20T00:05:00Z</td>\n",
       "      <td>0.0</td>\n",
       "      <td>{'q_flag': 'None'}</td>\n",
       "      <td>https://timeseries.geomar.de/soop/FROST-Server...</td>\n",
       "      <td>https://timeseries.geomar.de/soop/FROST-Server...</td>\n",
       "    </tr>\n",
       "    <tr>\n",
       "      <th>2</th>\n",
       "      <td>https://timeseries.geomar.de/soop/FROST-Server...</td>\n",
       "      <td>22153</td>\n",
       "      <td>2024-05-20T00:00:00Z</td>\n",
       "      <td>2024-05-20T00:00:00Z</td>\n",
       "      <td>0.0</td>\n",
       "      <td>{'q_flag': 'None'}</td>\n",
       "      <td>https://timeseries.geomar.de/soop/FROST-Server...</td>\n",
       "      <td>https://timeseries.geomar.de/soop/FROST-Server...</td>\n",
       "    </tr>\n",
       "    <tr>\n",
       "      <th>3</th>\n",
       "      <td>https://timeseries.geomar.de/soop/FROST-Server...</td>\n",
       "      <td>22158</td>\n",
       "      <td>2024-05-20T00:08:00Z</td>\n",
       "      <td>2024-05-20T00:08:00Z</td>\n",
       "      <td>0.0</td>\n",
       "      <td>{'q_flag': 'None'}</td>\n",
       "      <td>https://timeseries.geomar.de/soop/FROST-Server...</td>\n",
       "      <td>https://timeseries.geomar.de/soop/FROST-Server...</td>\n",
       "    </tr>\n",
       "    <tr>\n",
       "      <th>4</th>\n",
       "      <td>https://timeseries.geomar.de/soop/FROST-Server...</td>\n",
       "      <td>22233</td>\n",
       "      <td>2024-05-20T00:03:00Z</td>\n",
       "      <td>2024-05-20T00:03:00Z</td>\n",
       "      <td>0.0</td>\n",
       "      <td>{'q_flag': 'None'}</td>\n",
       "      <td>https://timeseries.geomar.de/soop/FROST-Server...</td>\n",
       "      <td>https://timeseries.geomar.de/soop/FROST-Server...</td>\n",
       "    </tr>\n",
       "    <tr>\n",
       "      <th>...</th>\n",
       "      <td>...</td>\n",
       "      <td>...</td>\n",
       "      <td>...</td>\n",
       "      <td>...</td>\n",
       "      <td>...</td>\n",
       "      <td>...</td>\n",
       "      <td>...</td>\n",
       "      <td>...</td>\n",
       "    </tr>\n",
       "    <tr>\n",
       "      <th>9995</th>\n",
       "      <td>https://timeseries.geomar.de/soop/FROST-Server...</td>\n",
       "      <td>396994</td>\n",
       "      <td>2024-07-20T08:09:00Z</td>\n",
       "      <td>2024-07-20T08:09:00Z</td>\n",
       "      <td>0.0</td>\n",
       "      <td>{'q_flag': 'None'}</td>\n",
       "      <td>https://timeseries.geomar.de/soop/FROST-Server...</td>\n",
       "      <td>https://timeseries.geomar.de/soop/FROST-Server...</td>\n",
       "    </tr>\n",
       "    <tr>\n",
       "      <th>9996</th>\n",
       "      <td>https://timeseries.geomar.de/soop/FROST-Server...</td>\n",
       "      <td>397006</td>\n",
       "      <td>2024-07-27T05:00:00Z</td>\n",
       "      <td>2024-07-27T05:00:00Z</td>\n",
       "      <td>0.0</td>\n",
       "      <td>{'q_flag': 'None'}</td>\n",
       "      <td>https://timeseries.geomar.de/soop/FROST-Server...</td>\n",
       "      <td>https://timeseries.geomar.de/soop/FROST-Server...</td>\n",
       "    </tr>\n",
       "    <tr>\n",
       "      <th>9997</th>\n",
       "      <td>https://timeseries.geomar.de/soop/FROST-Server...</td>\n",
       "      <td>397013</td>\n",
       "      <td>2024-07-20T08:13:00Z</td>\n",
       "      <td>2024-07-20T08:13:00Z</td>\n",
       "      <td>0.0</td>\n",
       "      <td>{'q_flag': 'None'}</td>\n",
       "      <td>https://timeseries.geomar.de/soop/FROST-Server...</td>\n",
       "      <td>https://timeseries.geomar.de/soop/FROST-Server...</td>\n",
       "    </tr>\n",
       "    <tr>\n",
       "      <th>9998</th>\n",
       "      <td>https://timeseries.geomar.de/soop/FROST-Server...</td>\n",
       "      <td>397081</td>\n",
       "      <td>2024-07-27T04:57:30Z</td>\n",
       "      <td>2024-07-27T04:57:30Z</td>\n",
       "      <td>0.0</td>\n",
       "      <td>{'q_flag': 'None'}</td>\n",
       "      <td>https://timeseries.geomar.de/soop/FROST-Server...</td>\n",
       "      <td>https://timeseries.geomar.de/soop/FROST-Server...</td>\n",
       "    </tr>\n",
       "    <tr>\n",
       "      <th>9999</th>\n",
       "      <td>https://timeseries.geomar.de/soop/FROST-Server...</td>\n",
       "      <td>397093</td>\n",
       "      <td>2024-07-20T08:09:30Z</td>\n",
       "      <td>2024-07-20T08:09:30Z</td>\n",
       "      <td>0.0</td>\n",
       "      <td>{'q_flag': 'None'}</td>\n",
       "      <td>https://timeseries.geomar.de/soop/FROST-Server...</td>\n",
       "      <td>https://timeseries.geomar.de/soop/FROST-Server...</td>\n",
       "    </tr>\n",
       "  </tbody>\n",
       "</table>\n",
       "<p>10000 rows × 8 columns</p>\n",
       "</div>"
      ],
      "text/plain": [
       "                                          @iot.selfLink  @iot.id  \\\n",
       "0     https://timeseries.geomar.de/soop/FROST-Server...    22146   \n",
       "1     https://timeseries.geomar.de/soop/FROST-Server...    22151   \n",
       "2     https://timeseries.geomar.de/soop/FROST-Server...    22153   \n",
       "3     https://timeseries.geomar.de/soop/FROST-Server...    22158   \n",
       "4     https://timeseries.geomar.de/soop/FROST-Server...    22233   \n",
       "...                                                 ...      ...   \n",
       "9995  https://timeseries.geomar.de/soop/FROST-Server...   396994   \n",
       "9996  https://timeseries.geomar.de/soop/FROST-Server...   397006   \n",
       "9997  https://timeseries.geomar.de/soop/FROST-Server...   397013   \n",
       "9998  https://timeseries.geomar.de/soop/FROST-Server...   397081   \n",
       "9999  https://timeseries.geomar.de/soop/FROST-Server...   397093   \n",
       "\n",
       "            phenomenonTime            resultTime  result          parameters  \\\n",
       "0     2024-05-20T00:02:30Z  2024-05-20T00:02:30Z     0.0  {'q_flag': 'None'}   \n",
       "1     2024-05-20T00:05:00Z  2024-05-20T00:05:00Z     0.0  {'q_flag': 'None'}   \n",
       "2     2024-05-20T00:00:00Z  2024-05-20T00:00:00Z     0.0  {'q_flag': 'None'}   \n",
       "3     2024-05-20T00:08:00Z  2024-05-20T00:08:00Z     0.0  {'q_flag': 'None'}   \n",
       "4     2024-05-20T00:03:00Z  2024-05-20T00:03:00Z     0.0  {'q_flag': 'None'}   \n",
       "...                    ...                   ...     ...                 ...   \n",
       "9995  2024-07-20T08:09:00Z  2024-07-20T08:09:00Z     0.0  {'q_flag': 'None'}   \n",
       "9996  2024-07-27T05:00:00Z  2024-07-27T05:00:00Z     0.0  {'q_flag': 'None'}   \n",
       "9997  2024-07-20T08:13:00Z  2024-07-20T08:13:00Z     0.0  {'q_flag': 'None'}   \n",
       "9998  2024-07-27T04:57:30Z  2024-07-27T04:57:30Z     0.0  {'q_flag': 'None'}   \n",
       "9999  2024-07-20T08:09:30Z  2024-07-20T08:09:30Z     0.0  {'q_flag': 'None'}   \n",
       "\n",
       "                          Datastream@iot.navigationLink  \\\n",
       "0     https://timeseries.geomar.de/soop/FROST-Server...   \n",
       "1     https://timeseries.geomar.de/soop/FROST-Server...   \n",
       "2     https://timeseries.geomar.de/soop/FROST-Server...   \n",
       "3     https://timeseries.geomar.de/soop/FROST-Server...   \n",
       "4     https://timeseries.geomar.de/soop/FROST-Server...   \n",
       "...                                                 ...   \n",
       "9995  https://timeseries.geomar.de/soop/FROST-Server...   \n",
       "9996  https://timeseries.geomar.de/soop/FROST-Server...   \n",
       "9997  https://timeseries.geomar.de/soop/FROST-Server...   \n",
       "9998  https://timeseries.geomar.de/soop/FROST-Server...   \n",
       "9999  https://timeseries.geomar.de/soop/FROST-Server...   \n",
       "\n",
       "                   FeatureOfInterest@iot.navigationLink  \n",
       "0     https://timeseries.geomar.de/soop/FROST-Server...  \n",
       "1     https://timeseries.geomar.de/soop/FROST-Server...  \n",
       "2     https://timeseries.geomar.de/soop/FROST-Server...  \n",
       "3     https://timeseries.geomar.de/soop/FROST-Server...  \n",
       "4     https://timeseries.geomar.de/soop/FROST-Server...  \n",
       "...                                                 ...  \n",
       "9995  https://timeseries.geomar.de/soop/FROST-Server...  \n",
       "9996  https://timeseries.geomar.de/soop/FROST-Server...  \n",
       "9997  https://timeseries.geomar.de/soop/FROST-Server...  \n",
       "9998  https://timeseries.geomar.de/soop/FROST-Server...  \n",
       "9999  https://timeseries.geomar.de/soop/FROST-Server...  \n",
       "\n",
       "[10000 rows x 8 columns]"
      ]
     },
     "execution_count": 34,
     "metadata": {},
     "output_type": "execute_result"
    }
   ],
   "source": [
    "import pandas as pd\n",
    "# display data keys\n",
    "df = pd.DataFrame(data['value'])\n",
    "\n",
    "\n",
    "df"
   ]
  },
  {
   "cell_type": "code",
   "execution_count": 35,
   "metadata": {},
   "outputs": [
    {
     "data": {
      "text/plain": [
       "<Axes: >"
      ]
     },
     "execution_count": 35,
     "metadata": {},
     "output_type": "execute_result"
    },
    {
     "data": {
      "image/png": "[encoded data removed]",
      "text/plain": [
       "<Figure size 640x480 with 1 Axes>"
      ]
     },
     "metadata": {},
     "output_type": "display_data"
    }
   ],
   "source": [
    "df.result.plot()"
   ]
  }
 ],
 "metadata": {
  "kernelspec": {
   "display_name": ".main",
   "language": "python",
   "name": ".main"
  },
  "language_info": {
   "codemirror_mode": {
    "name": "ipython",
    "version": 3
   },
   "file_extension": ".py",
   "mimetype": "text/x-python",
   "name": "python",
   "nbconvert_exporter": "python",
   "pygments_lexer": "ipython3",
   "version": "3.11.8"
  }
 },
 "nbformat": 4,
 "nbformat_minor": 2
}
