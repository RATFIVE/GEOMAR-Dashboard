{
 "cells": [
  {
   "cell_type": "code",
   "execution_count": 20,
   "metadata": {},
   "outputs": [],
   "source": [
    "import json\n",
    "import os \n",
    "import time\n",
    "import copernicusmarine\n",
    "from utils.Copernicus import AdvancedCopernicus as ac\n",
    "import plotly.graph_objects as go"
   ]
  },
  {
   "cell_type": "code",
   "execution_count": null,
   "metadata": {},
   "outputs": [
    {
     "name": "stderr",
     "output_type": "stream",
     "text": [
      "/Users/marco/Documents/VirtualEnvironments/.main/lib/python3.11/site-packages/tqdm/auto.py:21: TqdmWarning: IProgress not found. Please update jupyter and ipywidgets. See https://ipywidgets.readthedocs.io/en/stable/user_install.html\n",
      "  from .autonotebook import tqdm as notebook_tqdm\n"
     ]
    }
   ],
   "source": [
    "\n",
    "ac = ac()   \n",
    "\n",
    "\n",
    "\n",
    "\n",
    "def get_json_data(file):\n",
    "    with open(file) as f:\n",
    "        data = json.load(f)\n",
    "    return data\n",
    "\n",
    "marinas = get_json_data('marinas.json')"
   ]
  },
  {
   "cell_type": "code",
   "execution_count": 11,
   "metadata": {},
   "outputs": [],
   "source": [
    "today = time.strftime(\"%Y-%m-%d %H:%M:%S\", time.localtime())\n",
    "one_week_before = time.strftime(\"%Y-%m-%d %H:%M:%S\", time.localtime(time.time() - 60*60*24*7))\n",
    "output_filename = 'subset_output.nc'\n",
    " \n",
    "\n",
    "\n",
    "# find name = Hafen Flensburg Sonwik in marinas.json\n",
    "def find_marina(name, marinas):\n",
    "    return [marina for marina in marinas if marina['name'] == name][0]\n",
    "\n",
    "marina = find_marina('Hafen Flensburg Sonwik', marinas)\n",
    "\n",
    "\n",
    "marina_name = marina['name']\n",
    "marina_latitude = marina['location']['latitude']\n",
    "marina_longitude = marina['location']['longitude']\n",
    "marina_radius = 0.1\n",
    "\n",
    "minimum_longitude = marina_longitude - marina_radius\n",
    "maximum_longitude = marina_longitude + marina_radius\n",
    "\n",
    "minimum_latitude = marina_latitude - marina_radius\n",
    "maximum_latitude = marina_latitude + marina_radius\n"
   ]
  },
  {
   "cell_type": "code",
   "execution_count": 14,
   "metadata": {},
   "outputs": [
    {
     "name": "stderr",
     "output_type": "stream",
     "text": [
      "INFO - 2025-02-13T09:51:20Z - Selected dataset version: \"202411\"\n",
      "INFO - 2025-02-13T09:51:20Z - Selected dataset part: \"default\"\n",
      "INFO - 2025-02-13T09:51:24Z - Starting download. Please wait...\n",
      "100%|██████████| 4/4 [00:00<00:00,  5.98it/s]\n",
      "INFO - 2025-02-13T09:51:25Z - Successfully downloaded to subset_output.nc\n"
     ]
    }
   ],
   "source": [
    "marina_data = ac.get_subset(\n",
    "    dataset_id=\"cmems_mod_bal_phy_anfc_PT1H-i\",\n",
    "  dataset_version=\"202411\",\n",
    "  variables=[\"thetao\", \"sla\"],\n",
    "  minimum_longitude=minimum_longitude,\n",
    "  maximum_longitude=maximum_longitude,\n",
    "  minimum_latitude=minimum_latitude,\n",
    "  maximum_latitude=maximum_latitude,\n",
    "  start_datetime=one_week_before,\n",
    "  end_datetime=today,\n",
    "  minimum_depth=0.5016462206840515,\n",
    "  maximum_depth=0.5016462206840515,\n",
    "  coordinates_selection_method=\"strict-inside\",\n",
    "  disable_progress_bar=False,\n",
    "  output_filename=output_filename\n",
    ")\n"
   ]
  },
  {
   "cell_type": "code",
   "execution_count": 24,
   "metadata": {},
   "outputs": [
    {
     "data": {
      "text/html": [
       "<div>\n",
       "<style scoped>\n",
       "    .dataframe tbody tr th:only-of-type {\n",
       "        vertical-align: middle;\n",
       "    }\n",
       "\n",
       "    .dataframe tbody tr th {\n",
       "        vertical-align: top;\n",
       "    }\n",
       "\n",
       "    .dataframe thead th {\n",
       "        text-align: right;\n",
       "    }\n",
       "</style>\n",
       "<table border=\"1\" class=\"dataframe\">\n",
       "  <thead>\n",
       "    <tr style=\"text-align: right;\">\n",
       "      <th></th>\n",
       "      <th>time</th>\n",
       "      <th>depth</th>\n",
       "      <th>latitude</th>\n",
       "      <th>longitude</th>\n",
       "      <th>thetao</th>\n",
       "      <th>sla</th>\n",
       "    </tr>\n",
       "  </thead>\n",
       "  <tbody>\n",
       "    <tr>\n",
       "      <th>167</th>\n",
       "      <td>2025-02-13 10:00:00</td>\n",
       "      <td>0.501646</td>\n",
       "      <td>54.838268</td>\n",
       "      <td>9.49158</td>\n",
       "      <td>2.552219</td>\n",
       "      <td>-0.157219</td>\n",
       "    </tr>\n",
       "    <tr>\n",
       "      <th>166</th>\n",
       "      <td>2025-02-13 09:00:00</td>\n",
       "      <td>0.501646</td>\n",
       "      <td>54.838268</td>\n",
       "      <td>9.49158</td>\n",
       "      <td>2.546992</td>\n",
       "      <td>-0.134558</td>\n",
       "    </tr>\n",
       "    <tr>\n",
       "      <th>165</th>\n",
       "      <td>2025-02-13 08:00:00</td>\n",
       "      <td>0.501646</td>\n",
       "      <td>54.838268</td>\n",
       "      <td>9.49158</td>\n",
       "      <td>2.550051</td>\n",
       "      <td>-0.135936</td>\n",
       "    </tr>\n",
       "    <tr>\n",
       "      <th>164</th>\n",
       "      <td>2025-02-13 07:00:00</td>\n",
       "      <td>0.501646</td>\n",
       "      <td>54.838268</td>\n",
       "      <td>9.49158</td>\n",
       "      <td>2.558844</td>\n",
       "      <td>-0.110666</td>\n",
       "    </tr>\n",
       "    <tr>\n",
       "      <th>163</th>\n",
       "      <td>2025-02-13 06:00:00</td>\n",
       "      <td>0.501646</td>\n",
       "      <td>54.838268</td>\n",
       "      <td>9.49158</td>\n",
       "      <td>2.568836</td>\n",
       "      <td>-0.092824</td>\n",
       "    </tr>\n",
       "    <tr>\n",
       "      <th>...</th>\n",
       "      <td>...</td>\n",
       "      <td>...</td>\n",
       "      <td>...</td>\n",
       "      <td>...</td>\n",
       "      <td>...</td>\n",
       "      <td>...</td>\n",
       "    </tr>\n",
       "    <tr>\n",
       "      <th>4</th>\n",
       "      <td>2025-02-06 15:00:00</td>\n",
       "      <td>0.501646</td>\n",
       "      <td>54.838268</td>\n",
       "      <td>9.49158</td>\n",
       "      <td>3.302244</td>\n",
       "      <td>0.064039</td>\n",
       "    </tr>\n",
       "    <tr>\n",
       "      <th>3</th>\n",
       "      <td>2025-02-06 14:00:00</td>\n",
       "      <td>0.501646</td>\n",
       "      <td>54.838268</td>\n",
       "      <td>9.49158</td>\n",
       "      <td>3.302409</td>\n",
       "      <td>0.114216</td>\n",
       "    </tr>\n",
       "    <tr>\n",
       "      <th>2</th>\n",
       "      <td>2025-02-06 13:00:00</td>\n",
       "      <td>0.501646</td>\n",
       "      <td>54.838268</td>\n",
       "      <td>9.49158</td>\n",
       "      <td>3.285465</td>\n",
       "      <td>0.171805</td>\n",
       "    </tr>\n",
       "    <tr>\n",
       "      <th>1</th>\n",
       "      <td>2025-02-06 12:00:00</td>\n",
       "      <td>0.501646</td>\n",
       "      <td>54.838268</td>\n",
       "      <td>9.49158</td>\n",
       "      <td>3.222528</td>\n",
       "      <td>0.208431</td>\n",
       "    </tr>\n",
       "    <tr>\n",
       "      <th>0</th>\n",
       "      <td>2025-02-06 11:00:00</td>\n",
       "      <td>0.501646</td>\n",
       "      <td>54.838268</td>\n",
       "      <td>9.49158</td>\n",
       "      <td>3.173413</td>\n",
       "      <td>0.203552</td>\n",
       "    </tr>\n",
       "  </tbody>\n",
       "</table>\n",
       "<p>168 rows × 6 columns</p>\n",
       "</div>"
      ],
      "text/plain": [
       "                   time     depth   latitude  longitude    thetao       sla\n",
       "167 2025-02-13 10:00:00  0.501646  54.838268    9.49158  2.552219 -0.157219\n",
       "166 2025-02-13 09:00:00  0.501646  54.838268    9.49158  2.546992 -0.134558\n",
       "165 2025-02-13 08:00:00  0.501646  54.838268    9.49158  2.550051 -0.135936\n",
       "164 2025-02-13 07:00:00  0.501646  54.838268    9.49158  2.558844 -0.110666\n",
       "163 2025-02-13 06:00:00  0.501646  54.838268    9.49158  2.568836 -0.092824\n",
       "..                  ...       ...        ...        ...       ...       ...\n",
       "4   2025-02-06 15:00:00  0.501646  54.838268    9.49158  3.302244  0.064039\n",
       "3   2025-02-06 14:00:00  0.501646  54.838268    9.49158  3.302409  0.114216\n",
       "2   2025-02-06 13:00:00  0.501646  54.838268    9.49158  3.285465  0.171805\n",
       "1   2025-02-06 12:00:00  0.501646  54.838268    9.49158  3.222528  0.208431\n",
       "0   2025-02-06 11:00:00  0.501646  54.838268    9.49158  3.173413  0.203552\n",
       "\n",
       "[168 rows x 6 columns]"
      ]
     },
     "execution_count": 24,
     "metadata": {},
     "output_type": "execute_result"
    }
   ],
   "source": [
    "marina_df = marina_data.to_dataframe().reset_index()\n",
    "marina_df = marina_df.dropna(axis=0, how='any')\n",
    "marina_df_grouped = marina_df.groupby('time').mean().reset_index()\n",
    "marina_df_grouped.sort_values(by='time', ascending=False, inplace=True)\n",
    "marina_df_grouped"
   ]
  },
  {
   "cell_type": "code",
   "execution_count": 26,
   "metadata": {},
   "outputs": [
    {
     "data": {
      "application/vnd.plotly.v1+json": {
       "config": {
        "plotlyServerURL": "https://plot.ly"
       },
       "data": [
        {
         "mode": "lines",
         "name": "Temperature",
         "type": "scatter",
         "x": [
          "2025-02-13T10:00:00",
          "2025-02-13T09:00:00",
          "2025-02-13T08:00:00",
          "2025-02-13T07:00:00",
          "2025-02-13T06:00:00",
          "2025-02-13T05:00:00",
          "2025-02-13T04:00:00",
          "2025-02-13T03:00:00",
          "2025-02-13T02:00:00",
          "2025-02-13T01:00:00",
          "2025-02-13T00:00:00",
          "2025-02-12T23:00:00",
          "2025-02-12T22:00:00",
          "2025-02-12T21:00:00",
          "2025-02-12T20:00:00",
          "2025-02-12T19:00:00",
          "2025-02-12T18:00:00",
          "2025-02-12T17:00:00",
          "2025-02-12T16:00:00",
          "2025-02-12T15:00:00",
          "2025-02-12T14:00:00",
          "2025-02-12T13:00:00",
          "2025-02-12T12:00:00",
          "2025-02-12T11:00:00",
          "2025-02-12T10:00:00",
          "2025-02-12T09:00:00",
          "2025-02-12T08:00:00",
          "2025-02-12T07:00:00",
          "2025-02-12T06:00:00",
          "2025-02-12T05:00:00",
          "2025-02-12T04:00:00",
          "2025-02-12T03:00:00",
          "2025-02-12T02:00:00",
          "2025-02-12T01:00:00",
          "2025-02-12T00:00:00",
          "2025-02-11T23:00:00",
          "2025-02-11T22:00:00",
          "2025-02-11T21:00:00",
          "2025-02-11T20:00:00",
          "2025-02-11T19:00:00",
          "2025-02-11T18:00:00",
          "2025-02-11T17:00:00",
          "2025-02-11T16:00:00",
          "2025-02-11T15:00:00",
          "2025-02-11T14:00:00",
          "2025-02-11T13:00:00",
          "2025-02-11T12:00:00",
          "2025-02-11T11:00:00",
          "2025-02-11T10:00:00",
          "2025-02-11T09:00:00",
          "2025-02-11T08:00:00",
          "2025-02-11T07:00:00",
          "2025-02-11T06:00:00",
          "2025-02-11T05:00:00",
          "2025-02-11T04:00:00",
          "2025-02-11T03:00:00",
          "2025-02-11T02:00:00",
          "2025-02-11T01:00:00",
          "2025-02-11T00:00:00",
          "2025-02-10T23:00:00",
          "2025-02-10T22:00:00",
          "2025-02-10T21:00:00",
          "2025-02-10T20:00:00",
          "2025-02-10T19:00:00",
          "2025-02-10T18:00:00",
          "2025-02-10T17:00:00",
          "2025-02-10T16:00:00",
          "2025-02-10T15:00:00",
          "2025-02-10T14:00:00",
          "2025-02-10T13:00:00",
          "2025-02-10T12:00:00",
          "2025-02-10T11:00:00",
          "2025-02-10T10:00:00",
          "2025-02-10T09:00:00",
          "2025-02-10T08:00:00",
          "2025-02-10T07:00:00",
          "2025-02-10T06:00:00",
          "2025-02-10T05:00:00",
          "2025-02-10T04:00:00",
          "2025-02-10T03:00:00",
          "2025-02-10T02:00:00",
          "2025-02-10T01:00:00",
          "2025-02-10T00:00:00",
          "2025-02-09T23:00:00",
          "2025-02-09T22:00:00",
          "2025-02-09T21:00:00",
          "2025-02-09T20:00:00",
          "2025-02-09T19:00:00",
          "2025-02-09T18:00:00",
          "2025-02-09T17:00:00",
          "2025-02-09T16:00:00",
          "2025-02-09T15:00:00",
          "2025-02-09T14:00:00",
          "2025-02-09T13:00:00",
          "2025-02-09T12:00:00",
          "2025-02-09T11:00:00",
          "2025-02-09T10:00:00",
          "2025-02-09T09:00:00",
          "2025-02-09T08:00:00",
          "2025-02-09T07:00:00",
          "2025-02-09T06:00:00",
          "2025-02-09T05:00:00",
          "2025-02-09T04:00:00",
          "2025-02-09T03:00:00",
          "2025-02-09T02:00:00",
          "2025-02-09T01:00:00",
          "2025-02-09T00:00:00",
          "2025-02-08T23:00:00",
          "2025-02-08T22:00:00",
          "2025-02-08T21:00:00",
          "2025-02-08T20:00:00",
          "2025-02-08T19:00:00",
          "2025-02-08T18:00:00",
          "2025-02-08T17:00:00",
          "2025-02-08T16:00:00",
          "2025-02-08T15:00:00",
          "2025-02-08T14:00:00",
          "2025-02-08T13:00:00",
          "2025-02-08T12:00:00",
          "2025-02-08T11:00:00",
          "2025-02-08T10:00:00",
          "2025-02-08T09:00:00",
          "2025-02-08T08:00:00",
          "2025-02-08T07:00:00",
          "2025-02-08T06:00:00",
          "2025-02-08T05:00:00",
          "2025-02-08T04:00:00",
          "2025-02-08T03:00:00",
          "2025-02-08T02:00:00",
          "2025-02-08T01:00:00",
          "2025-02-08T00:00:00",
          "2025-02-07T23:00:00",
          "2025-02-07T22:00:00",
          "2025-02-07T21:00:00",
          "2025-02-07T20:00:00",
          "2025-02-07T19:00:00",
          "2025-02-07T18:00:00",
          "2025-02-07T17:00:00",
          "2025-02-07T16:00:00",
          "2025-02-07T15:00:00",
          "2025-02-07T14:00:00",
          "2025-02-07T13:00:00",
          "2025-02-07T12:00:00",
          "2025-02-07T11:00:00",
          "2025-02-07T10:00:00",
          "2025-02-07T09:00:00",
          "2025-02-07T08:00:00",
          "2025-02-07T07:00:00",
          "2025-02-07T06:00:00",
          "2025-02-07T05:00:00",
          "2025-02-07T04:00:00",
          "2025-02-07T03:00:00",
          "2025-02-07T02:00:00",
          "2025-02-07T01:00:00",
          "2025-02-07T00:00:00",
          "2025-02-06T23:00:00",
          "2025-02-06T22:00:00",
          "2025-02-06T21:00:00",
          "2025-02-06T20:00:00",
          "2025-02-06T19:00:00",
          "2025-02-06T18:00:00",
          "2025-02-06T17:00:00",
          "2025-02-06T16:00:00",
          "2025-02-06T15:00:00",
          "2025-02-06T14:00:00",
          "2025-02-06T13:00:00",
          "2025-02-06T12:00:00",
          "2025-02-06T11:00:00"
         ],
         "y": [
          2.5522192,
          2.5469918,
          2.5500515,
          2.5588439,
          2.5688357,
          2.579796,
          2.5893314,
          2.598435,
          2.606852,
          2.6146774,
          2.6219416,
          2.6307487,
          2.640654,
          2.6518214,
          2.6653166,
          2.6796412,
          2.6971457,
          2.7176108,
          2.7372062,
          2.7485669,
          2.7455745,
          2.7305865,
          2.7085993,
          2.6937737,
          2.6886532,
          2.6929674,
          2.7074442,
          2.7287974,
          2.7516913,
          2.7723641,
          2.7899525,
          2.8063922,
          2.8212075,
          2.832417,
          2.8435836,
          2.8549485,
          2.8660188,
          2.8778477,
          2.8895898,
          2.9014163,
          2.913938,
          2.9274478,
          2.9410977,
          2.9473863,
          2.941389,
          2.9256504,
          2.9016826,
          2.879584,
          2.865994,
          2.865479,
          2.8792715,
          2.899378,
          2.9204807,
          2.9408476,
          2.960637,
          2.978603,
          2.9937344,
          3.0070965,
          3.0188758,
          3.0305862,
          3.0393078,
          3.0472333,
          3.0547116,
          3.0607138,
          3.0660758,
          3.071199,
          3.0760424,
          3.078387,
          3.0758624,
          3.0681796,
          3.0642476,
          3.062063,
          3.0640042,
          3.067658,
          3.0728648,
          3.0788205,
          3.0846944,
          3.0900636,
          3.094673,
          3.0986285,
          3.1020133,
          3.105124,
          3.1079988,
          3.1110263,
          3.1138897,
          3.116745,
          3.120409,
          3.1244705,
          3.1278853,
          3.1306872,
          3.1329842,
          3.133532,
          3.1287084,
          3.1173675,
          3.099422,
          3.0934298,
          3.0904133,
          3.088291,
          3.0895488,
          3.0955021,
          3.1032257,
          3.1112416,
          3.1189878,
          3.1259966,
          3.1317406,
          3.1378052,
          3.1449773,
          3.1501412,
          3.157568,
          3.166051,
          3.1727622,
          3.1805642,
          3.1896198,
          3.199797,
          3.211509,
          3.218081,
          3.215205,
          3.2042434,
          3.1871858,
          3.1764002,
          3.1727967,
          3.175497,
          3.1844974,
          3.1966834,
          3.2104466,
          3.2242572,
          3.2342505,
          3.2413967,
          3.244983,
          3.2537415,
          3.264729,
          3.2713668,
          3.2755044,
          3.2820854,
          3.2855682,
          3.2867253,
          3.2880607,
          3.2883778,
          3.2889793,
          3.289267,
          3.2867818,
          3.2794557,
          3.271775,
          3.2619774,
          3.2554271,
          3.2520206,
          3.2500534,
          3.2499008,
          3.2500844,
          3.2486088,
          3.247815,
          3.247686,
          3.2469761,
          3.2463403,
          3.2457547,
          3.2452717,
          3.2446885,
          3.2453926,
          3.2456944,
          3.2420444,
          3.2367625,
          3.2585404,
          3.2857919,
          3.3022437,
          3.302409,
          3.2854645,
          3.2225277,
          3.1734126
         ]
        }
       ],
       "layout": {
        "template": {
         "data": {
          "bar": [
           {
            "error_x": {
             "color": "#2a3f5f"
            },
            "error_y": {
             "color": "#2a3f5f"
            },
            "marker": {
             "line": {
              "color": "#E5ECF6",
              "width": 0.5
             },
             "pattern": {
              "fillmode": "overlay",
              "size": 10,
              "solidity": 0.2
             }
            },
            "type": "bar"
           }
          ],
          "barpolar": [
           {
            "marker": {
             "line": {
              "color": "#E5ECF6",
              "width": 0.5
             },
             "pattern": {
              "fillmode": "overlay",
              "size": 10,
              "solidity": 0.2
             }
            },
            "type": "barpolar"
           }
          ],
          "carpet": [
           {
            "aaxis": {
             "endlinecolor": "#2a3f5f",
             "gridcolor": "white",
             "linecolor": "white",
             "minorgridcolor": "white",
             "startlinecolor": "#2a3f5f"
            },
            "baxis": {
             "endlinecolor": "#2a3f5f",
             "gridcolor": "white",
             "linecolor": "white",
             "minorgridcolor": "white",
             "startlinecolor": "#2a3f5f"
            },
            "type": "carpet"
           }
          ],
          "choropleth": [
           {
            "colorbar": {
             "outlinewidth": 0,
             "ticks": ""
            },
            "type": "choropleth"
           }
          ],
          "contour": [
           {
            "colorbar": {
             "outlinewidth": 0,
             "ticks": ""
            },
            "colorscale": [
             [
              0,
              "#0d0887"
             ],
             [
              0.1111111111111111,
              "#46039f"
             ],
             [
              0.2222222222222222,
              "#7201a8"
             ],
             [
              0.3333333333333333,
              "#9c179e"
             ],
             [
              0.4444444444444444,
              "#bd3786"
             ],
             [
              0.5555555555555556,
              "#d8576b"
             ],
             [
              0.6666666666666666,
              "#ed7953"
             ],
             [
              0.7777777777777778,
              "#fb9f3a"
             ],
             [
              0.8888888888888888,
              "#fdca26"
             ],
             [
              1,
              "#f0f921"
             ]
            ],
            "type": "contour"
           }
          ],
          "contourcarpet": [
           {
            "colorbar": {
             "outlinewidth": 0,
             "ticks": ""
            },
            "type": "contourcarpet"
           }
          ],
          "heatmap": [
           {
            "colorbar": {
             "outlinewidth": 0,
             "ticks": ""
            },
            "colorscale": [
             [
              0,
              "#0d0887"
             ],
             [
              0.1111111111111111,
              "#46039f"
             ],
             [
              0.2222222222222222,
              "#7201a8"
             ],
             [
              0.3333333333333333,
              "#9c179e"
             ],
             [
              0.4444444444444444,
              "#bd3786"
             ],
             [
              0.5555555555555556,
              "#d8576b"
             ],
             [
              0.6666666666666666,
              "#ed7953"
             ],
             [
              0.7777777777777778,
              "#fb9f3a"
             ],
             [
              0.8888888888888888,
              "#fdca26"
             ],
             [
              1,
              "#f0f921"
             ]
            ],
            "type": "heatmap"
           }
          ],
          "heatmapgl": [
           {
            "colorbar": {
             "outlinewidth": 0,
             "ticks": ""
            },
            "colorscale": [
             [
              0,
              "#0d0887"
             ],
             [
              0.1111111111111111,
              "#46039f"
             ],
             [
              0.2222222222222222,
              "#7201a8"
             ],
             [
              0.3333333333333333,
              "#9c179e"
             ],
             [
              0.4444444444444444,
              "#bd3786"
             ],
             [
              0.5555555555555556,
              "#d8576b"
             ],
             [
              0.6666666666666666,
              "#ed7953"
             ],
             [
              0.7777777777777778,
              "#fb9f3a"
             ],
             [
              0.8888888888888888,
              "#fdca26"
             ],
             [
              1,
              "#f0f921"
             ]
            ],
            "type": "heatmapgl"
           }
          ],
          "histogram": [
           {
            "marker": {
             "pattern": {
              "fillmode": "overlay",
              "size": 10,
              "solidity": 0.2
             }
            },
            "type": "histogram"
           }
          ],
          "histogram2d": [
           {
            "colorbar": {
             "outlinewidth": 0,
             "ticks": ""
            },
            "colorscale": [
             [
              0,
              "#0d0887"
             ],
             [
              0.1111111111111111,
              "#46039f"
             ],
             [
              0.2222222222222222,
              "#7201a8"
             ],
             [
              0.3333333333333333,
              "#9c179e"
             ],
             [
              0.4444444444444444,
              "#bd3786"
             ],
             [
              0.5555555555555556,
              "#d8576b"
             ],
             [
              0.6666666666666666,
              "#ed7953"
             ],
             [
              0.7777777777777778,
              "#fb9f3a"
             ],
             [
              0.8888888888888888,
              "#fdca26"
             ],
             [
              1,
              "#f0f921"
             ]
            ],
            "type": "histogram2d"
           }
          ],
          "histogram2dcontour": [
           {
            "colorbar": {
             "outlinewidth": 0,
             "ticks": ""
            },
            "colorscale": [
             [
              0,
              "#0d0887"
             ],
             [
              0.1111111111111111,
              "#46039f"
             ],
             [
              0.2222222222222222,
              "#7201a8"
             ],
             [
              0.3333333333333333,
              "#9c179e"
             ],
             [
              0.4444444444444444,
              "#bd3786"
             ],
             [
              0.5555555555555556,
              "#d8576b"
             ],
             [
              0.6666666666666666,
              "#ed7953"
             ],
             [
              0.7777777777777778,
              "#fb9f3a"
             ],
             [
              0.8888888888888888,
              "#fdca26"
             ],
             [
              1,
              "#f0f921"
             ]
            ],
            "type": "histogram2dcontour"
           }
          ],
          "mesh3d": [
           {
            "colorbar": {
             "outlinewidth": 0,
             "ticks": ""
            },
            "type": "mesh3d"
           }
          ],
          "parcoords": [
           {
            "line": {
             "colorbar": {
              "outlinewidth": 0,
              "ticks": ""
             }
            },
            "type": "parcoords"
           }
          ],
          "pie": [
           {
            "automargin": true,
            "type": "pie"
           }
          ],
          "scatter": [
           {
            "fillpattern": {
             "fillmode": "overlay",
             "size": 10,
             "solidity": 0.2
            },
            "type": "scatter"
           }
          ],
          "scatter3d": [
           {
            "line": {
             "colorbar": {
              "outlinewidth": 0,
              "ticks": ""
             }
            },
            "marker": {
             "colorbar": {
              "outlinewidth": 0,
              "ticks": ""
             }
            },
            "type": "scatter3d"
           }
          ],
          "scattercarpet": [
           {
            "marker": {
             "colorbar": {
              "outlinewidth": 0,
              "ticks": ""
             }
            },
            "type": "scattercarpet"
           }
          ],
          "scattergeo": [
           {
            "marker": {
             "colorbar": {
              "outlinewidth": 0,
              "ticks": ""
             }
            },
            "type": "scattergeo"
           }
          ],
          "scattergl": [
           {
            "marker": {
             "colorbar": {
              "outlinewidth": 0,
              "ticks": ""
             }
            },
            "type": "scattergl"
           }
          ],
          "scattermapbox": [
           {
            "marker": {
             "colorbar": {
              "outlinewidth": 0,
              "ticks": ""
             }
            },
            "type": "scattermapbox"
           }
          ],
          "scatterpolar": [
           {
            "marker": {
             "colorbar": {
              "outlinewidth": 0,
              "ticks": ""
             }
            },
            "type": "scatterpolar"
           }
          ],
          "scatterpolargl": [
           {
            "marker": {
             "colorbar": {
              "outlinewidth": 0,
              "ticks": ""
             }
            },
            "type": "scatterpolargl"
           }
          ],
          "scatterternary": [
           {
            "marker": {
             "colorbar": {
              "outlinewidth": 0,
              "ticks": ""
             }
            },
            "type": "scatterternary"
           }
          ],
          "surface": [
           {
            "colorbar": {
             "outlinewidth": 0,
             "ticks": ""
            },
            "colorscale": [
             [
              0,
              "#0d0887"
             ],
             [
              0.1111111111111111,
              "#46039f"
             ],
             [
              0.2222222222222222,
              "#7201a8"
             ],
             [
              0.3333333333333333,
              "#9c179e"
             ],
             [
              0.4444444444444444,
              "#bd3786"
             ],
             [
              0.5555555555555556,
              "#d8576b"
             ],
             [
              0.6666666666666666,
              "#ed7953"
             ],
             [
              0.7777777777777778,
              "#fb9f3a"
             ],
             [
              0.8888888888888888,
              "#fdca26"
             ],
             [
              1,
              "#f0f921"
             ]
            ],
            "type": "surface"
           }
          ],
          "table": [
           {
            "cells": {
             "fill": {
              "color": "#EBF0F8"
             },
             "line": {
              "color": "white"
             }
            },
            "header": {
             "fill": {
              "color": "#C8D4E3"
             },
             "line": {
              "color": "white"
             }
            },
            "type": "table"
           }
          ]
         },
         "layout": {
          "annotationdefaults": {
           "arrowcolor": "#2a3f5f",
           "arrowhead": 0,
           "arrowwidth": 1
          },
          "autotypenumbers": "strict",
          "coloraxis": {
           "colorbar": {
            "outlinewidth": 0,
            "ticks": ""
           }
          },
          "colorscale": {
           "diverging": [
            [
             0,
             "#8e0152"
            ],
            [
             0.1,
             "#c51b7d"
            ],
            [
             0.2,
             "#de77ae"
            ],
            [
             0.3,
             "#f1b6da"
            ],
            [
             0.4,
             "#fde0ef"
            ],
            [
             0.5,
             "#f7f7f7"
            ],
            [
             0.6,
             "#e6f5d0"
            ],
            [
             0.7,
             "#b8e186"
            ],
            [
             0.8,
             "#7fbc41"
            ],
            [
             0.9,
             "#4d9221"
            ],
            [
             1,
             "#276419"
            ]
           ],
           "sequential": [
            [
             0,
             "#0d0887"
            ],
            [
             0.1111111111111111,
             "#46039f"
            ],
            [
             0.2222222222222222,
             "#7201a8"
            ],
            [
             0.3333333333333333,
             "#9c179e"
            ],
            [
             0.4444444444444444,
             "#bd3786"
            ],
            [
             0.5555555555555556,
             "#d8576b"
            ],
            [
             0.6666666666666666,
             "#ed7953"
            ],
            [
             0.7777777777777778,
             "#fb9f3a"
            ],
            [
             0.8888888888888888,
             "#fdca26"
            ],
            [
             1,
             "#f0f921"
            ]
           ],
           "sequentialminus": [
            [
             0,
             "#0d0887"
            ],
            [
             0.1111111111111111,
             "#46039f"
            ],
            [
             0.2222222222222222,
             "#7201a8"
            ],
            [
             0.3333333333333333,
             "#9c179e"
            ],
            [
             0.4444444444444444,
             "#bd3786"
            ],
            [
             0.5555555555555556,
             "#d8576b"
            ],
            [
             0.6666666666666666,
             "#ed7953"
            ],
            [
             0.7777777777777778,
             "#fb9f3a"
            ],
            [
             0.8888888888888888,
             "#fdca26"
            ],
            [
             1,
             "#f0f921"
            ]
           ]
          },
          "colorway": [
           "#636efa",
           "#EF553B",
           "#00cc96",
           "#ab63fa",
           "#FFA15A",
           "#19d3f3",
           "#FF6692",
           "#B6E880",
           "#FF97FF",
           "#FECB52"
          ],
          "font": {
           "color": "#2a3f5f"
          },
          "geo": {
           "bgcolor": "white",
           "lakecolor": "white",
           "landcolor": "#E5ECF6",
           "showlakes": true,
           "showland": true,
           "subunitcolor": "white"
          },
          "hoverlabel": {
           "align": "left"
          },
          "hovermode": "closest",
          "mapbox": {
           "style": "light"
          },
          "paper_bgcolor": "white",
          "plot_bgcolor": "#E5ECF6",
          "polar": {
           "angularaxis": {
            "gridcolor": "white",
            "linecolor": "white",
            "ticks": ""
           },
           "bgcolor": "#E5ECF6",
           "radialaxis": {
            "gridcolor": "white",
            "linecolor": "white",
            "ticks": ""
           }
          },
          "scene": {
           "xaxis": {
            "backgroundcolor": "#E5ECF6",
            "gridcolor": "white",
            "gridwidth": 2,
            "linecolor": "white",
            "showbackground": true,
            "ticks": "",
            "zerolinecolor": "white"
           },
           "yaxis": {
            "backgroundcolor": "#E5ECF6",
            "gridcolor": "white",
            "gridwidth": 2,
            "linecolor": "white",
            "showbackground": true,
            "ticks": "",
            "zerolinecolor": "white"
           },
           "zaxis": {
            "backgroundcolor": "#E5ECF6",
            "gridcolor": "white",
            "gridwidth": 2,
            "linecolor": "white",
            "showbackground": true,
            "ticks": "",
            "zerolinecolor": "white"
           }
          },
          "shapedefaults": {
           "line": {
            "color": "#2a3f5f"
           }
          },
          "ternary": {
           "aaxis": {
            "gridcolor": "white",
            "linecolor": "white",
            "ticks": ""
           },
           "baxis": {
            "gridcolor": "white",
            "linecolor": "white",
            "ticks": ""
           },
           "bgcolor": "#E5ECF6",
           "caxis": {
            "gridcolor": "white",
            "linecolor": "white",
            "ticks": ""
           }
          },
          "title": {
           "x": 0.05
          },
          "xaxis": {
           "automargin": true,
           "gridcolor": "white",
           "linecolor": "white",
           "ticks": "",
           "title": {
            "standoff": 15
           },
           "zerolinecolor": "white",
           "zerolinewidth": 2
          },
          "yaxis": {
           "automargin": true,
           "gridcolor": "white",
           "linecolor": "white",
           "ticks": "",
           "title": {
            "standoff": 15
           },
           "zerolinecolor": "white",
           "zerolinewidth": 2
          }
         }
        },
        "title": {
         "text": "Temperature at Hafen Flensburg Sonwik"
        },
        "xaxis": {
         "title": {
          "text": "Time"
         }
        },
        "yaxis": {
         "title": {
          "text": "Temperature"
         }
        }
       }
      }
     },
     "metadata": {},
     "output_type": "display_data"
    }
   ],
   "source": [
    "fig = go.Figure()\n",
    "\n",
    "fig.add_trace(go.Scatter(\n",
    "    x=marina_df_grouped['time'],\n",
    "    y=marina_df_grouped['thetao'],\n",
    "    mode='lines',\n",
    "    name='Temperature'\n",
    "))\n",
    "\n",
    "fig.update_layout(\n",
    "    title='Temperature at Hafen Flensburg Sonwik',\n",
    "    xaxis_title='Time',\n",
    "    yaxis_title='Temperature'\n",
    ")\n",
    "\n",
    "fig.show()"
   ]
  },
  {
   "cell_type": "code",
   "execution_count": 13,
   "metadata": {},
   "outputs": [],
   "source": [
    "ac.delete_dataset(output_filename)"
   ]
  },
  {
   "cell_type": "code",
   "execution_count": null,
   "metadata": {},
   "outputs": [],
   "source": []
  }
 ],
 "metadata": {
  "kernelspec": {
   "display_name": ".main",
   "language": "python",
   "name": "python3"
  },
  "language_info": {
   "codemirror_mode": {
    "name": "ipython",
    "version": 3
   },
   "file_extension": ".py",
   "mimetype": "text/x-python",
   "name": "python",
   "nbconvert_exporter": "python",
   "pygments_lexer": "ipython3",
   "version": "3.11.8"
  }
 },
 "nbformat": 4,
 "nbformat_minor": 2
}
