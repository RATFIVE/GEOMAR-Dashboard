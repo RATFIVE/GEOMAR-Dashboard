{
 "cells": [
  {
   "cell_type": "code",
   "execution_count": 11,
   "metadata": {},
   "outputs": [
    {
     "data": {
      "application/vnd.plotly.v1+json": {
       "config": {
        "plotlyServerURL": "https://plot.ly"
       },
       "data": [
        {
         "marker": {
          "color": [
           30
          ],
          "colorbar": {
           "len": 0.5,
           "title": {
            "text": "Wind (m/s)"
           },
           "x": 0.8,
           "y": 0.5
          },
          "colorscale": [
           [
            0,
            "rgb(255,245,235)"
           ],
           [
            0.125,
            "rgb(254,230,206)"
           ],
           [
            0.25,
            "rgb(253,208,162)"
           ],
           [
            0.375,
            "rgb(253,174,107)"
           ],
           [
            0.5,
            "rgb(253,141,60)"
           ],
           [
            0.625,
            "rgb(241,105,19)"
           ],
           [
            0.75,
            "rgb(217,72,1)"
           ],
           [
            0.875,
            "rgb(166,54,3)"
           ],
           [
            1,
            "rgb(127,39,4)"
           ]
          ],
          "showscale": true
         },
         "r": [
          30
         ],
         "theta": [
          0
         ],
         "type": "barpolar",
         "width": 45
        }
       ],
       "layout": {
        "font": {
         "color": "#053246"
        },
        "plot_bgcolor": "#78d278",
        "polar": {
         "angularaxis": {
          "direction": "clockwise",
          "tickmode": "array",
          "ticktext": [
           "N",
           "E",
           "S",
           "W"
          ],
          "tickvals": [
           0,
           90,
           180,
           270
          ]
         },
         "radialaxis": {
          "showticklabels": false,
          "ticksuffix": " m/s"
         }
        },
        "template": {
         "data": {
          "bar": [
           {
            "error_x": {
             "color": "#2a3f5f"
            },
            "error_y": {
             "color": "#2a3f5f"
            },
            "marker": {
             "line": {
              "color": "#E5ECF6",
              "width": 0.5
             },
             "pattern": {
              "fillmode": "overlay",
              "size": 10,
              "solidity": 0.2
             }
            },
            "type": "bar"
           }
          ],
          "barpolar": [
           {
            "marker": {
             "line": {
              "color": "#E5ECF6",
              "width": 0.5
             },
             "pattern": {
              "fillmode": "overlay",
              "size": 10,
              "solidity": 0.2
             }
            },
            "type": "barpolar"
           }
          ],
          "carpet": [
           {
            "aaxis": {
             "endlinecolor": "#2a3f5f",
             "gridcolor": "white",
             "linecolor": "white",
             "minorgridcolor": "white",
             "startlinecolor": "#2a3f5f"
            },
            "baxis": {
             "endlinecolor": "#2a3f5f",
             "gridcolor": "white",
             "linecolor": "white",
             "minorgridcolor": "white",
             "startlinecolor": "#2a3f5f"
            },
            "type": "carpet"
           }
          ],
          "choropleth": [
           {
            "colorbar": {
             "outlinewidth": 0,
             "ticks": ""
            },
            "type": "choropleth"
           }
          ],
          "contour": [
           {
            "colorbar": {
             "outlinewidth": 0,
             "ticks": ""
            },
            "colorscale": [
             [
              0,
              "#0d0887"
             ],
             [
              0.1111111111111111,
              "#46039f"
             ],
             [
              0.2222222222222222,
              "#7201a8"
             ],
             [
              0.3333333333333333,
              "#9c179e"
             ],
             [
              0.4444444444444444,
              "#bd3786"
             ],
             [
              0.5555555555555556,
              "#d8576b"
             ],
             [
              0.6666666666666666,
              "#ed7953"
             ],
             [
              0.7777777777777778,
              "#fb9f3a"
             ],
             [
              0.8888888888888888,
              "#fdca26"
             ],
             [
              1,
              "#f0f921"
             ]
            ],
            "type": "contour"
           }
          ],
          "contourcarpet": [
           {
            "colorbar": {
             "outlinewidth": 0,
             "ticks": ""
            },
            "type": "contourcarpet"
           }
          ],
          "heatmap": [
           {
            "colorbar": {
             "outlinewidth": 0,
             "ticks": ""
            },
            "colorscale": [
             [
              0,
              "#0d0887"
             ],
             [
              0.1111111111111111,
              "#46039f"
             ],
             [
              0.2222222222222222,
              "#7201a8"
             ],
             [
              0.3333333333333333,
              "#9c179e"
             ],
             [
              0.4444444444444444,
              "#bd3786"
             ],
             [
              0.5555555555555556,
              "#d8576b"
             ],
             [
              0.6666666666666666,
              "#ed7953"
             ],
             [
              0.7777777777777778,
              "#fb9f3a"
             ],
             [
              0.8888888888888888,
              "#fdca26"
             ],
             [
              1,
              "#f0f921"
             ]
            ],
            "type": "heatmap"
           }
          ],
          "heatmapgl": [
           {
            "colorbar": {
             "outlinewidth": 0,
             "ticks": ""
            },
            "colorscale": [
             [
              0,
              "#0d0887"
             ],
             [
              0.1111111111111111,
              "#46039f"
             ],
             [
              0.2222222222222222,
              "#7201a8"
             ],
             [
              0.3333333333333333,
              "#9c179e"
             ],
             [
              0.4444444444444444,
              "#bd3786"
             ],
             [
              0.5555555555555556,
              "#d8576b"
             ],
             [
              0.6666666666666666,
              "#ed7953"
             ],
             [
              0.7777777777777778,
              "#fb9f3a"
             ],
             [
              0.8888888888888888,
              "#fdca26"
             ],
             [
              1,
              "#f0f921"
             ]
            ],
            "type": "heatmapgl"
           }
          ],
          "histogram": [
           {
            "marker": {
             "pattern": {
              "fillmode": "overlay",
              "size": 10,
              "solidity": 0.2
             }
            },
            "type": "histogram"
           }
          ],
          "histogram2d": [
           {
            "colorbar": {
             "outlinewidth": 0,
             "ticks": ""
            },
            "colorscale": [
             [
              0,
              "#0d0887"
             ],
             [
              0.1111111111111111,
              "#46039f"
             ],
             [
              0.2222222222222222,
              "#7201a8"
             ],
             [
              0.3333333333333333,
              "#9c179e"
             ],
             [
              0.4444444444444444,
              "#bd3786"
             ],
             [
              0.5555555555555556,
              "#d8576b"
             ],
             [
              0.6666666666666666,
              "#ed7953"
             ],
             [
              0.7777777777777778,
              "#fb9f3a"
             ],
             [
              0.8888888888888888,
              "#fdca26"
             ],
             [
              1,
              "#f0f921"
             ]
            ],
            "type": "histogram2d"
           }
          ],
          "histogram2dcontour": [
           {
            "colorbar": {
             "outlinewidth": 0,
             "ticks": ""
            },
            "colorscale": [
             [
              0,
              "#0d0887"
             ],
             [
              0.1111111111111111,
              "#46039f"
             ],
             [
              0.2222222222222222,
              "#7201a8"
             ],
             [
              0.3333333333333333,
              "#9c179e"
             ],
             [
              0.4444444444444444,
              "#bd3786"
             ],
             [
              0.5555555555555556,
              "#d8576b"
             ],
             [
              0.6666666666666666,
              "#ed7953"
             ],
             [
              0.7777777777777778,
              "#fb9f3a"
             ],
             [
              0.8888888888888888,
              "#fdca26"
             ],
             [
              1,
              "#f0f921"
             ]
            ],
            "type": "histogram2dcontour"
           }
          ],
          "mesh3d": [
           {
            "colorbar": {
             "outlinewidth": 0,
             "ticks": ""
            },
            "type": "mesh3d"
           }
          ],
          "parcoords": [
           {
            "line": {
             "colorbar": {
              "outlinewidth": 0,
              "ticks": ""
             }
            },
            "type": "parcoords"
           }
          ],
          "pie": [
           {
            "automargin": true,
            "type": "pie"
           }
          ],
          "scatter": [
           {
            "fillpattern": {
             "fillmode": "overlay",
             "size": 10,
             "solidity": 0.2
            },
            "type": "scatter"
           }
          ],
          "scatter3d": [
           {
            "line": {
             "colorbar": {
              "outlinewidth": 0,
              "ticks": ""
             }
            },
            "marker": {
             "colorbar": {
              "outlinewidth": 0,
              "ticks": ""
             }
            },
            "type": "scatter3d"
           }
          ],
          "scattercarpet": [
           {
            "marker": {
             "colorbar": {
              "outlinewidth": 0,
              "ticks": ""
             }
            },
            "type": "scattercarpet"
           }
          ],
          "scattergeo": [
           {
            "marker": {
             "colorbar": {
              "outlinewidth": 0,
              "ticks": ""
             }
            },
            "type": "scattergeo"
           }
          ],
          "scattergl": [
           {
            "marker": {
             "colorbar": {
              "outlinewidth": 0,
              "ticks": ""
             }
            },
            "type": "scattergl"
           }
          ],
          "scattermapbox": [
           {
            "marker": {
             "colorbar": {
              "outlinewidth": 0,
              "ticks": ""
             }
            },
            "type": "scattermapbox"
           }
          ],
          "scatterpolar": [
           {
            "marker": {
             "colorbar": {
              "outlinewidth": 0,
              "ticks": ""
             }
            },
            "type": "scatterpolar"
           }
          ],
          "scatterpolargl": [
           {
            "marker": {
             "colorbar": {
              "outlinewidth": 0,
              "ticks": ""
             }
            },
            "type": "scatterpolargl"
           }
          ],
          "scatterternary": [
           {
            "marker": {
             "colorbar": {
              "outlinewidth": 0,
              "ticks": ""
             }
            },
            "type": "scatterternary"
           }
          ],
          "surface": [
           {
            "colorbar": {
             "outlinewidth": 0,
             "ticks": ""
            },
            "colorscale": [
             [
              0,
              "#0d0887"
             ],
             [
              0.1111111111111111,
              "#46039f"
             ],
             [
              0.2222222222222222,
              "#7201a8"
             ],
             [
              0.3333333333333333,
              "#9c179e"
             ],
             [
              0.4444444444444444,
              "#bd3786"
             ],
             [
              0.5555555555555556,
              "#d8576b"
             ],
             [
              0.6666666666666666,
              "#ed7953"
             ],
             [
              0.7777777777777778,
              "#fb9f3a"
             ],
             [
              0.8888888888888888,
              "#fdca26"
             ],
             [
              1,
              "#f0f921"
             ]
            ],
            "type": "surface"
           }
          ],
          "table": [
           {
            "cells": {
             "fill": {
              "color": "#EBF0F8"
             },
             "line": {
              "color": "white"
             }
            },
            "header": {
             "fill": {
              "color": "#C8D4E3"
             },
             "line": {
              "color": "white"
             }
            },
            "type": "table"
           }
          ]
         },
         "layout": {
          "annotationdefaults": {
           "arrowcolor": "#2a3f5f",
           "arrowhead": 0,
           "arrowwidth": 1
          },
          "autotypenumbers": "strict",
          "coloraxis": {
           "colorbar": {
            "outlinewidth": 0,
            "ticks": ""
           }
          },
          "colorscale": {
           "diverging": [
            [
             0,
             "#8e0152"
            ],
            [
             0.1,
             "#c51b7d"
            ],
            [
             0.2,
             "#de77ae"
            ],
            [
             0.3,
             "#f1b6da"
            ],
            [
             0.4,
             "#fde0ef"
            ],
            [
             0.5,
             "#f7f7f7"
            ],
            [
             0.6,
             "#e6f5d0"
            ],
            [
             0.7,
             "#b8e186"
            ],
            [
             0.8,
             "#7fbc41"
            ],
            [
             0.9,
             "#4d9221"
            ],
            [
             1,
             "#276419"
            ]
           ],
           "sequential": [
            [
             0,
             "#0d0887"
            ],
            [
             0.1111111111111111,
             "#46039f"
            ],
            [
             0.2222222222222222,
             "#7201a8"
            ],
            [
             0.3333333333333333,
             "#9c179e"
            ],
            [
             0.4444444444444444,
             "#bd3786"
            ],
            [
             0.5555555555555556,
             "#d8576b"
            ],
            [
             0.6666666666666666,
             "#ed7953"
            ],
            [
             0.7777777777777778,
             "#fb9f3a"
            ],
            [
             0.8888888888888888,
             "#fdca26"
            ],
            [
             1,
             "#f0f921"
            ]
           ],
           "sequentialminus": [
            [
             0,
             "#0d0887"
            ],
            [
             0.1111111111111111,
             "#46039f"
            ],
            [
             0.2222222222222222,
             "#7201a8"
            ],
            [
             0.3333333333333333,
             "#9c179e"
            ],
            [
             0.4444444444444444,
             "#bd3786"
            ],
            [
             0.5555555555555556,
             "#d8576b"
            ],
            [
             0.6666666666666666,
             "#ed7953"
            ],
            [
             0.7777777777777778,
             "#fb9f3a"
            ],
            [
             0.8888888888888888,
             "#fdca26"
            ],
            [
             1,
             "#f0f921"
            ]
           ]
          },
          "colorway": [
           "#636efa",
           "#EF553B",
           "#00cc96",
           "#ab63fa",
           "#FFA15A",
           "#19d3f3",
           "#FF6692",
           "#B6E880",
           "#FF97FF",
           "#FECB52"
          ],
          "font": {
           "color": "#2a3f5f"
          },
          "geo": {
           "bgcolor": "white",
           "lakecolor": "white",
           "landcolor": "#E5ECF6",
           "showlakes": true,
           "showland": true,
           "subunitcolor": "white"
          },
          "hoverlabel": {
           "align": "left"
          },
          "hovermode": "closest",
          "mapbox": {
           "style": "light"
          },
          "paper_bgcolor": "white",
          "plot_bgcolor": "#E5ECF6",
          "polar": {
           "angularaxis": {
            "gridcolor": "white",
            "linecolor": "white",
            "ticks": ""
           },
           "bgcolor": "#E5ECF6",
           "radialaxis": {
            "gridcolor": "white",
            "linecolor": "white",
            "ticks": ""
           }
          },
          "scene": {
           "xaxis": {
            "backgroundcolor": "#E5ECF6",
            "gridcolor": "white",
            "gridwidth": 2,
            "linecolor": "white",
            "showbackground": true,
            "ticks": "",
            "zerolinecolor": "white"
           },
           "yaxis": {
            "backgroundcolor": "#E5ECF6",
            "gridcolor": "white",
            "gridwidth": 2,
            "linecolor": "white",
            "showbackground": true,
            "ticks": "",
            "zerolinecolor": "white"
           },
           "zaxis": {
            "backgroundcolor": "#E5ECF6",
            "gridcolor": "white",
            "gridwidth": 2,
            "linecolor": "white",
            "showbackground": true,
            "ticks": "",
            "zerolinecolor": "white"
           }
          },
          "shapedefaults": {
           "line": {
            "color": "#2a3f5f"
           }
          },
          "ternary": {
           "aaxis": {
            "gridcolor": "white",
            "linecolor": "white",
            "ticks": ""
           },
           "baxis": {
            "gridcolor": "white",
            "linecolor": "white",
            "ticks": ""
           },
           "bgcolor": "#E5ECF6",
           "caxis": {
            "gridcolor": "white",
            "linecolor": "white",
            "ticks": ""
           }
          },
          "title": {
           "x": 0.05
          },
          "xaxis": {
           "automargin": true,
           "gridcolor": "white",
           "linecolor": "white",
           "ticks": "",
           "title": {
            "standoff": 15
           },
           "zerolinecolor": "white",
           "zerolinewidth": 2
          },
          "yaxis": {
           "automargin": true,
           "gridcolor": "white",
           "linecolor": "white",
           "ticks": "",
           "title": {
            "standoff": 15
           },
           "zerolinecolor": "white",
           "zerolinewidth": 2
          }
         }
        }
       }
      }
     },
     "metadata": {},
     "output_type": "display_data"
    }
   ],
   "source": [
    "import plotly.graph_objects as go\n",
    "\n",
    "# Beispiel-Daten: Windrichtung in Grad (0° = N, 90° = E, 180° = S, 270° = W)\n",
    "wind_directions = [0]  # Nord\n",
    "wind_speeds = [30]  # Windgeschwindigkeit\n",
    "\n",
    "# Erstellen des Plots\n",
    "fig = go.Figure()\n",
    "\n",
    "fig.add_trace(go.Barpolar(\n",
    "    r=wind_speeds,  # Windgeschwindigkeit als Radius\n",
    "    theta=wind_directions,  # Windrichtung in Grad\n",
    "    width=45,  # Breite der Balken (45° für 8 Himmelsrichtungen)\n",
    "    marker=dict(\n",
    "        color=wind_speeds,\n",
    "        colorscale='Oranges',\n",
    "        showscale=True,\n",
    "        colorbar=dict(\n",
    "            x=0.8,  # Näher ans Diagramm bringen (1.0 wäre ganz rechts)\n",
    "            y=0.5,  # In die Mitte des Diagramms setzen\n",
    "            len=0.5,  # Höhe der Colorbar reduzieren\n",
    "            title=\"Wind (m/s)\"  # Titel der Skala\n",
    "        )\n",
    "    )\n",
    "))\n",
    "\n",
    "# Theme anwenden\n",
    "fig.update_layout(\n",
    "    plot_bgcolor=\"#78d278\",  # Hintergrund des Plots\n",
    "    font=dict(color=\"#053246\"),  # Allgemeine Textfarbe\n",
    "    polar=dict(\n",
    "        radialaxis=dict(showticklabels=False, ticksuffix=\" m/s\"),\n",
    "        angularaxis=dict(direction=\"clockwise\", tickmode=\"array\",\n",
    "                         tickvals=[0, 90, 180, 270],\n",
    "                         ticktext=['N', 'E', 'S', 'W'])  # Himmelsrichtungen\n",
    "    )\n",
    ")\n",
    "\n",
    "fig.show()\n"
   ]
  },
  {
   "cell_type": "code",
   "execution_count": 5,
   "metadata": {},
   "outputs": [
    {
     "name": "stdout",
     "output_type": "stream",
     "text": [
      "\u001b[31mSignature:\u001b[39m\n",
      "copernicusmarine.get(\n",
      "    dataset_id: Optional[str] = \u001b[38;5;28;01mNone\u001b[39;00m,\n",
      "    dataset_version: Optional[str] = \u001b[38;5;28;01mNone\u001b[39;00m,\n",
      "    dataset_part: Optional[str] = \u001b[38;5;28;01mNone\u001b[39;00m,\n",
      "    username: Optional[str] = \u001b[38;5;28;01mNone\u001b[39;00m,\n",
      "    password: Optional[str] = \u001b[38;5;28;01mNone\u001b[39;00m,\n",
      "    no_directories: bool = \u001b[38;5;28;01mFalse\u001b[39;00m,\n",
      "    output_directory: Union[pathlib.Path, str, NoneType] = \u001b[38;5;28;01mNone\u001b[39;00m,\n",
      "    credentials_file: Union[pathlib.Path, str, NoneType] = \u001b[38;5;28;01mNone\u001b[39;00m,\n",
      "    overwrite: bool = \u001b[38;5;28;01mFalse\u001b[39;00m,\n",
      "    request_file: Union[pathlib.Path, str, NoneType] = \u001b[38;5;28;01mNone\u001b[39;00m,\n",
      "    filter: Optional[str] = \u001b[38;5;28;01mNone\u001b[39;00m,\n",
      "    regex: Optional[str] = \u001b[38;5;28;01mNone\u001b[39;00m,\n",
      "    file_list: Union[pathlib.Path, str, NoneType] = \u001b[38;5;28;01mNone\u001b[39;00m,\n",
      "    create_file_list: Optional[str] = \u001b[38;5;28;01mNone\u001b[39;00m,\n",
      "    index_parts: bool = \u001b[38;5;28;01mFalse\u001b[39;00m,\n",
      "    sync: bool = \u001b[38;5;28;01mFalse\u001b[39;00m,\n",
      "    sync_delete: bool = \u001b[38;5;28;01mFalse\u001b[39;00m,\n",
      "    skip_existing: bool = \u001b[38;5;28;01mFalse\u001b[39;00m,\n",
      "    dry_run: bool = \u001b[38;5;28;01mFalse\u001b[39;00m,\n",
      "    max_concurrent_requests: int = \u001b[32m15\u001b[39m,\n",
      "    disable_progress_bar: bool = \u001b[38;5;28;01mFalse\u001b[39;00m,\n",
      "    staging: bool = \u001b[38;5;28;01mFalse\u001b[39;00m,\n",
      ") -> copernicusmarine.core_functions.models.ResponseGet\n",
      "\u001b[31mDocstring:\u001b[39m\n",
      "Download originally produced data files.\n",
      "\n",
      "The datasetID is required (either as an argument or in a request file) and can be found via the ``describe`` command.\n",
      "\n",
      "Parameters\n",
      "----------\n",
      "dataset_id : str, optional\n",
      "    The datasetID, required either as an argument or in the request_file option.\n",
      "dataset_version : str, optional\n",
      "    Force the selection of a specific dataset version.\n",
      "dataset_part : str, optional\n",
      "    Force the selection of a specific dataset part.\n",
      "username : str, optional\n",
      "    If not set, search for environment variable COPERNICUSMARINE_SERVICE_USERNAME, then search for a credentials file, else ask for user input. See also :func:`~copernicusmarine.login`\n",
      "password : str, optional\n",
      "    If not set, search for environment variable COPERNICUSMARINE_SERVICE_PASSWORD, then search for a credentials file, else ask for user input. See also :func:`~copernicusmarine.login`\n",
      "no_directories : bool, optional\n",
      "    If True, downloaded files will not be organized into directories.\n",
      "output_directory : Union[pathlib.Path, str], optional\n",
      "    The destination folder for the downloaded files. Default is the current directory.\n",
      "credentials_file : Union[pathlib.Path, str], optional\n",
      "    Path to a credentials file if not in its default directory (``$HOME/.copernicusmarine``). Accepts .copernicusmarine-credentials / .netrc or _netrc / motuclient-python.ini files.\n",
      "overwrite : bool, optional\n",
      "    If specified and if the file already exists on destination, then it will be overwritten. By default, the toolbox creates a new file with a new index (eg 'filename_(1).nc').\n",
      "request_file : Union[pathlib.Path, str], optional\n",
      "    Option to pass a file containing the arguments. For more information please refer to the documentation or use option ``--create-template`` from the command line interface for an example template.\n",
      "filter : str, optional\n",
      "    A pattern that must match the absolute paths of the files to download.\n",
      "regex : str, optional\n",
      "    The regular expression that must match the absolute paths of the files to download.\n",
      "file_list : Union[pathlib.Path, str], optional\n",
      "    Path to a '.txt' file containing a list of file paths, line by line, that will be downloaded directly. These files must be from the same dataset as the one specified dataset with the datasetID option. If no files can be found, the Toolbox will list all files on the remote server and attempt to find a match.\n",
      "create_file_list : str, optional\n",
      "    Option to only create a file containing the names of the targeted files instead of downloading them. It writes the file to the specified output directory (default to current directory). The file name specified should end with '.txt' or '.csv'. If specified, no other action will be performed.\n",
      "sync : bool, optional\n",
      "    Option to synchronize the local directory with the remote directory. See the documentation for more details.\n",
      "sync_delete : bool, optional\n",
      "    Option to delete local files that are not present on the remote server while applying sync.\n",
      "skip_existing : bool, optional\n",
      "    If the files already exists where it would be downloaded, then the download is skipped for this file. By default, the toolbox creates a new file with a new index (eg 'filename_(1).nc').\n",
      "index_parts : bool, optional\n",
      "    Option to get the index files of an INSITU dataset.\n",
      "dry_run : bool, optional\n",
      "    If True, runs query without downloading data.\n",
      "max_concurrent_requests : int, optional\n",
      "    Maximum number of concurrent requests. Default 15. The command uses a thread pool executor to manage concurrent requests. If set to 0, no parallel executions are used.\n",
      "disable_progress_bar : bool, optional\n",
      "    Flag to hide progress bar.\n",
      "\n",
      "Returns\n",
      "-------\n",
      "ResponseGet\n",
      "    A list of files that were downloaded and some metadata.\n",
      "\u001b[31mFile:\u001b[39m      ~/venv/.main/lib/python3.12/site-packages/copernicusmarine/python_interface/get.py\n",
      "\u001b[31mType:\u001b[39m      function"
     ]
    }
   ],
   "source": [
    "import copernicusmarine\n",
    "\n",
    "copernicusmarine.get?"
   ]
  },
  {
   "cell_type": "code",
   "execution_count": 1,
   "metadata": {},
   "outputs": [
    {
     "name": "stderr",
     "output_type": "stream",
     "text": [
      "/home/marco/venv/.main/lib/python3.12/site-packages/tqdm/auto.py:21: TqdmWarning: IProgress not found. Please update jupyter and ipywidgets. See https://ipywidgets.readthedocs.io/en/stable/user_install.html\n",
      "  from .autonotebook import tqdm as notebook_tqdm\n",
      "INFO - 2025-03-19T20:39:52Z - Selected dataset version: \"202411\"\n",
      "INFO - 2025-03-19T20:39:52Z - Selected dataset part: \"default\"\n",
      "INFO - 2025-03-19T20:39:52Z - Listing files on remote server...\n",
      "2it [00:00,  3.46it/s]\n",
      "Downloading files: 100%|██████████| 2/2 [00:43<00:00, 21.68s/it]\n"
     ]
    }
   ],
   "source": [
    "import copernicusmarine \n",
    "# copernicusmarine.get(\n",
    "#     dataset_id='cmems_obs-ins_glo_phybgcwav_mynrt_na_irr'\n",
    "# )\n",
    "\n",
    "# cmems_mod_bal_phy_anfc_PT1H-i\n",
    "#'cmems_obs-ins_glo_phybgcwav_mynrt_na_irr'\n",
    "query_metadata = copernicusmarine.get(dataset_id='cmems_mod_bal_phy_anfc_PT1H-i', \n",
    "                                      username='mbanzhaf',\n",
    "                                      password='6bF$ebvr',\n",
    "                                      filter=\"*20250318*\",\n",
    "                                      #dry_run=True\n",
    "                                      )\n",
    "\n",
    "# for file in query_metadata.files:\n",
    "#     print(file.file_path)"
   ]
  },
  {
   "cell_type": "code",
   "execution_count": null,
   "metadata": {},
   "outputs": [
    {
     "data": {
      "text/html": [
       "<div><svg style=\"position: absolute; width: 0; height: 0; overflow: hidden\">\n",
       "<defs>\n",
       "<symbol id=\"icon-database\" viewBox=\"0 0 32 32\">\n",
       "<path d=\"M16 0c-8.837 0-16 2.239-16 5v4c0 2.761 7.163 5 16 5s16-2.239 16-5v-4c0-2.761-7.163-5-16-5z\"></path>\n",
       "<path d=\"M16 17c-8.837 0-16-2.239-16-5v6c0 2.761 7.163 5 16 5s16-2.239 16-5v-6c0 2.761-7.163 5-16 5z\"></path>\n",
       "<path d=\"M16 26c-8.837 0-16-2.239-16-5v6c0 2.761 7.163 5 16 5s16-2.239 16-5v-6c0 2.761-7.163 5-16 5z\"></path>\n",
       "</symbol>\n",
       "<symbol id=\"icon-file-text2\" viewBox=\"0 0 32 32\">\n",
       "<path d=\"M28.681 7.159c-0.694-0.947-1.662-2.053-2.724-3.116s-2.169-2.030-3.116-2.724c-1.612-1.182-2.393-1.319-2.841-1.319h-15.5c-1.378 0-2.5 1.121-2.5 2.5v27c0 1.378 1.122 2.5 2.5 2.5h23c1.378 0 2.5-1.122 2.5-2.5v-19.5c0-0.448-0.137-1.23-1.319-2.841zM24.543 5.457c0.959 0.959 1.712 1.825 2.268 2.543h-4.811v-4.811c0.718 0.556 1.584 1.309 2.543 2.268zM28 29.5c0 0.271-0.229 0.5-0.5 0.5h-23c-0.271 0-0.5-0.229-0.5-0.5v-27c0-0.271 0.229-0.5 0.5-0.5 0 0 15.499-0 15.5 0v7c0 0.552 0.448 1 1 1h7v19.5z\"></path>\n",
       "<path d=\"M23 26h-14c-0.552 0-1-0.448-1-1s0.448-1 1-1h14c0.552 0 1 0.448 1 1s-0.448 1-1 1z\"></path>\n",
       "<path d=\"M23 22h-14c-0.552 0-1-0.448-1-1s0.448-1 1-1h14c0.552 0 1 0.448 1 1s-0.448 1-1 1z\"></path>\n",
       "<path d=\"M23 18h-14c-0.552 0-1-0.448-1-1s0.448-1 1-1h14c0.552 0 1 0.448 1 1s-0.448 1-1 1z\"></path>\n",
       "</symbol>\n",
       "</defs>\n",
       "</svg>\n",
       "<style>/* CSS stylesheet for displaying xarray objects in jupyterlab.\n",
       " *\n",
       " */\n",
       "\n",
       ":root {\n",
       "  --xr-font-color0: var(--jp-content-font-color0, rgba(0, 0, 0, 1));\n",
       "  --xr-font-color2: var(--jp-content-font-color2, rgba(0, 0, 0, 0.54));\n",
       "  --xr-font-color3: var(--jp-content-font-color3, rgba(0, 0, 0, 0.38));\n",
       "  --xr-border-color: var(--jp-border-color2, #e0e0e0);\n",
       "  --xr-disabled-color: var(--jp-layout-color3, #bdbdbd);\n",
       "  --xr-background-color: var(--jp-layout-color0, white);\n",
       "  --xr-background-color-row-even: var(--jp-layout-color1, white);\n",
       "  --xr-background-color-row-odd: var(--jp-layout-color2, #eeeeee);\n",
       "}\n",
       "\n",
       "html[theme=\"dark\"],\n",
       "html[data-theme=\"dark\"],\n",
       "body[data-theme=\"dark\"],\n",
       "body.vscode-dark {\n",
       "  --xr-font-color0: rgba(255, 255, 255, 1);\n",
       "  --xr-font-color2: rgba(255, 255, 255, 0.54);\n",
       "  --xr-font-color3: rgba(255, 255, 255, 0.38);\n",
       "  --xr-border-color: #1f1f1f;\n",
       "  --xr-disabled-color: #515151;\n",
       "  --xr-background-color: #111111;\n",
       "  --xr-background-color-row-even: #111111;\n",
       "  --xr-background-color-row-odd: #313131;\n",
       "}\n",
       "\n",
       ".xr-wrap {\n",
       "  display: block !important;\n",
       "  min-width: 300px;\n",
       "  max-width: 700px;\n",
       "}\n",
       "\n",
       ".xr-text-repr-fallback {\n",
       "  /* fallback to plain text repr when CSS is not injected (untrusted notebook) */\n",
       "  display: none;\n",
       "}\n",
       "\n",
       ".xr-header {\n",
       "  padding-top: 6px;\n",
       "  padding-bottom: 6px;\n",
       "  margin-bottom: 4px;\n",
       "  border-bottom: solid 1px var(--xr-border-color);\n",
       "}\n",
       "\n",
       ".xr-header > div,\n",
       ".xr-header > ul {\n",
       "  display: inline;\n",
       "  margin-top: 0;\n",
       "  margin-bottom: 0;\n",
       "}\n",
       "\n",
       ".xr-obj-type,\n",
       ".xr-array-name {\n",
       "  margin-left: 2px;\n",
       "  margin-right: 10px;\n",
       "}\n",
       "\n",
       ".xr-obj-type {\n",
       "  color: var(--xr-font-color2);\n",
       "}\n",
       "\n",
       ".xr-sections {\n",
       "  padding-left: 0 !important;\n",
       "  display: grid;\n",
       "  grid-template-columns: 150px auto auto 1fr 0 20px 0 20px;\n",
       "}\n",
       "\n",
       ".xr-section-item {\n",
       "  display: contents;\n",
       "}\n",
       "\n",
       ".xr-section-item input {\n",
       "  display: inline-block;\n",
       "  opacity: 0;\n",
       "  height: 0;\n",
       "}\n",
       "\n",
       ".xr-section-item input + label {\n",
       "  color: var(--xr-disabled-color);\n",
       "}\n",
       "\n",
       ".xr-section-item input:enabled + label {\n",
       "  cursor: pointer;\n",
       "  color: var(--xr-font-color2);\n",
       "}\n",
       "\n",
       ".xr-section-item input:focus + label {\n",
       "  border: 2px solid var(--xr-font-color0);\n",
       "}\n",
       "\n",
       ".xr-section-item input:enabled + label:hover {\n",
       "  color: var(--xr-font-color0);\n",
       "}\n",
       "\n",
       ".xr-section-summary {\n",
       "  grid-column: 1;\n",
       "  color: var(--xr-font-color2);\n",
       "  font-weight: 500;\n",
       "}\n",
       "\n",
       ".xr-section-summary > span {\n",
       "  display: inline-block;\n",
       "  padding-left: 0.5em;\n",
       "}\n",
       "\n",
       ".xr-section-summary-in:disabled + label {\n",
       "  color: var(--xr-font-color2);\n",
       "}\n",
       "\n",
       ".xr-section-summary-in + label:before {\n",
       "  display: inline-block;\n",
       "  content: \"►\";\n",
       "  font-size: 11px;\n",
       "  width: 15px;\n",
       "  text-align: center;\n",
       "}\n",
       "\n",
       ".xr-section-summary-in:disabled + label:before {\n",
       "  color: var(--xr-disabled-color);\n",
       "}\n",
       "\n",
       ".xr-section-summary-in:checked + label:before {\n",
       "  content: \"▼\";\n",
       "}\n",
       "\n",
       ".xr-section-summary-in:checked + label > span {\n",
       "  display: none;\n",
       "}\n",
       "\n",
       ".xr-section-summary,\n",
       ".xr-section-inline-details {\n",
       "  padding-top: 4px;\n",
       "  padding-bottom: 4px;\n",
       "}\n",
       "\n",
       ".xr-section-inline-details {\n",
       "  grid-column: 2 / -1;\n",
       "}\n",
       "\n",
       ".xr-section-details {\n",
       "  display: none;\n",
       "  grid-column: 1 / -1;\n",
       "  margin-bottom: 5px;\n",
       "}\n",
       "\n",
       ".xr-section-summary-in:checked ~ .xr-section-details {\n",
       "  display: contents;\n",
       "}\n",
       "\n",
       ".xr-array-wrap {\n",
       "  grid-column: 1 / -1;\n",
       "  display: grid;\n",
       "  grid-template-columns: 20px auto;\n",
       "}\n",
       "\n",
       ".xr-array-wrap > label {\n",
       "  grid-column: 1;\n",
       "  vertical-align: top;\n",
       "}\n",
       "\n",
       ".xr-preview {\n",
       "  color: var(--xr-font-color3);\n",
       "}\n",
       "\n",
       ".xr-array-preview,\n",
       ".xr-array-data {\n",
       "  padding: 0 5px !important;\n",
       "  grid-column: 2;\n",
       "}\n",
       "\n",
       ".xr-array-data,\n",
       ".xr-array-in:checked ~ .xr-array-preview {\n",
       "  display: none;\n",
       "}\n",
       "\n",
       ".xr-array-in:checked ~ .xr-array-data,\n",
       ".xr-array-preview {\n",
       "  display: inline-block;\n",
       "}\n",
       "\n",
       ".xr-dim-list {\n",
       "  display: inline-block !important;\n",
       "  list-style: none;\n",
       "  padding: 0 !important;\n",
       "  margin: 0;\n",
       "}\n",
       "\n",
       ".xr-dim-list li {\n",
       "  display: inline-block;\n",
       "  padding: 0;\n",
       "  margin: 0;\n",
       "}\n",
       "\n",
       ".xr-dim-list:before {\n",
       "  content: \"(\";\n",
       "}\n",
       "\n",
       ".xr-dim-list:after {\n",
       "  content: \")\";\n",
       "}\n",
       "\n",
       ".xr-dim-list li:not(:last-child):after {\n",
       "  content: \",\";\n",
       "  padding-right: 5px;\n",
       "}\n",
       "\n",
       ".xr-has-index {\n",
       "  font-weight: bold;\n",
       "}\n",
       "\n",
       ".xr-var-list,\n",
       ".xr-var-item {\n",
       "  display: contents;\n",
       "}\n",
       "\n",
       ".xr-var-item > div,\n",
       ".xr-var-item label,\n",
       ".xr-var-item > .xr-var-name span {\n",
       "  background-color: var(--xr-background-color-row-even);\n",
       "  margin-bottom: 0;\n",
       "}\n",
       "\n",
       ".xr-var-item > .xr-var-name:hover span {\n",
       "  padding-right: 5px;\n",
       "}\n",
       "\n",
       ".xr-var-list > li:nth-child(odd) > div,\n",
       ".xr-var-list > li:nth-child(odd) > label,\n",
       ".xr-var-list > li:nth-child(odd) > .xr-var-name span {\n",
       "  background-color: var(--xr-background-color-row-odd);\n",
       "}\n",
       "\n",
       ".xr-var-name {\n",
       "  grid-column: 1;\n",
       "}\n",
       "\n",
       ".xr-var-dims {\n",
       "  grid-column: 2;\n",
       "}\n",
       "\n",
       ".xr-var-dtype {\n",
       "  grid-column: 3;\n",
       "  text-align: right;\n",
       "  color: var(--xr-font-color2);\n",
       "}\n",
       "\n",
       ".xr-var-preview {\n",
       "  grid-column: 4;\n",
       "}\n",
       "\n",
       ".xr-index-preview {\n",
       "  grid-column: 2 / 5;\n",
       "  color: var(--xr-font-color2);\n",
       "}\n",
       "\n",
       ".xr-var-name,\n",
       ".xr-var-dims,\n",
       ".xr-var-dtype,\n",
       ".xr-preview,\n",
       ".xr-attrs dt {\n",
       "  white-space: nowrap;\n",
       "  overflow: hidden;\n",
       "  text-overflow: ellipsis;\n",
       "  padding-right: 10px;\n",
       "}\n",
       "\n",
       ".xr-var-name:hover,\n",
       ".xr-var-dims:hover,\n",
       ".xr-var-dtype:hover,\n",
       ".xr-attrs dt:hover {\n",
       "  overflow: visible;\n",
       "  width: auto;\n",
       "  z-index: 1;\n",
       "}\n",
       "\n",
       ".xr-var-attrs,\n",
       ".xr-var-data,\n",
       ".xr-index-data {\n",
       "  display: none;\n",
       "  background-color: var(--xr-background-color) !important;\n",
       "  padding-bottom: 5px !important;\n",
       "}\n",
       "\n",
       ".xr-var-attrs-in:checked ~ .xr-var-attrs,\n",
       ".xr-var-data-in:checked ~ .xr-var-data,\n",
       ".xr-index-data-in:checked ~ .xr-index-data {\n",
       "  display: block;\n",
       "}\n",
       "\n",
       ".xr-var-data > table {\n",
       "  float: right;\n",
       "}\n",
       "\n",
       ".xr-var-name span,\n",
       ".xr-var-data,\n",
       ".xr-index-name div,\n",
       ".xr-index-data,\n",
       ".xr-attrs {\n",
       "  padding-left: 25px !important;\n",
       "}\n",
       "\n",
       ".xr-attrs,\n",
       ".xr-var-attrs,\n",
       ".xr-var-data,\n",
       ".xr-index-data {\n",
       "  grid-column: 1 / -1;\n",
       "}\n",
       "\n",
       "dl.xr-attrs {\n",
       "  padding: 0;\n",
       "  margin: 0;\n",
       "  display: grid;\n",
       "  grid-template-columns: 125px auto;\n",
       "}\n",
       "\n",
       ".xr-attrs dt,\n",
       ".xr-attrs dd {\n",
       "  padding: 0;\n",
       "  margin: 0;\n",
       "  float: left;\n",
       "  padding-right: 10px;\n",
       "  width: auto;\n",
       "}\n",
       "\n",
       ".xr-attrs dt {\n",
       "  font-weight: normal;\n",
       "  grid-column: 1;\n",
       "}\n",
       "\n",
       ".xr-attrs dt:hover span {\n",
       "  display: inline-block;\n",
       "  background: var(--xr-background-color);\n",
       "  padding-right: 10px;\n",
       "}\n",
       "\n",
       ".xr-attrs dd {\n",
       "  grid-column: 2;\n",
       "  white-space: pre-wrap;\n",
       "  word-break: break-all;\n",
       "}\n",
       "\n",
       ".xr-icon-database,\n",
       ".xr-icon-file-text2,\n",
       ".xr-no-icon {\n",
       "  display: inline-block;\n",
       "  vertical-align: middle;\n",
       "  width: 1em;\n",
       "  height: 1.5em !important;\n",
       "  stroke-width: 0;\n",
       "  stroke: currentColor;\n",
       "  fill: currentColor;\n",
       "}\n",
       "</style><pre class='xr-text-repr-fallback'>&lt;xarray.Dataset&gt; Size: 8GB\n",
       "Dimensions:  (time: 12, depth: 56, lon: 763, lat: 774)\n",
       "Coordinates:\n",
       "  * time     (time) datetime64[ns] 96B 2025-03-18T01:00:00 ... 2025-03-18T12:...\n",
       "  * depth    (depth) float32 224B 0.5016 1.516 2.548 3.602 ... 663.9 688.0 712.0\n",
       "  * lon      (lon) float32 3kB 9.042 9.069 9.097 9.125 ... 30.15 30.18 30.21\n",
       "  * lat      (lat) float32 3kB 53.01 53.02 53.04 53.06 ... 65.86 65.87 65.89\n",
       "Data variables:\n",
       "    thetao   (time, depth, lat, lon) float32 2GB ...\n",
       "    so       (time, depth, lat, lon) float32 2GB ...\n",
       "    uo       (time, depth, lat, lon) float32 2GB ...\n",
       "    vo       (time, depth, lat, lon) float32 2GB ...\n",
       "    wo       (time, depth, lat, lon) float32 2GB ...\n",
       "    bottomT  (time, lat, lon) float32 28MB ...\n",
       "    sob      (time, lat, lon) float32 28MB ...\n",
       "    sla      (time, lat, lon) float32 28MB ...\n",
       "    sithick  (time, lat, lon) float32 28MB ...\n",
       "    siconc   (time, lat, lon) float32 28MB ...\n",
       "    mlotst   (time, lat, lon) float32 28MB ...\n",
       "Attributes: (12/18)\n",
       "    comment:                Data on cropped native product grid. Horizontal v...\n",
       "    grid_resolution:        ~1 nautical mile (1min latitude; 1min40sec longit...\n",
       "    title:                  CMEMS NEMO hourly model fields\n",
       "    Conventions:            CF-1.0\n",
       "    source:                 CMEMS BAL MFC NEMO model output converted to NetCDF\n",
       "    contact:                servicedesk.cmems@mercator-ocean.eu\n",
       "    ...                     ...\n",
       "    netcdf_version_id:      4.9.4-development of Oct  7 2024 08:34:05 $\n",
       "    easternmost_longitude:  30.208656\n",
       "    northernmost_latitude:  65.89099\n",
       "    westernmost_longitude:  9.041582\n",
       "    southernmost_latitude:  53.008297\n",
       "    start_date:             2025-03-18 01:00:00</pre><div class='xr-wrap' style='display:none'><div class='xr-header'><div class='xr-obj-type'>xarray.Dataset</div></div><ul class='xr-sections'><li class='xr-section-item'><input id='section-49fbfb6b-f335-42dd-8e97-84aa6e34657c' class='xr-section-summary-in' type='checkbox' disabled ><label for='section-49fbfb6b-f335-42dd-8e97-84aa6e34657c' class='xr-section-summary'  title='Expand/collapse section'>Dimensions:</label><div class='xr-section-inline-details'><ul class='xr-dim-list'><li><span class='xr-has-index'>time</span>: 12</li><li><span class='xr-has-index'>depth</span>: 56</li><li><span class='xr-has-index'>lon</span>: 763</li><li><span class='xr-has-index'>lat</span>: 774</li></ul></div><div class='xr-section-details'></div></li><li class='xr-section-item'><input id='section-3d55643d-cf6b-4b80-a770-8b77843604f0' class='xr-section-summary-in' type='checkbox'  checked><label for='section-3d55643d-cf6b-4b80-a770-8b77843604f0' class='xr-section-summary' >Coordinates: <span>(4)</span></label><div class='xr-section-inline-details'></div><div class='xr-section-details'><ul class='xr-var-list'><li class='xr-var-item'><div class='xr-var-name'><span class='xr-has-index'>time</span></div><div class='xr-var-dims'>(time)</div><div class='xr-var-dtype'>datetime64[ns]</div><div class='xr-var-preview xr-preview'>2025-03-18T01:00:00 ... 2025-03-...</div><input id='attrs-e183be17-7dbc-42c3-b718-9e4afee0579f' class='xr-var-attrs-in' type='checkbox' ><label for='attrs-e183be17-7dbc-42c3-b718-9e4afee0579f' title='Show/Hide attributes'><svg class='icon xr-icon-file-text2'><use xlink:href='#icon-file-text2'></use></svg></label><input id='data-75d3160e-ec9f-4207-b90a-95c001b5c82e' class='xr-var-data-in' type='checkbox'><label for='data-75d3160e-ec9f-4207-b90a-95c001b5c82e' title='Show/Hide data repr'><svg class='icon xr-icon-database'><use xlink:href='#icon-database'></use></svg></label><div class='xr-var-attrs'><dl class='xr-attrs'><dt><span>long_name :</span></dt><dd>time</dd><dt><span>standard_name :</span></dt><dd>time</dd><dt><span>axis :</span></dt><dd>T</dd></dl></div><div class='xr-var-data'><pre>array([&#x27;2025-03-18T01:00:00.000000000&#x27;, &#x27;2025-03-18T02:00:00.000000000&#x27;,\n",
       "       &#x27;2025-03-18T03:00:00.000000000&#x27;, &#x27;2025-03-18T04:00:00.000000000&#x27;,\n",
       "       &#x27;2025-03-18T05:00:00.000000000&#x27;, &#x27;2025-03-18T06:00:00.000000000&#x27;,\n",
       "       &#x27;2025-03-18T07:00:00.000000000&#x27;, &#x27;2025-03-18T08:00:00.000000000&#x27;,\n",
       "       &#x27;2025-03-18T09:00:00.000000000&#x27;, &#x27;2025-03-18T10:00:00.000000000&#x27;,\n",
       "       &#x27;2025-03-18T11:00:00.000000000&#x27;, &#x27;2025-03-18T12:00:00.000000000&#x27;],\n",
       "      dtype=&#x27;datetime64[ns]&#x27;)</pre></div></li><li class='xr-var-item'><div class='xr-var-name'><span class='xr-has-index'>depth</span></div><div class='xr-var-dims'>(depth)</div><div class='xr-var-dtype'>float32</div><div class='xr-var-preview xr-preview'>0.5016 1.516 2.548 ... 688.0 712.0</div><input id='attrs-e10ba63b-7430-449d-85f3-5530d44c2510' class='xr-var-attrs-in' type='checkbox' ><label for='attrs-e10ba63b-7430-449d-85f3-5530d44c2510' title='Show/Hide attributes'><svg class='icon xr-icon-file-text2'><use xlink:href='#icon-file-text2'></use></svg></label><input id='data-7e69fa94-7c85-44a8-80bb-969c559dcffc' class='xr-var-data-in' type='checkbox'><label for='data-7e69fa94-7c85-44a8-80bb-969c559dcffc' title='Show/Hide data repr'><svg class='icon xr-icon-database'><use xlink:href='#icon-database'></use></svg></label><div class='xr-var-attrs'><dl class='xr-attrs'><dt><span>units :</span></dt><dd>m</dd><dt><span>comment :</span></dt><dd></dd><dt><span>unit_long :</span></dt><dd>meters</dd><dt><span>reference :</span></dt><dd>sea_level SeaDataNet L111</dd><dt><span>positive :</span></dt><dd>down</dd><dt><span>uncertainty :</span></dt><dd></dd><dt><span>valid_min :</span></dt><dd>0.0</dd><dt><span>QC_procedure :</span></dt><dd>1</dd><dt><span>long_name :</span></dt><dd>Depth of each measurement</dd><dt><span>standard_name :</span></dt><dd>depth</dd><dt><span>QC_indicator :</span></dt><dd>1</dd><dt><span>valid_max :</span></dt><dd>12000.0</dd><dt><span>axis :</span></dt><dd>Z</dd></dl></div><div class='xr-var-data'><pre>array([5.016462e-01, 1.515992e+00, 2.548084e+00, 3.602298e+00, 4.684081e+00,\n",
       "       5.800200e+00, 6.959055e+00, 8.171057e+00, 9.449085e+00, 1.080904e+01,\n",
       "       1.227047e+01, 1.385737e+01, 1.559901e+01, 1.753092e+01, 1.969594e+01,\n",
       "       2.214526e+01, 2.493938e+01, 2.814896e+01, 3.185507e+01, 3.614899e+01,\n",
       "       4.113091e+01, 4.690754e+01, 5.358818e+01, 6.127954e+01, 7.007922e+01,\n",
       "       8.006874e+01, 9.130695e+01, 1.038247e+02, 1.176220e+02, 1.326680e+02,\n",
       "       1.489038e+02, 1.662480e+02, 1.846028e+02, 2.038617e+02, 2.239153e+02,\n",
       "       2.446568e+02, 2.659862e+02, 2.878122e+02, 3.100536e+02, 3.326397e+02,\n",
       "       3.555102e+02, 3.786138e+02, 4.019077e+02, 4.253563e+02, 4.489304e+02,\n",
       "       4.726059e+02, 4.963634e+02, 5.201869e+02, 5.440635e+02, 5.679829e+02,\n",
       "       5.919366e+02, 6.159179e+02, 6.399213e+02, 6.639425e+02, 6.879779e+02,\n",
       "       7.120247e+02], dtype=float32)</pre></div></li><li class='xr-var-item'><div class='xr-var-name'><span class='xr-has-index'>lon</span></div><div class='xr-var-dims'>(lon)</div><div class='xr-var-dtype'>float32</div><div class='xr-var-preview xr-preview'>9.042 9.069 9.097 ... 30.18 30.21</div><input id='attrs-ba936bd1-a8d9-4639-9740-64aa634ffe87' class='xr-var-attrs-in' type='checkbox' ><label for='attrs-ba936bd1-a8d9-4639-9740-64aa634ffe87' title='Show/Hide attributes'><svg class='icon xr-icon-file-text2'><use xlink:href='#icon-file-text2'></use></svg></label><input id='data-b6210c8a-d023-4823-93f6-45064b5790be' class='xr-var-data-in' type='checkbox'><label for='data-b6210c8a-d023-4823-93f6-45064b5790be' title='Show/Hide data repr'><svg class='icon xr-icon-database'><use xlink:href='#icon-database'></use></svg></label><div class='xr-var-attrs'><dl class='xr-attrs'><dt><span>units :</span></dt><dd>degrees_east</dd><dt><span>long_name :</span></dt><dd>Longitude of each location</dd><dt><span>standard_name :</span></dt><dd>longitude</dd><dt><span>unit_long :</span></dt><dd>degrees East</dd><dt><span>axis :</span></dt><dd>X</dd></dl></div><div class='xr-var-data'><pre>array([ 9.041582,  9.06936 ,  9.097137, ..., 30.1531  , 30.180878, 30.208656],\n",
       "      dtype=float32)</pre></div></li><li class='xr-var-item'><div class='xr-var-name'><span class='xr-has-index'>lat</span></div><div class='xr-var-dims'>(lat)</div><div class='xr-var-dtype'>float32</div><div class='xr-var-preview xr-preview'>53.01 53.02 53.04 ... 65.87 65.89</div><input id='attrs-69482c5e-1f5a-40f9-ae0d-84a5f5e2e13a' class='xr-var-attrs-in' type='checkbox' ><label for='attrs-69482c5e-1f5a-40f9-ae0d-84a5f5e2e13a' title='Show/Hide attributes'><svg class='icon xr-icon-file-text2'><use xlink:href='#icon-file-text2'></use></svg></label><input id='data-4b3b3952-84ff-4be5-85a1-0d8083704cbf' class='xr-var-data-in' type='checkbox'><label for='data-4b3b3952-84ff-4be5-85a1-0d8083704cbf' title='Show/Hide data repr'><svg class='icon xr-icon-database'><use xlink:href='#icon-database'></use></svg></label><div class='xr-var-attrs'><dl class='xr-attrs'><dt><span>units :</span></dt><dd>degrees_north</dd><dt><span>long_name :</span></dt><dd>Latitude of each location</dd><dt><span>standard_name :</span></dt><dd>latitude</dd><dt><span>unit_long :</span></dt><dd>degrees North</dd><dt><span>axis :</span></dt><dd>Y</dd></dl></div><div class='xr-var-data'><pre>array([53.008297, 53.024963, 53.04163 , ..., 65.857666, 65.87433 , 65.89099 ],\n",
       "      dtype=float32)</pre></div></li></ul></div></li><li class='xr-section-item'><input id='section-bff60a25-ac5a-4c99-ab58-c3cfa5d6aa21' class='xr-section-summary-in' type='checkbox'  checked><label for='section-bff60a25-ac5a-4c99-ab58-c3cfa5d6aa21' class='xr-section-summary' >Data variables: <span>(11)</span></label><div class='xr-section-inline-details'></div><div class='xr-section-details'><ul class='xr-var-list'><li class='xr-var-item'><div class='xr-var-name'><span>thetao</span></div><div class='xr-var-dims'>(time, depth, lat, lon)</div><div class='xr-var-dtype'>float32</div><div class='xr-var-preview xr-preview'>...</div><input id='attrs-d732984a-cf31-4737-9912-8f6c031781bf' class='xr-var-attrs-in' type='checkbox' ><label for='attrs-d732984a-cf31-4737-9912-8f6c031781bf' title='Show/Hide attributes'><svg class='icon xr-icon-file-text2'><use xlink:href='#icon-file-text2'></use></svg></label><input id='data-d971244c-0b26-4216-a4b0-233d8cc9ca75' class='xr-var-data-in' type='checkbox'><label for='data-d971244c-0b26-4216-a4b0-233d8cc9ca75' title='Show/Hide data repr'><svg class='icon xr-icon-database'><use xlink:href='#icon-database'></use></svg></label><div class='xr-var-attrs'><dl class='xr-attrs'><dt><span>units :</span></dt><dd>degree_Celsius</dd><dt><span>long_name :</span></dt><dd>potential temperature</dd><dt><span>standard_name :</span></dt><dd>sea_water_potential_temperature</dd><dt><span>unit_long :</span></dt><dd>degree Celsius</dd></dl></div><div class='xr-var-data'><pre>[396857664 values with dtype=float32]</pre></div></li><li class='xr-var-item'><div class='xr-var-name'><span>so</span></div><div class='xr-var-dims'>(time, depth, lat, lon)</div><div class='xr-var-dtype'>float32</div><div class='xr-var-preview xr-preview'>...</div><input id='attrs-f88a17cc-24d6-430c-8668-0b266bea6fa3' class='xr-var-attrs-in' type='checkbox' ><label for='attrs-f88a17cc-24d6-430c-8668-0b266bea6fa3' title='Show/Hide attributes'><svg class='icon xr-icon-file-text2'><use xlink:href='#icon-file-text2'></use></svg></label><input id='data-3f0889da-f2e3-40d6-b59a-b18413e7b355' class='xr-var-data-in' type='checkbox'><label for='data-3f0889da-f2e3-40d6-b59a-b18413e7b355' title='Show/Hide data repr'><svg class='icon xr-icon-database'><use xlink:href='#icon-database'></use></svg></label><div class='xr-var-attrs'><dl class='xr-attrs'><dt><span>units :</span></dt><dd>1e-3</dd><dt><span>long_name :</span></dt><dd>salinity</dd><dt><span>standard_name :</span></dt><dd>sea_water_salinity</dd><dt><span>unit_long :</span></dt><dd>1e-3</dd></dl></div><div class='xr-var-data'><pre>[396857664 values with dtype=float32]</pre></div></li><li class='xr-var-item'><div class='xr-var-name'><span>uo</span></div><div class='xr-var-dims'>(time, depth, lat, lon)</div><div class='xr-var-dtype'>float32</div><div class='xr-var-preview xr-preview'>...</div><input id='attrs-74b3b763-13c3-45c8-8713-9579a696cfd6' class='xr-var-attrs-in' type='checkbox' ><label for='attrs-74b3b763-13c3-45c8-8713-9579a696cfd6' title='Show/Hide attributes'><svg class='icon xr-icon-file-text2'><use xlink:href='#icon-file-text2'></use></svg></label><input id='data-e3ca2ffe-5185-49da-9d3a-70777e2111d8' class='xr-var-data-in' type='checkbox'><label for='data-e3ca2ffe-5185-49da-9d3a-70777e2111d8' title='Show/Hide data repr'><svg class='icon xr-icon-database'><use xlink:href='#icon-database'></use></svg></label><div class='xr-var-attrs'><dl class='xr-attrs'><dt><span>units :</span></dt><dd>m s-1</dd><dt><span>long_name :</span></dt><dd>Eastward current</dd><dt><span>standard_name :</span></dt><dd>eastward_sea_water_velocity</dd><dt><span>unit_long :</span></dt><dd>meters per second</dd></dl></div><div class='xr-var-data'><pre>[396857664 values with dtype=float32]</pre></div></li><li class='xr-var-item'><div class='xr-var-name'><span>vo</span></div><div class='xr-var-dims'>(time, depth, lat, lon)</div><div class='xr-var-dtype'>float32</div><div class='xr-var-preview xr-preview'>...</div><input id='attrs-9e05b41b-ab60-45ca-8df1-0ff42c52f3a0' class='xr-var-attrs-in' type='checkbox' ><label for='attrs-9e05b41b-ab60-45ca-8df1-0ff42c52f3a0' title='Show/Hide attributes'><svg class='icon xr-icon-file-text2'><use xlink:href='#icon-file-text2'></use></svg></label><input id='data-510ce357-2550-4f77-804c-0ce193462682' class='xr-var-data-in' type='checkbox'><label for='data-510ce357-2550-4f77-804c-0ce193462682' title='Show/Hide data repr'><svg class='icon xr-icon-database'><use xlink:href='#icon-database'></use></svg></label><div class='xr-var-attrs'><dl class='xr-attrs'><dt><span>units :</span></dt><dd>m s-1</dd><dt><span>long_name :</span></dt><dd>Northward current</dd><dt><span>standard_name :</span></dt><dd>northward_sea_water_velocity</dd><dt><span>unit_long :</span></dt><dd>meters per second</dd></dl></div><div class='xr-var-data'><pre>[396857664 values with dtype=float32]</pre></div></li><li class='xr-var-item'><div class='xr-var-name'><span>wo</span></div><div class='xr-var-dims'>(time, depth, lat, lon)</div><div class='xr-var-dtype'>float32</div><div class='xr-var-preview xr-preview'>...</div><input id='attrs-226f6a9d-8788-4bf0-b239-fe7075926fbc' class='xr-var-attrs-in' type='checkbox' ><label for='attrs-226f6a9d-8788-4bf0-b239-fe7075926fbc' title='Show/Hide attributes'><svg class='icon xr-icon-file-text2'><use xlink:href='#icon-file-text2'></use></svg></label><input id='data-3e1677a0-3e2f-49be-8864-6a802a789bd2' class='xr-var-data-in' type='checkbox'><label for='data-3e1677a0-3e2f-49be-8864-6a802a789bd2' title='Show/Hide data repr'><svg class='icon xr-icon-database'><use xlink:href='#icon-database'></use></svg></label><div class='xr-var-attrs'><dl class='xr-attrs'><dt><span>units :</span></dt><dd>m s-1</dd><dt><span>long_name :</span></dt><dd>Upward current</dd><dt><span>standard_name :</span></dt><dd>upward_sea_water_velocity</dd><dt><span>unit_long :</span></dt><dd>meters per second</dd></dl></div><div class='xr-var-data'><pre>[396857664 values with dtype=float32]</pre></div></li><li class='xr-var-item'><div class='xr-var-name'><span>bottomT</span></div><div class='xr-var-dims'>(time, lat, lon)</div><div class='xr-var-dtype'>float32</div><div class='xr-var-preview xr-preview'>...</div><input id='attrs-b3d619dd-c17c-47f9-9f83-7dbb557e627e' class='xr-var-attrs-in' type='checkbox' ><label for='attrs-b3d619dd-c17c-47f9-9f83-7dbb557e627e' title='Show/Hide attributes'><svg class='icon xr-icon-file-text2'><use xlink:href='#icon-file-text2'></use></svg></label><input id='data-3474536e-bc7f-406f-9db9-5f207aa414fd' class='xr-var-data-in' type='checkbox'><label for='data-3474536e-bc7f-406f-9db9-5f207aa414fd' title='Show/Hide data repr'><svg class='icon xr-icon-database'><use xlink:href='#icon-database'></use></svg></label><div class='xr-var-attrs'><dl class='xr-attrs'><dt><span>units :</span></dt><dd>degrees_C</dd><dt><span>long_name :</span></dt><dd>Sea water potential temperature at sea floor (given for depth comprise between 0 and 500m)</dd><dt><span>standard_name :</span></dt><dd>sea_water_potential_temperature_at_sea_floor</dd><dt><span>unit_long :</span></dt><dd>degree Celsius</dd><dt><span>valid_range :</span></dt><dd>[-3. 40.]</dd></dl></div><div class='xr-var-data'><pre>[7086744 values with dtype=float32]</pre></div></li><li class='xr-var-item'><div class='xr-var-name'><span>sob</span></div><div class='xr-var-dims'>(time, lat, lon)</div><div class='xr-var-dtype'>float32</div><div class='xr-var-preview xr-preview'>...</div><input id='attrs-d4ba5b2c-07c6-46f5-a537-55d400fe1e51' class='xr-var-attrs-in' type='checkbox' ><label for='attrs-d4ba5b2c-07c6-46f5-a537-55d400fe1e51' title='Show/Hide attributes'><svg class='icon xr-icon-file-text2'><use xlink:href='#icon-file-text2'></use></svg></label><input id='data-d492d02c-d9c8-4819-9416-bb1f86c96757' class='xr-var-data-in' type='checkbox'><label for='data-d492d02c-d9c8-4819-9416-bb1f86c96757' title='Show/Hide data repr'><svg class='icon xr-icon-database'><use xlink:href='#icon-database'></use></svg></label><div class='xr-var-attrs'><dl class='xr-attrs'><dt><span>units :</span></dt><dd>0.001</dd><dt><span>long_name :</span></dt><dd>Sea water salinity at sea floor</dd><dt><span>standard_name :</span></dt><dd>sea_water_salinity_at_sea_floor</dd><dt><span>unit_long :</span></dt><dd>0.001</dd><dt><span>valid_range :</span></dt><dd>[ 0. 40.]</dd></dl></div><div class='xr-var-data'><pre>[7086744 values with dtype=float32]</pre></div></li><li class='xr-var-item'><div class='xr-var-name'><span>sla</span></div><div class='xr-var-dims'>(time, lat, lon)</div><div class='xr-var-dtype'>float32</div><div class='xr-var-preview xr-preview'>...</div><input id='attrs-a3c97766-f566-40d8-abe7-cdc4d5b1c229' class='xr-var-attrs-in' type='checkbox' ><label for='attrs-a3c97766-f566-40d8-abe7-cdc4d5b1c229' title='Show/Hide attributes'><svg class='icon xr-icon-file-text2'><use xlink:href='#icon-file-text2'></use></svg></label><input id='data-ba8ca2a6-bd89-4735-9643-1f029083be23' class='xr-var-data-in' type='checkbox'><label for='data-ba8ca2a6-bd89-4735-9643-1f029083be23' title='Show/Hide data repr'><svg class='icon xr-icon-database'><use xlink:href='#icon-database'></use></svg></label><div class='xr-var-attrs'><dl class='xr-attrs'><dt><span>units :</span></dt><dd>m</dd><dt><span>long_name :</span></dt><dd>Sea level elevation</dd><dt><span>standard_name :</span></dt><dd>sea_surface_height_above_sea_level</dd><dt><span>unit_long :</span></dt><dd>meters</dd><dt><span>valid_range :</span></dt><dd>[-10.  10.]</dd></dl></div><div class='xr-var-data'><pre>[7086744 values with dtype=float32]</pre></div></li><li class='xr-var-item'><div class='xr-var-name'><span>sithick</span></div><div class='xr-var-dims'>(time, lat, lon)</div><div class='xr-var-dtype'>float32</div><div class='xr-var-preview xr-preview'>...</div><input id='attrs-266d58ca-e9de-4cf6-931b-b41956fecac3' class='xr-var-attrs-in' type='checkbox' ><label for='attrs-266d58ca-e9de-4cf6-931b-b41956fecac3' title='Show/Hide attributes'><svg class='icon xr-icon-file-text2'><use xlink:href='#icon-file-text2'></use></svg></label><input id='data-47f388af-b38c-4550-ac05-fe2742082856' class='xr-var-data-in' type='checkbox'><label for='data-47f388af-b38c-4550-ac05-fe2742082856' title='Show/Hide data repr'><svg class='icon xr-icon-database'><use xlink:href='#icon-database'></use></svg></label><div class='xr-var-attrs'><dl class='xr-attrs'><dt><span>units :</span></dt><dd>m</dd><dt><span>long_name :</span></dt><dd>Sea ice thickness</dd><dt><span>standard_name :</span></dt><dd>sea_ice_thickness</dd><dt><span>unit_long :</span></dt><dd>meters</dd></dl></div><div class='xr-var-data'><pre>[7086744 values with dtype=float32]</pre></div></li><li class='xr-var-item'><div class='xr-var-name'><span>siconc</span></div><div class='xr-var-dims'>(time, lat, lon)</div><div class='xr-var-dtype'>float32</div><div class='xr-var-preview xr-preview'>...</div><input id='attrs-d218bbbe-b95c-41e8-9e83-7690beb2f337' class='xr-var-attrs-in' type='checkbox' ><label for='attrs-d218bbbe-b95c-41e8-9e83-7690beb2f337' title='Show/Hide attributes'><svg class='icon xr-icon-file-text2'><use xlink:href='#icon-file-text2'></use></svg></label><input id='data-f331b8a1-68af-4f3a-afb0-cbc8ae8ca09d' class='xr-var-data-in' type='checkbox'><label for='data-f331b8a1-68af-4f3a-afb0-cbc8ae8ca09d' title='Show/Hide data repr'><svg class='icon xr-icon-database'><use xlink:href='#icon-database'></use></svg></label><div class='xr-var-attrs'><dl class='xr-attrs'><dt><span>units :</span></dt><dd>1</dd><dt><span>long_name :</span></dt><dd>Sea ice cover</dd><dt><span>standard_name :</span></dt><dd>sea_ice_area_fraction</dd><dt><span>valid_range :</span></dt><dd>[0. 1.]</dd></dl></div><div class='xr-var-data'><pre>[7086744 values with dtype=float32]</pre></div></li><li class='xr-var-item'><div class='xr-var-name'><span>mlotst</span></div><div class='xr-var-dims'>(time, lat, lon)</div><div class='xr-var-dtype'>float32</div><div class='xr-var-preview xr-preview'>...</div><input id='attrs-53e17c7c-788d-47a6-9121-6384fa2dfd59' class='xr-var-attrs-in' type='checkbox' ><label for='attrs-53e17c7c-788d-47a6-9121-6384fa2dfd59' title='Show/Hide attributes'><svg class='icon xr-icon-file-text2'><use xlink:href='#icon-file-text2'></use></svg></label><input id='data-4f9fe6e3-e8cb-416a-a16f-c9db2c1b7364' class='xr-var-data-in' type='checkbox'><label for='data-4f9fe6e3-e8cb-416a-a16f-c9db2c1b7364' title='Show/Hide data repr'><svg class='icon xr-icon-database'><use xlink:href='#icon-database'></use></svg></label><div class='xr-var-attrs'><dl class='xr-attrs'><dt><span>units :</span></dt><dd>m</dd><dt><span>long_name :</span></dt><dd>Ocean mixed layer thickness defined by density (as in de Boyer Montegut, 2004)</dd><dt><span>standard_name :</span></dt><dd>ocean_mixed_layer_thickness_defined_by_sigma_theta</dd><dt><span>unit_long :</span></dt><dd>meters</dd></dl></div><div class='xr-var-data'><pre>[7086744 values with dtype=float32]</pre></div></li></ul></div></li><li class='xr-section-item'><input id='section-fb052549-108c-4185-88ed-81834a0674d9' class='xr-section-summary-in' type='checkbox'  ><label for='section-fb052549-108c-4185-88ed-81834a0674d9' class='xr-section-summary' >Indexes: <span>(4)</span></label><div class='xr-section-inline-details'></div><div class='xr-section-details'><ul class='xr-var-list'><li class='xr-var-item'><div class='xr-index-name'><div>time</div></div><div class='xr-index-preview'>PandasIndex</div><input type='checkbox' disabled/><label></label><input id='index-73749172-86e4-460e-a671-a80bae3c8faa' class='xr-index-data-in' type='checkbox'/><label for='index-73749172-86e4-460e-a671-a80bae3c8faa' title='Show/Hide index repr'><svg class='icon xr-icon-database'><use xlink:href='#icon-database'></use></svg></label><div class='xr-index-data'><pre>PandasIndex(DatetimeIndex([&#x27;2025-03-18 01:00:00&#x27;, &#x27;2025-03-18 02:00:00&#x27;,\n",
       "               &#x27;2025-03-18 03:00:00&#x27;, &#x27;2025-03-18 04:00:00&#x27;,\n",
       "               &#x27;2025-03-18 05:00:00&#x27;, &#x27;2025-03-18 06:00:00&#x27;,\n",
       "               &#x27;2025-03-18 07:00:00&#x27;, &#x27;2025-03-18 08:00:00&#x27;,\n",
       "               &#x27;2025-03-18 09:00:00&#x27;, &#x27;2025-03-18 10:00:00&#x27;,\n",
       "               &#x27;2025-03-18 11:00:00&#x27;, &#x27;2025-03-18 12:00:00&#x27;],\n",
       "              dtype=&#x27;datetime64[ns]&#x27;, name=&#x27;time&#x27;, freq=None))</pre></div></li><li class='xr-var-item'><div class='xr-index-name'><div>depth</div></div><div class='xr-index-preview'>PandasIndex</div><input type='checkbox' disabled/><label></label><input id='index-31c2ef4f-0e53-40e7-81b9-808874116d1a' class='xr-index-data-in' type='checkbox'/><label for='index-31c2ef4f-0e53-40e7-81b9-808874116d1a' title='Show/Hide index repr'><svg class='icon xr-icon-database'><use xlink:href='#icon-database'></use></svg></label><div class='xr-index-data'><pre>PandasIndex(Index([0.5016462206840515, 1.5159924030303955,  2.548084020614624,\n",
       "       3.6022984981536865,  4.684081077575684,   5.80019998550415,\n",
       "        6.959054946899414,  8.171056747436523,  9.449085235595703,\n",
       "       10.809036254882812, 12.270469665527344, 13.857369422912598,\n",
       "        15.59900951385498,  17.53092384338379,  19.69594383239746,\n",
       "        22.14525604248047,  24.93938446044922, 28.148958206176758,\n",
       "       31.855070114135742,  36.14898681640625,  41.13091278076172,\n",
       "       46.907535552978516,  53.58818435668945,    61.279541015625,\n",
       "        70.07921600341797,  80.06874084472656,  91.30695343017578,\n",
       "          103.82470703125, 117.62200164794922,       132.66796875,\n",
       "          148.90380859375, 166.24795532226562, 184.60281372070312,\n",
       "       203.86167907714844, 223.91526794433594, 244.65684509277344,\n",
       "        265.9862365722656,  287.8121643066406,  310.0535583496094,\n",
       "        332.6397399902344,  355.5102233886719,  378.6138000488281,\n",
       "        401.9076843261719,  425.3562927246094, 448.93035888671875,\n",
       "       472.60589599609375,  496.3633728027344,  520.1868896484375,\n",
       "        544.0635375976562,    567.98291015625,  591.9366455078125,\n",
       "        615.9179077148438,  639.9213256835938,  663.9425048828125,\n",
       "        687.9779052734375,   712.024658203125],\n",
       "      dtype=&#x27;float32&#x27;, name=&#x27;depth&#x27;))</pre></div></li><li class='xr-var-item'><div class='xr-index-name'><div>lon</div></div><div class='xr-index-preview'>PandasIndex</div><input type='checkbox' disabled/><label></label><input id='index-8146bb1d-fa1e-44b0-b470-19bc5d298ca8' class='xr-index-data-in' type='checkbox'/><label for='index-8146bb1d-fa1e-44b0-b470-19bc5d298ca8' title='Show/Hide index repr'><svg class='icon xr-icon-database'><use xlink:href='#icon-database'></use></svg></label><div class='xr-index-data'><pre>PandasIndex(Index([ 9.041582107543945,   9.06935977935791,  9.097137451171875,\n",
       "         9.12491512298584,  9.152692794799805,   9.18047046661377,\n",
       "        9.208248138427734,    9.2360258102417,  9.263803482055664,\n",
       "        9.291581153869629,\n",
       "       ...\n",
       "       29.958648681640625, 29.986427307128906, 30.014205932617188,\n",
       "        30.04198455810547,  30.06976318359375,  30.09754180908203,\n",
       "       30.125320434570312, 30.153099060058594, 30.180877685546875,\n",
       "       30.208656311035156],\n",
       "      dtype=&#x27;float32&#x27;, name=&#x27;lon&#x27;, length=763))</pre></div></li><li class='xr-var-item'><div class='xr-index-name'><div>lat</div></div><div class='xr-index-preview'>PandasIndex</div><input type='checkbox' disabled/><label></label><input id='index-df7d7430-47cd-488c-82fc-f6b3fa954da1' class='xr-index-data-in' type='checkbox'/><label for='index-df7d7430-47cd-488c-82fc-f6b3fa954da1' title='Show/Hide index repr'><svg class='icon xr-icon-database'><use xlink:href='#icon-database'></use></svg></label><div class='xr-index-data'><pre>PandasIndex(Index([53.008296966552734,  53.02496337890625, 53.041629791259766,\n",
       "        53.05829620361328,   53.0749626159668,  53.09162902832031,\n",
       "        53.10829544067383, 53.124961853027344,  53.14162826538086,\n",
       "       53.158294677734375,\n",
       "       ...\n",
       "        65.74102783203125,   65.7576904296875,  65.77435302734375,\n",
       "             65.791015625,  65.80767822265625,   65.8243408203125,\n",
       "        65.84100341796875,    65.857666015625,  65.87432861328125,\n",
       "         65.8909912109375],\n",
       "      dtype=&#x27;float32&#x27;, name=&#x27;lat&#x27;, length=774))</pre></div></li></ul></div></li><li class='xr-section-item'><input id='section-8e575a90-1a49-4274-bb7c-6d80171b688b' class='xr-section-summary-in' type='checkbox'  ><label for='section-8e575a90-1a49-4274-bb7c-6d80171b688b' class='xr-section-summary' >Attributes: <span>(18)</span></label><div class='xr-section-inline-details'></div><div class='xr-section-details'><dl class='xr-attrs'><dt><span>comment :</span></dt><dd>Data on cropped native product grid. Horizontal velocities destaggered</dd><dt><span>grid_resolution :</span></dt><dd>~1 nautical mile (1min latitude; 1min40sec longitude)</dd><dt><span>title :</span></dt><dd>CMEMS NEMO hourly model fields</dd><dt><span>Conventions :</span></dt><dd>CF-1.0</dd><dt><span>source :</span></dt><dd>CMEMS BAL MFC NEMO model output converted to NetCDF</dd><dt><span>contact :</span></dt><dd>servicedesk.cmems@mercator-ocean.eu</dd><dt><span>references :</span></dt><dd>https://marine.copernicus.eu/</dd><dt><span>file_quality_index :</span></dt><dd>1</dd><dt><span>institution :</span></dt><dd>Baltic MFC, PU Swedish Meteorological and Hydrological Institute</dd><dt><span>compression :</span></dt><dd>yes</dd><dt><span>stop_date :</span></dt><dd>2025-03-18 12:00:00</dd><dt><span>creation_date :</span></dt><dd>2025-03-18 09:25:00</dd><dt><span>netcdf_version_id :</span></dt><dd>4.9.4-development of Oct  7 2024 08:34:05 $</dd><dt><span>easternmost_longitude :</span></dt><dd>30.208656</dd><dt><span>northernmost_latitude :</span></dt><dd>65.89099</dd><dt><span>westernmost_longitude :</span></dt><dd>9.041582</dd><dt><span>southernmost_latitude :</span></dt><dd>53.008297</dd><dt><span>start_date :</span></dt><dd>2025-03-18 01:00:00</dd></dl></div></li></ul></div></div>"
      ],
      "text/plain": [
       "<xarray.Dataset> Size: 8GB\n",
       "Dimensions:  (time: 12, depth: 56, lon: 763, lat: 774)\n",
       "Coordinates:\n",
       "  * time     (time) datetime64[ns] 96B 2025-03-18T01:00:00 ... 2025-03-18T12:...\n",
       "  * depth    (depth) float32 224B 0.5016 1.516 2.548 3.602 ... 663.9 688.0 712.0\n",
       "  * lon      (lon) float32 3kB 9.042 9.069 9.097 9.125 ... 30.15 30.18 30.21\n",
       "  * lat      (lat) float32 3kB 53.01 53.02 53.04 53.06 ... 65.86 65.87 65.89\n",
       "Data variables:\n",
       "    thetao   (time, depth, lat, lon) float32 2GB ...\n",
       "    so       (time, depth, lat, lon) float32 2GB ...\n",
       "    uo       (time, depth, lat, lon) float32 2GB ...\n",
       "    vo       (time, depth, lat, lon) float32 2GB ...\n",
       "    wo       (time, depth, lat, lon) float32 2GB ...\n",
       "    bottomT  (time, lat, lon) float32 28MB ...\n",
       "    sob      (time, lat, lon) float32 28MB ...\n",
       "    sla      (time, lat, lon) float32 28MB ...\n",
       "    sithick  (time, lat, lon) float32 28MB ...\n",
       "    siconc   (time, lat, lon) float32 28MB ...\n",
       "    mlotst   (time, lat, lon) float32 28MB ...\n",
       "Attributes: (12/18)\n",
       "    comment:                Data on cropped native product grid. Horizontal v...\n",
       "    grid_resolution:        ~1 nautical mile (1min latitude; 1min40sec longit...\n",
       "    title:                  CMEMS NEMO hourly model fields\n",
       "    Conventions:            CF-1.0\n",
       "    source:                 CMEMS BAL MFC NEMO model output converted to NetCDF\n",
       "    contact:                servicedesk.cmems@mercator-ocean.eu\n",
       "    ...                     ...\n",
       "    netcdf_version_id:      4.9.4-development of Oct  7 2024 08:34:05 $\n",
       "    easternmost_longitude:  30.208656\n",
       "    northernmost_latitude:  65.89099\n",
       "    westernmost_longitude:  9.041582\n",
       "    southernmost_latitude:  53.008297\n",
       "    start_date:             2025-03-18 01:00:00"
      ]
     },
     "execution_count": 1,
     "metadata": {},
     "output_type": "execute_result"
    }
   ],
   "source": [
    "import xarray as xr\n",
    "import numpy as np\n",
    "import pandas as pd\n",
    "\n",
    "file = 'BALTICSEA_ANALYSISFORECAST_PHY_003_006/cmems_mod_bal_phy_anfc_PT1H-i_202411/2025/03/BAL-NEMO_PHY-2025031800.nc'\n",
    "ds = xr.open_dataset(file)\n"
   ]
  },
  {
   "cell_type": "code",
   "execution_count": 12,
   "metadata": {},
   "outputs": [
    {
     "data": {
      "text/plain": [
       "1473"
      ]
     },
     "execution_count": 12,
     "metadata": {},
     "output_type": "execute_result"
    }
   ],
   "source": [
    "len(query_metadata.files)"
   ]
  },
  {
   "cell_type": "code",
   "execution_count": 10,
   "metadata": {},
   "outputs": [
    {
     "data": {
      "text/plain": [
       "ResponseGet(files=[FileGet(s3_url='s3://mdl-native-11/native/BALTICSEA_ANALYSISFORECAST_PHY_003_006/cmems_mod_bal_phy_anfc_PT1H-i_202411/2025/01/BAL-NEMO_PHY-2025010100.nc', https_url='https://s3.waw3-1.cloudferro.com/mdl-native-11/native/BALTICSEA_ANALYSISFORECAST_PHY_003_006/cmems_mod_bal_phy_anfc_PT1H-i_202411/2025/01/BAL-NEMO_PHY-2025010100.nc', file_size=646.5222692489624, last_modified_datetime='2025-01-01T13:20:53.300000+00:00', etag='\"33bd20e6f316ca11e0d5c1fb808d4341-81\"', file_format='.nc', output_directory=PosixPath('.'), filename='BAL-NEMO_PHY-2025010100.nc', file_path=PosixPath('BALTICSEA_ANALYSISFORECAST_PHY_003_006/cmems_mod_bal_phy_anfc_PT1H-i_202411/2025/01/BAL-NEMO_PHY-2025010100.nc'), file_status='DOWNLOADED'), FileGet(s3_url='s3://mdl-native-11/native/BALTICSEA_ANALYSISFORECAST_PHY_003_006/cmems_mod_bal_phy_anfc_PT1H-i_202411/2025/01/BAL-NEMO_PHY-2025010112.nc', https_url='https://s3.waw3-1.cloudferro.com/mdl-native-11/native/BALTICSEA_ANALYSISFORECAST_PHY_003_006/cmems_mod_bal_phy_anfc_PT1H-i_202411/2025/01/BAL-NEMO_PHY-2025010112.nc', file_size=646.0294771194458, last_modified_datetime='2025-01-01T20:16:30.216000+00:00', etag='\"afabb522f9b46dccf459ff90ae59867d-81\"', file_format='.nc', output_directory=PosixPath('.'), filename='BAL-NEMO_PHY-2025010112.nc', file_path=PosixPath('BALTICSEA_ANALYSISFORECAST_PHY_003_006/cmems_mod_bal_phy_anfc_PT1H-i_202411/2025/01/BAL-NEMO_PHY-2025010112.nc'), file_status='DOWNLOADED'), FileGet(s3_url='s3://mdl-native-11/native/BALTICSEA_ANALYSISFORECAST_PHY_003_006/cmems_mod_bal_phy_anfc_PT1H-i_202411/2025/01/BAL-NEMO_PHY-2025010200.nc', https_url='https://s3.waw3-1.cloudferro.com/mdl-native-11/native/BALTICSEA_ANALYSISFORECAST_PHY_003_006/cmems_mod_bal_phy_anfc_PT1H-i_202411/2025/01/BAL-NEMO_PHY-2025010200.nc', file_size=646.8971242904663, last_modified_datetime='2025-01-02T12:16:30.832000+00:00', etag='\"c23f652ff8a82a863dc68c7fec169d9a-81\"', file_format='.nc', output_directory=PosixPath('.'), filename='BAL-NEMO_PHY-2025010200.nc', file_path=PosixPath('BALTICSEA_ANALYSISFORECAST_PHY_003_006/cmems_mod_bal_phy_anfc_PT1H-i_202411/2025/01/BAL-NEMO_PHY-2025010200.nc'), file_status='DOWNLOADED'), FileGet(s3_url='s3://mdl-native-11/native/BALTICSEA_ANALYSISFORECAST_PHY_003_006/cmems_mod_bal_phy_anfc_PT1H-i_202411/2025/01/BAL-NEMO_PHY-2025010212.nc', https_url='https://s3.waw3-1.cloudferro.com/mdl-native-11/native/BALTICSEA_ANALYSISFORECAST_PHY_003_006/cmems_mod_bal_phy_anfc_PT1H-i_202411/2025/01/BAL-NEMO_PHY-2025010212.nc', file_size=647.5332698822021, last_modified_datetime='2025-01-02T20:16:15.952000+00:00', etag='\"d39cc2844febef5eb82b94c6cab18864-81\"', file_format='.nc', output_directory=PosixPath('.'), filename='BAL-NEMO_PHY-2025010212.nc', file_path=PosixPath('BALTICSEA_ANALYSISFORECAST_PHY_003_006/cmems_mod_bal_phy_anfc_PT1H-i_202411/2025/01/BAL-NEMO_PHY-2025010212.nc'), file_status='DOWNLOADED'), FileGet(s3_url='s3://mdl-native-11/native/BALTICSEA_ANALYSISFORECAST_PHY_003_006/cmems_mod_bal_phy_anfc_PT1H-i_202411/2025/01/BAL-NEMO_PHY-2025010300.nc', https_url='https://s3.waw3-1.cloudferro.com/mdl-native-11/native/BALTICSEA_ANALYSISFORECAST_PHY_003_006/cmems_mod_bal_phy_anfc_PT1H-i_202411/2025/01/BAL-NEMO_PHY-2025010300.nc', file_size=648.1943874359131, last_modified_datetime='2025-01-03T12:18:09.211000+00:00', etag='\"2b0747c2180c9cb4396b9f8eb6830c7f-82\"', file_format='.nc', output_directory=PosixPath('.'), filename='BAL-NEMO_PHY-2025010300.nc', file_path=PosixPath('BALTICSEA_ANALYSISFORECAST_PHY_003_006/cmems_mod_bal_phy_anfc_PT1H-i_202411/2025/01/BAL-NEMO_PHY-2025010300.nc'), file_status='DOWNLOADED'), FileGet(s3_url='s3://mdl-native-11/native/BALTICSEA_ANALYSISFORECAST_PHY_003_006/cmems_mod_bal_phy_anfc_PT1H-i_202411/2025/01/BAL-NEMO_PHY-2025010312.nc', https_url='https://s3.waw3-1.cloudferro.com/mdl-native-11/native/BALTICSEA_ANALYSISFORECAST_PHY_003_006/cmems_mod_bal_phy_anfc_PT1H-i_202411/2025/01/BAL-NEMO_PHY-2025010312.nc', file_size=647.4327554702759, last_modified_datetime='2025-01-03T20:14:44.629000+00:00', etag='\"72890871034776d5493a283752dd2b99-81\"', file_format='.nc', output_directory=PosixPath('.'), filename='BAL-NEMO_PHY-2025010312.nc', file_path=PosixPath('BALTICSEA_ANALYSISFORECAST_PHY_003_006/cmems_mod_bal_phy_anfc_PT1H-i_202411/2025/01/BAL-NEMO_PHY-2025010312.nc'), file_status='DOWNLOADED'), FileGet(s3_url='s3://mdl-native-11/native/BALTICSEA_ANALYSISFORECAST_PHY_003_006/cmems_mod_bal_phy_anfc_PT1H-i_202411/2025/01/BAL-NEMO_PHY-2025010400.nc', https_url='https://s3.waw3-1.cloudferro.com/mdl-native-11/native/BALTICSEA_ANALYSISFORECAST_PHY_003_006/cmems_mod_bal_phy_anfc_PT1H-i_202411/2025/01/BAL-NEMO_PHY-2025010400.nc', file_size=648.668475151062, last_modified_datetime='2025-01-04T12:29:24.281000+00:00', etag='\"5343bdff2fc69a416a25447233284c62-82\"', file_format='.nc', output_directory=PosixPath('.'), filename='BAL-NEMO_PHY-2025010400.nc', file_path=PosixPath('BALTICSEA_ANALYSISFORECAST_PHY_003_006/cmems_mod_bal_phy_anfc_PT1H-i_202411/2025/01/BAL-NEMO_PHY-2025010400.nc'), file_status='DOWNLOADED'), FileGet(s3_url='s3://mdl-native-11/native/BALTICSEA_ANALYSISFORECAST_PHY_003_006/cmems_mod_bal_phy_anfc_PT1H-i_202411/2025/01/BAL-NEMO_PHY-2025010412.nc', https_url='https://s3.waw3-1.cloudferro.com/mdl-native-11/native/BALTICSEA_ANALYSISFORECAST_PHY_003_006/cmems_mod_bal_phy_anfc_PT1H-i_202411/2025/01/BAL-NEMO_PHY-2025010412.nc', file_size=648.8519945144653, last_modified_datetime='2025-01-04T20:13:09.443000+00:00', etag='\"9348f74239c69d84f561a242b0b5e77b-82\"', file_format='.nc', output_directory=PosixPath('.'), filename='BAL-NEMO_PHY-2025010412.nc', file_path=PosixPath('BALTICSEA_ANALYSISFORECAST_PHY_003_006/cmems_mod_bal_phy_anfc_PT1H-i_202411/2025/01/BAL-NEMO_PHY-2025010412.nc'), file_status='DOWNLOADED'), FileGet(s3_url='s3://mdl-native-11/native/BALTICSEA_ANALYSISFORECAST_PHY_003_006/cmems_mod_bal_phy_anfc_PT1H-i_202411/2025/01/BAL-NEMO_PHY-2025010500.nc', https_url='https://s3.waw3-1.cloudferro.com/mdl-native-11/native/BALTICSEA_ANALYSISFORECAST_PHY_003_006/cmems_mod_bal_phy_anfc_PT1H-i_202411/2025/01/BAL-NEMO_PHY-2025010500.nc', file_size=649.7148389816284, last_modified_datetime='2025-01-05T12:15:49.973000+00:00', etag='\"5c5431702db5a579693b0839db8d2c75-82\"', file_format='.nc', output_directory=PosixPath('.'), filename='BAL-NEMO_PHY-2025010500.nc', file_path=PosixPath('BALTICSEA_ANALYSISFORECAST_PHY_003_006/cmems_mod_bal_phy_anfc_PT1H-i_202411/2025/01/BAL-NEMO_PHY-2025010500.nc'), file_status='DOWNLOADED'), FileGet(s3_url='s3://mdl-native-11/native/BALTICSEA_ANALYSISFORECAST_PHY_003_006/cmems_mod_bal_phy_anfc_PT1H-i_202411/2025/01/BAL-NEMO_PHY-2025010512.nc', https_url='https://s3.waw3-1.cloudferro.com/mdl-native-11/native/BALTICSEA_ANALYSISFORECAST_PHY_003_006/cmems_mod_bal_phy_anfc_PT1H-i_202411/2025/01/BAL-NEMO_PHY-2025010512.nc', file_size=650.5679235458374, last_modified_datetime='2025-01-05T20:19:36.392000+00:00', etag='\"a12a99deaa74361f2b501ba24149258f-82\"', file_format='.nc', output_directory=PosixPath('.'), filename='BAL-NEMO_PHY-2025010512.nc', file_path=PosixPath('BALTICSEA_ANALYSISFORECAST_PHY_003_006/cmems_mod_bal_phy_anfc_PT1H-i_202411/2025/01/BAL-NEMO_PHY-2025010512.nc'), file_status='DOWNLOADED'), FileGet(s3_url='s3://mdl-native-11/native/BALTICSEA_ANALYSISFORECAST_PHY_003_006/cmems_mod_bal_phy_anfc_PT1H-i_202411/2025/01/BAL-NEMO_PHY-2025010600.nc', https_url='https://s3.waw3-1.cloudferro.com/mdl-native-11/native/BALTICSEA_ANALYSISFORECAST_PHY_003_006/cmems_mod_bal_phy_anfc_PT1H-i_202411/2025/01/BAL-NEMO_PHY-2025010600.nc', file_size=650.8267297744751, last_modified_datetime='2025-01-06T12:16:20.675000+00:00', etag='\"4718abde143fa6c1f2ac21ae8491f240-82\"', file_format='.nc', output_directory=PosixPath('.'), filename='BAL-NEMO_PHY-2025010600.nc', file_path=PosixPath('BALTICSEA_ANALYSISFORECAST_PHY_003_006/cmems_mod_bal_phy_anfc_PT1H-i_202411/2025/01/BAL-NEMO_PHY-2025010600.nc'), file_status='DOWNLOADED'), FileGet(s3_url='s3://mdl-native-11/native/BALTICSEA_ANALYSISFORECAST_PHY_003_006/cmems_mod_bal_phy_anfc_PT1H-i_202411/2025/01/BAL-NEMO_PHY-2025010612.nc', https_url='https://s3.waw3-1.cloudferro.com/mdl-native-11/native/BALTICSEA_ANALYSISFORECAST_PHY_003_006/cmems_mod_bal_phy_anfc_PT1H-i_202411/2025/01/BAL-NEMO_PHY-2025010612.nc', file_size=650.3212356567383, last_modified_datetime='2025-01-06T20:17:07.558000+00:00', etag='\"4f49fa31679569a229068170a1231e23-82\"', file_format='.nc', output_directory=PosixPath('.'), filename='BAL-NEMO_PHY-2025010612.nc', file_path=PosixPath('BALTICSEA_ANALYSISFORECAST_PHY_003_006/cmems_mod_bal_phy_anfc_PT1H-i_202411/2025/01/BAL-NEMO_PHY-2025010612.nc'), file_status='DOWNLOADED'), FileGet(s3_url='s3://mdl-native-11/native/BALTICSEA_ANALYSISFORECAST_PHY_003_006/cmems_mod_bal_phy_anfc_PT1H-i_202411/2025/01/BAL-NEMO_PHY-2025010700.nc', https_url='https://s3.waw3-1.cloudferro.com/mdl-native-11/native/BALTICSEA_ANALYSISFORECAST_PHY_003_006/cmems_mod_bal_phy_anfc_PT1H-i_202411/2025/01/BAL-NEMO_PHY-2025010700.nc', file_size=649.1997652053833, last_modified_datetime='2025-01-07T12:18:50.902000+00:00', etag='\"bc23bc1ff243d2f4f28c77ab0a0a032d-82\"', file_format='.nc', output_directory=PosixPath('.'), filename='BAL-NEMO_PHY-2025010700.nc', file_path=PosixPath('BALTICSEA_ANALYSISFORECAST_PHY_003_006/cmems_mod_bal_phy_anfc_PT1H-i_202411/2025/01/BAL-NEMO_PHY-2025010700.nc'), file_status='DOWNLOADED'), FileGet(s3_url='s3://mdl-native-11/native/BALTICSEA_ANALYSISFORECAST_PHY_003_006/cmems_mod_bal_phy_anfc_PT1H-i_202411/2025/01/BAL-NEMO_PHY-2025010712.nc', https_url='https://s3.waw3-1.cloudferro.com/mdl-native-11/native/BALTICSEA_ANALYSISFORECAST_PHY_003_006/cmems_mod_bal_phy_anfc_PT1H-i_202411/2025/01/BAL-NEMO_PHY-2025010712.nc', file_size=649.5789089202881, last_modified_datetime='2025-01-07T20:12:53.441000+00:00', etag='\"297067d00adbbde3698b5eb2a5effd0d-82\"', file_format='.nc', output_directory=PosixPath('.'), filename='BAL-NEMO_PHY-2025010712.nc', file_path=PosixPath('BALTICSEA_ANALYSISFORECAST_PHY_003_006/cmems_mod_bal_phy_anfc_PT1H-i_202411/2025/01/BAL-NEMO_PHY-2025010712.nc'), file_status='DOWNLOADED'), FileGet(s3_url='s3://mdl-native-11/native/BALTICSEA_ANALYSISFORECAST_PHY_003_006/cmems_mod_bal_phy_anfc_PT1H-i_202411/2025/01/BAL-NEMO_PHY-2025010800.nc', https_url='https://s3.waw3-1.cloudferro.com/mdl-native-11/native/BALTICSEA_ANALYSISFORECAST_PHY_003_006/cmems_mod_bal_phy_anfc_PT1H-i_202411/2025/01/BAL-NEMO_PHY-2025010800.nc', file_size=650.3137245178223, last_modified_datetime='2025-01-08T12:16:32.697000+00:00', etag='\"9a0a164ee7d778adc04ded04f6d25c25-82\"', file_format='.nc', output_directory=PosixPath('.'), filename='BAL-NEMO_PHY-2025010800.nc', file_path=PosixPath('BALTICSEA_ANALYSISFORECAST_PHY_003_006/cmems_mod_bal_phy_anfc_PT1H-i_202411/2025/01/BAL-NEMO_PHY-2025010800.nc'), file_status='DOWNLOADED'), FileGet(s3_url='s3://mdl-native-11/native/BALTICSEA_ANALYSISFORECAST_PHY_003_006/cmems_mod_bal_phy_anfc_PT1H-i_202411/2025/01/BAL-NEMO_PHY-2025010812.nc', https_url='https://s3.waw3-1.cloudferro.com/mdl-native-11/native/BALTICSEA_ANALYSISFORECAST_PHY_003_006/cmems_mod_bal_phy_anfc_PT1H-i_202411/2025/01/BAL-NEMO_PHY-2025010812.nc', file_size=649.4279460906982, last_modified_datetime='2025-01-08T20:18:12.736000+00:00', etag='\"336d4dbbab67fbeb7c2f286c29f08431-82\"', file_format='.nc', output_directory=PosixPath('.'), filename='BAL-NEMO_PHY-2025010812.nc', file_path=PosixPath('BALTICSEA_ANALYSISFORECAST_PHY_003_006/cmems_mod_bal_phy_anfc_PT1H-i_202411/2025/01/BAL-NEMO_PHY-2025010812.nc'), file_status='DOWNLOADED'), FileGet(s3_url='s3://mdl-native-11/native/BALTICSEA_ANALYSISFORECAST_PHY_003_006/cmems_mod_bal_phy_anfc_PT1H-i_202411/2025/01/BAL-NEMO_PHY-2025010900.nc', https_url='https://s3.waw3-1.cloudferro.com/mdl-native-11/native/BALTICSEA_ANALYSISFORECAST_PHY_003_006/cmems_mod_bal_phy_anfc_PT1H-i_202411/2025/01/BAL-NEMO_PHY-2025010900.nc', file_size=649.1894311904907, last_modified_datetime='2025-01-09T12:16:07.118000+00:00', etag='\"93a4536af6132dcb8029279808f6692f-82\"', file_format='.nc', output_directory=PosixPath('.'), filename='BAL-NEMO_PHY-2025010900.nc', file_path=PosixPath('BALTICSEA_ANALYSISFORECAST_PHY_003_006/cmems_mod_bal_phy_anfc_PT1H-i_202411/2025/01/BAL-NEMO_PHY-2025010900.nc'), file_status='DOWNLOADED'), FileGet(s3_url='s3://mdl-native-11/native/BALTICSEA_ANALYSISFORECAST_PHY_003_006/cmems_mod_bal_phy_anfc_PT1H-i_202411/2025/01/BAL-NEMO_PHY-2025010912.nc', https_url='https://s3.waw3-1.cloudferro.com/mdl-native-11/native/BALTICSEA_ANALYSISFORECAST_PHY_003_006/cmems_mod_bal_phy_anfc_PT1H-i_202411/2025/01/BAL-NEMO_PHY-2025010912.nc', file_size=649.9970417022705, last_modified_datetime='2025-01-09T20:17:53.264000+00:00', etag='\"562a87fe5e96a7813d71f38734781202-82\"', file_format='.nc', output_directory=PosixPath('.'), filename='BAL-NEMO_PHY-2025010912.nc', file_path=PosixPath('BALTICSEA_ANALYSISFORECAST_PHY_003_006/cmems_mod_bal_phy_anfc_PT1H-i_202411/2025/01/BAL-NEMO_PHY-2025010912.nc'), file_status='DOWNLOADED'), FileGet(s3_url='s3://mdl-native-11/native/BALTICSEA_ANALYSISFORECAST_PHY_003_006/cmems_mod_bal_phy_anfc_PT1H-i_202411/2025/01/BAL-NEMO_PHY-2025011000.nc', https_url='https://s3.waw3-1.cloudferro.com/mdl-native-11/native/BALTICSEA_ANALYSISFORECAST_PHY_003_006/cmems_mod_bal_phy_anfc_PT1H-i_202411/2025/01/BAL-NEMO_PHY-2025011000.nc', file_size=649.9311475753784, last_modified_datetime='2025-01-10T12:18:37.932000+00:00', etag='\"59a9f4986822f7c84485fc9eee2c4f9d-82\"', file_format='.nc', output_directory=PosixPath('.'), filename='BAL-NEMO_PHY-2025011000.nc', file_path=PosixPath('BALTICSEA_ANALYSISFORECAST_PHY_003_006/cmems_mod_bal_phy_anfc_PT1H-i_202411/2025/01/BAL-NEMO_PHY-2025011000.nc'), file_status='DOWNLOADED'), FileGet(s3_url='s3://mdl-native-11/native/BALTICSEA_ANALYSISFORECAST_PHY_003_006/cmems_mod_bal_phy_anfc_PT1H-i_202411/2025/01/BAL-NEMO_PHY-2025011012.nc', https_url='https://s3.waw3-1.cloudferro.com/mdl-native-11/native/BALTICSEA_ANALYSISFORECAST_PHY_003_006/cmems_mod_bal_phy_anfc_PT1H-i_202411/2025/01/BAL-NEMO_PHY-2025011012.nc', file_size=648.5796966552734, last_modified_datetime='2025-01-10T20:18:32.825000+00:00', etag='\"85d4a7f19f5a315c216230069c92fa91-82\"', file_format='.nc', output_directory=PosixPath('.'), filename='BAL-NEMO_PHY-2025011012.nc', file_path=PosixPath('BALTICSEA_ANALYSISFORECAST_PHY_003_006/cmems_mod_bal_phy_anfc_PT1H-i_202411/2025/01/BAL-NEMO_PHY-2025011012.nc'), file_status='DOWNLOADED'), FileGet(s3_url='s3://mdl-native-11/native/BALTICSEA_ANALYSISFORECAST_PHY_003_006/cmems_mod_bal_phy_anfc_PT1H-i_202411/2025/01/BAL-NEMO_PHY-2025011100.nc', https_url='https://s3.waw3-1.cloudferro.com/mdl-native-11/native/BALTICSEA_ANALYSISFORECAST_PHY_003_006/cmems_mod_bal_phy_anfc_PT1H-i_202411/2025/01/BAL-NEMO_PHY-2025011100.nc', file_size=648.8724822998047, last_modified_datetime='2025-01-11T12:32:07.197000+00:00', etag='\"eab3b92b01377720ec8f0ce730f9175b-82\"', file_format='.nc', output_directory=PosixPath('.'), filename='BAL-NEMO_PHY-2025011100.nc', file_path=PosixPath('BALTICSEA_ANALYSISFORECAST_PHY_003_006/cmems_mod_bal_phy_anfc_PT1H-i_202411/2025/01/BAL-NEMO_PHY-2025011100.nc'), file_status='DOWNLOADED'), FileGet(s3_url='s3://mdl-native-11/native/BALTICSEA_ANALYSISFORECAST_PHY_003_006/cmems_mod_bal_phy_anfc_PT1H-i_202411/2025/01/BAL-NEMO_PHY-2025011112.nc', https_url='https://s3.waw3-1.cloudferro.com/mdl-native-11/native/BALTICSEA_ANALYSISFORECAST_PHY_003_006/cmems_mod_bal_phy_anfc_PT1H-i_202411/2025/01/BAL-NEMO_PHY-2025011112.nc', file_size=649.5485677719116, last_modified_datetime='2025-01-11T20:18:49+00:00', etag='\"32046ba8c1183d5b81368610417588b5-82\"', file_format='.nc', output_directory=PosixPath('.'), filename='BAL-NEMO_PHY-2025011112.nc', file_path=PosixPath('BALTICSEA_ANALYSISFORECAST_PHY_003_006/cmems_mod_bal_phy_anfc_PT1H-i_202411/2025/01/BAL-NEMO_PHY-2025011112.nc'), file_status='DOWNLOADED'), FileGet(s3_url='s3://mdl-native-11/native/BALTICSEA_ANALYSISFORECAST_PHY_003_006/cmems_mod_bal_phy_anfc_PT1H-i_202411/2025/01/BAL-NEMO_PHY-2025011200.nc', https_url='https://s3.waw3-1.cloudferro.com/mdl-native-11/native/BALTICSEA_ANALYSISFORECAST_PHY_003_006/cmems_mod_bal_phy_anfc_PT1H-i_202411/2025/01/BAL-NEMO_PHY-2025011200.nc', file_size=650.8019599914551, last_modified_datetime='2025-01-12T12:16:29.628000+00:00', etag='\"66401f8ab0c377e0bd4b6e2cc4b4a5b7-82\"', file_format='.nc', output_directory=PosixPath('.'), filename='BAL-NEMO_PHY-2025011200.nc', file_path=PosixPath('BALTICSEA_ANALYSISFORECAST_PHY_003_006/cmems_mod_bal_phy_anfc_PT1H-i_202411/2025/01/BAL-NEMO_PHY-2025011200.nc'), file_status='DOWNLOADED'), FileGet(s3_url='s3://mdl-native-11/native/BALTICSEA_ANALYSISFORECAST_PHY_003_006/cmems_mod_bal_phy_anfc_PT1H-i_202411/2025/01/BAL-NEMO_PHY-2025011212.nc', https_url='https://s3.waw3-1.cloudferro.com/mdl-native-11/native/BALTICSEA_ANALYSISFORECAST_PHY_003_006/cmems_mod_bal_phy_anfc_PT1H-i_202411/2025/01/BAL-NEMO_PHY-2025011212.nc', file_size=652.0721006393433, last_modified_datetime='2025-01-12T20:15:13.136000+00:00', etag='\"d73bf899c62fa28e8c6219cc4ee750dd-82\"', file_format='.nc', output_directory=PosixPath('.'), filename='BAL-NEMO_PHY-2025011212.nc', file_path=PosixPath('BALTICSEA_ANALYSISFORECAST_PHY_003_006/cmems_mod_bal_phy_anfc_PT1H-i_202411/2025/01/BAL-NEMO_PHY-2025011212.nc'), file_status='DOWNLOADED'), FileGet(s3_url='s3://mdl-native-11/native/BALTICSEA_ANALYSISFORECAST_PHY_003_006/cmems_mod_bal_phy_anfc_PT1H-i_202411/2025/01/BAL-NEMO_PHY-2025011300.nc', https_url='https://s3.waw3-1.cloudferro.com/mdl-native-11/native/BALTICSEA_ANALYSISFORECAST_PHY_003_006/cmems_mod_bal_phy_anfc_PT1H-i_202411/2025/01/BAL-NEMO_PHY-2025011300.nc', file_size=652.9462242126465, last_modified_datetime='2025-01-13T12:16:49.206000+00:00', etag='\"5a03513eb535611b93beae218b87e6d2-82\"', file_format='.nc', output_directory=PosixPath('.'), filename='BAL-NEMO_PHY-2025011300.nc', file_path=PosixPath('BALTICSEA_ANALYSISFORECAST_PHY_003_006/cmems_mod_bal_phy_anfc_PT1H-i_202411/2025/01/BAL-NEMO_PHY-2025011300.nc'), file_status='DOWNLOADED'), FileGet(s3_url='s3://mdl-native-11/native/BALTICSEA_ANALYSISFORECAST_PHY_003_006/cmems_mod_bal_phy_anfc_PT1H-i_202411/2025/01/BAL-NEMO_PHY-2025011312.nc', https_url='https://s3.waw3-1.cloudferro.com/mdl-native-11/native/BALTICSEA_ANALYSISFORECAST_PHY_003_006/cmems_mod_bal_phy_anfc_PT1H-i_202411/2025/01/BAL-NEMO_PHY-2025011312.nc', file_size=650.6626605987549, last_modified_datetime='2025-01-13T20:18:37.574000+00:00', etag='\"fac0a7b26241d90d187acece0234bfab-82\"', file_format='.nc', output_directory=PosixPath('.'), filename='BAL-NEMO_PHY-2025011312.nc', file_path=PosixPath('BALTICSEA_ANALYSISFORECAST_PHY_003_006/cmems_mod_bal_phy_anfc_PT1H-i_202411/2025/01/BAL-NEMO_PHY-2025011312.nc'), file_status='DOWNLOADED'), FileGet(s3_url='s3://mdl-native-11/native/BALTICSEA_ANALYSISFORECAST_PHY_003_006/cmems_mod_bal_phy_anfc_PT1H-i_202411/2025/01/BAL-NEMO_PHY-2025011400.nc', https_url='https://s3.waw3-1.cloudferro.com/mdl-native-11/native/BALTICSEA_ANALYSISFORECAST_PHY_003_006/cmems_mod_bal_phy_anfc_PT1H-i_202411/2025/01/BAL-NEMO_PHY-2025011400.nc', file_size=649.8049030303955, last_modified_datetime='2025-01-14T12:16:45.530000+00:00', etag='\"841acbd531c4ad75545605211f01a4a9-82\"', file_format='.nc', output_directory=PosixPath('.'), filename='BAL-NEMO_PHY-2025011400.nc', file_path=PosixPath('BALTICSEA_ANALYSISFORECAST_PHY_003_006/cmems_mod_bal_phy_anfc_PT1H-i_202411/2025/01/BAL-NEMO_PHY-2025011400.nc'), file_status='DOWNLOADED'), FileGet(s3_url='s3://mdl-native-11/native/BALTICSEA_ANALYSISFORECAST_PHY_003_006/cmems_mod_bal_phy_anfc_PT1H-i_202411/2025/01/BAL-NEMO_PHY-2025011412.nc', https_url='https://s3.waw3-1.cloudferro.com/mdl-native-11/native/BALTICSEA_ANALYSISFORECAST_PHY_003_006/cmems_mod_bal_phy_anfc_PT1H-i_202411/2025/01/BAL-NEMO_PHY-2025011412.nc', file_size=649.5762662887573, last_modified_datetime='2025-01-14T20:17:29.042000+00:00', etag='\"546784dc27ccd7bb748ac7b3c3ef4ff9-82\"', file_format='.nc', output_directory=PosixPath('.'), filename='BAL-NEMO_PHY-2025011412.nc', file_path=PosixPath('BALTICSEA_ANALYSISFORECAST_PHY_003_006/cmems_mod_bal_phy_anfc_PT1H-i_202411/2025/01/BAL-NEMO_PHY-2025011412.nc'), file_status='DOWNLOADED'), FileGet(s3_url='s3://mdl-native-11/native/BALTICSEA_ANALYSISFORECAST_PHY_003_006/cmems_mod_bal_phy_anfc_PT1H-i_202411/2025/01/BAL-NEMO_PHY-2025011500.nc', https_url='https://s3.waw3-1.cloudferro.com/mdl-native-11/native/BALTICSEA_ANALYSISFORECAST_PHY_003_006/cmems_mod_bal_phy_anfc_PT1H-i_202411/2025/01/BAL-NEMO_PHY-2025011500.nc', file_size=651.3628635406494, last_modified_datetime='2025-01-15T12:18:11.799000+00:00', etag='\"3615029ef2a3f45557d734b23b1c2692-82\"', file_format='.nc', output_directory=PosixPath('.'), filename='BAL-NEMO_PHY-2025011500.nc', file_path=PosixPath('BALTICSEA_ANALYSISFORECAST_PHY_003_006/cmems_mod_bal_phy_anfc_PT1H-i_202411/2025/01/BAL-NEMO_PHY-2025011500.nc'), file_status='DOWNLOADED'), FileGet(s3_url='s3://mdl-native-11/native/BALTICSEA_ANALYSISFORECAST_PHY_003_006/cmems_mod_bal_phy_anfc_PT1H-i_202411/2025/01/BAL-NEMO_PHY-2025011512.nc', https_url='https://s3.waw3-1.cloudferro.com/mdl-native-11/native/BALTICSEA_ANALYSISFORECAST_PHY_003_006/cmems_mod_bal_phy_anfc_PT1H-i_202411/2025/01/BAL-NEMO_PHY-2025011512.nc', file_size=650.39515209198, last_modified_datetime='2025-01-15T20:16:51.719000+00:00', etag='\"199dfa48efacfa1a79665883c61b021b-82\"', file_format='.nc', output_directory=PosixPath('.'), filename='BAL-NEMO_PHY-2025011512.nc', file_path=PosixPath('BALTICSEA_ANALYSISFORECAST_PHY_003_006/cmems_mod_bal_phy_anfc_PT1H-i_202411/2025/01/BAL-NEMO_PHY-2025011512.nc'), file_status='DOWNLOADED'), FileGet(s3_url='s3://mdl-native-11/native/BALTICSEA_ANALYSISFORECAST_PHY_003_006/cmems_mod_bal_phy_anfc_PT1H-i_202411/2025/01/BAL-NEMO_PHY-2025011600.nc', https_url='https://s3.waw3-1.cloudferro.com/mdl-native-11/native/BALTICSEA_ANALYSISFORECAST_PHY_003_006/cmems_mod_bal_phy_anfc_PT1H-i_202411/2025/01/BAL-NEMO_PHY-2025011600.nc', file_size=649.875, last_modified_datetime='2025-01-16T12:28:45.152000+00:00', etag='\"89cb3548be1d9e77295413d1cf8d1d72-82\"', file_format='.nc', output_directory=PosixPath('.'), filename='BAL-NEMO_PHY-2025011600.nc', file_path=PosixPath('BALTICSEA_ANALYSISFORECAST_PHY_003_006/cmems_mod_bal_phy_anfc_PT1H-i_202411/2025/01/BAL-NEMO_PHY-2025011600.nc'), file_status='DOWNLOADED'), FileGet(s3_url='s3://mdl-native-11/native/BALTICSEA_ANALYSISFORECAST_PHY_003_006/cmems_mod_bal_phy_anfc_PT1H-i_202411/2025/01/BAL-NEMO_PHY-2025011612.nc', https_url='https://s3.waw3-1.cloudferro.com/mdl-native-11/native/BALTICSEA_ANALYSISFORECAST_PHY_003_006/cmems_mod_bal_phy_anfc_PT1H-i_202411/2025/01/BAL-NEMO_PHY-2025011612.nc', file_size=649.7788000106812, last_modified_datetime='2025-01-16T20:19:27.753000+00:00', etag='\"a7b77ba97183fdc8efbf4c9f8396dbce-82\"', file_format='.nc', output_directory=PosixPath('.'), filename='BAL-NEMO_PHY-2025011612.nc', file_path=PosixPath('BALTICSEA_ANALYSISFORECAST_PHY_003_006/cmems_mod_bal_phy_anfc_PT1H-i_202411/2025/01/BAL-NEMO_PHY-2025011612.nc'), file_status='DOWNLOADED'), FileGet(s3_url='s3://mdl-native-11/native/BALTICSEA_ANALYSISFORECAST_PHY_003_006/cmems_mod_bal_phy_anfc_PT1H-i_202411/2025/01/BAL-NEMO_PHY-2025011700.nc', https_url='https://s3.waw3-1.cloudferro.com/mdl-native-11/native/BALTICSEA_ANALYSISFORECAST_PHY_003_006/cmems_mod_bal_phy_anfc_PT1H-i_202411/2025/01/BAL-NEMO_PHY-2025011700.nc', file_size=650.473916053772, last_modified_datetime='2025-01-17T12:18:08.932000+00:00', etag='\"96e126c6ff659e7deb79fafb8f350577-82\"', file_format='.nc', output_directory=PosixPath('.'), filename='BAL-NEMO_PHY-2025011700.nc', file_path=PosixPath('BALTICSEA_ANALYSISFORECAST_PHY_003_006/cmems_mod_bal_phy_anfc_PT1H-i_202411/2025/01/BAL-NEMO_PHY-2025011700.nc'), file_status='DOWNLOADED'), FileGet(s3_url='s3://mdl-native-11/native/BALTICSEA_ANALYSISFORECAST_PHY_003_006/cmems_mod_bal_phy_anfc_PT1H-i_202411/2025/01/BAL-NEMO_PHY-2025011712.nc', https_url='https://s3.waw3-1.cloudferro.com/mdl-native-11/native/BALTICSEA_ANALYSISFORECAST_PHY_003_006/cmems_mod_bal_phy_anfc_PT1H-i_202411/2025/01/BAL-NEMO_PHY-2025011712.nc', file_size=649.0996007919312, last_modified_datetime='2025-01-17T20:26:50.244000+00:00', etag='\"3f931f2e8a9d30954fe2bb523fca4ba9-82\"', file_format='.nc', output_directory=PosixPath('.'), filename='BAL-NEMO_PHY-2025011712.nc', file_path=PosixPath('BALTICSEA_ANALYSISFORECAST_PHY_003_006/cmems_mod_bal_phy_anfc_PT1H-i_202411/2025/01/BAL-NEMO_PHY-2025011712.nc'), file_status='DOWNLOADED'), FileGet(s3_url='s3://mdl-native-11/native/BALTICSEA_ANALYSISFORECAST_PHY_003_006/cmems_mod_bal_phy_anfc_PT1H-i_202411/2025/01/BAL-NEMO_PHY-2025011800.nc', https_url='https://s3.waw3-1.cloudferro.com/mdl-native-11/native/BALTICSEA_ANALYSISFORECAST_PHY_003_006/cmems_mod_bal_phy_anfc_PT1H-i_202411/2025/01/BAL-NEMO_PHY-2025011800.nc', file_size=648.8373966217041, last_modified_datetime='2025-01-18T12:16:19.840000+00:00', etag='\"708a8679dfdba84dfb2237105224b0c0-82\"', file_format='.nc', output_directory=PosixPath('.'), filename='BAL-NEMO_PHY-2025011800.nc', file_path=PosixPath('BALTICSEA_ANALYSISFORECAST_PHY_003_006/cmems_mod_bal_phy_anfc_PT1H-i_202411/2025/01/BAL-NEMO_PHY-2025011800.nc'), file_status='DOWNLOADED'), FileGet(s3_url='s3://mdl-native-11/native/BALTICSEA_ANALYSISFORECAST_PHY_003_006/cmems_mod_bal_phy_anfc_PT1H-i_202411/2025/01/BAL-NEMO_PHY-2025011812.nc', https_url='https://s3.waw3-1.cloudferro.com/mdl-native-11/native/BALTICSEA_ANALYSISFORECAST_PHY_003_006/cmems_mod_bal_phy_anfc_PT1H-i_202411/2025/01/BAL-NEMO_PHY-2025011812.nc', file_size=649.6507663726807, last_modified_datetime='2025-01-18T22:08:11.078000+00:00', etag='\"d6e2e9b178a30959c23566bd40d89d37-82\"', file_format='.nc', output_directory=PosixPath('.'), filename='BAL-NEMO_PHY-2025011812.nc', file_path=PosixPath('BALTICSEA_ANALYSISFORECAST_PHY_003_006/cmems_mod_bal_phy_anfc_PT1H-i_202411/2025/01/BAL-NEMO_PHY-2025011812.nc'), file_status='DOWNLOADED'), FileGet(s3_url='s3://mdl-native-11/native/BALTICSEA_ANALYSISFORECAST_PHY_003_006/cmems_mod_bal_phy_anfc_PT1H-i_202411/2025/01/BAL-NEMO_PHY-2025011900.nc', https_url='https://s3.waw3-1.cloudferro.com/mdl-native-11/native/BALTICSEA_ANALYSISFORECAST_PHY_003_006/cmems_mod_bal_phy_anfc_PT1H-i_202411/2025/01/BAL-NEMO_PHY-2025011900.nc', file_size=650.2878494262695, last_modified_datetime='2025-01-19T12:16:37.113000+00:00', etag='\"34b21f3b16460078b6c1365d8dc5bea0-82\"', file_format='.nc', output_directory=PosixPath('.'), filename='BAL-NEMO_PHY-2025011900.nc', file_path=PosixPath('BALTICSEA_ANALYSISFORECAST_PHY_003_006/cmems_mod_bal_phy_anfc_PT1H-i_202411/2025/01/BAL-NEMO_PHY-2025011900.nc'), file_status='DOWNLOADED'), FileGet(s3_url='s3://mdl-native-11/native/BALTICSEA_ANALYSISFORECAST_PHY_003_006/cmems_mod_bal_phy_anfc_PT1H-i_202411/2025/01/BAL-NEMO_PHY-2025011912.nc', https_url='https://s3.waw3-1.cloudferro.com/mdl-native-11/native/BALTICSEA_ANALYSISFORECAST_PHY_003_006/cmems_mod_bal_phy_anfc_PT1H-i_202411/2025/01/BAL-NEMO_PHY-2025011912.nc', file_size=649.9428272247314, last_modified_datetime='2025-01-19T21:12:32.420000+00:00', etag='\"20158f677ee53d765db67882aea5d63d-82\"', file_format='.nc', output_directory=PosixPath('.'), filename='BAL-NEMO_PHY-2025011912.nc', file_path=PosixPath('BALTICSEA_ANALYSISFORECAST_PHY_003_006/cmems_mod_bal_phy_anfc_PT1H-i_202411/2025/01/BAL-NEMO_PHY-2025011912.nc'), file_status='DOWNLOADED'), FileGet(s3_url='s3://mdl-native-11/native/BALTICSEA_ANALYSISFORECAST_PHY_003_006/cmems_mod_bal_phy_anfc_PT1H-i_202411/2025/01/BAL-NEMO_PHY-2025012000.nc', https_url='https://s3.waw3-1.cloudferro.com/mdl-native-11/native/BALTICSEA_ANALYSISFORECAST_PHY_003_006/cmems_mod_bal_phy_anfc_PT1H-i_202411/2025/01/BAL-NEMO_PHY-2025012000.nc', file_size=651.1035861968994, last_modified_datetime='2025-01-20T12:16:16.646000+00:00', etag='\"efd1421b139afb8131f0d336e5cf7e6e-82\"', file_format='.nc', output_directory=PosixPath('.'), filename='BAL-NEMO_PHY-2025012000.nc', file_path=PosixPath('BALTICSEA_ANALYSISFORECAST_PHY_003_006/cmems_mod_bal_phy_anfc_PT1H-i_202411/2025/01/BAL-NEMO_PHY-2025012000.nc'), file_status='DOWNLOADED'), FileGet(s3_url='s3://mdl-native-11/native/BALTICSEA_ANALYSISFORECAST_PHY_003_006/cmems_mod_bal_phy_anfc_PT1H-i_202411/2025/01/BAL-NEMO_PHY-2025012012.nc', https_url='https://s3.waw3-1.cloudferro.com/mdl-native-11/native/BALTICSEA_ANALYSISFORECAST_PHY_003_006/cmems_mod_bal_phy_anfc_PT1H-i_202411/2025/01/BAL-NEMO_PHY-2025012012.nc', file_size=650.7741794586182, last_modified_datetime='2025-01-20T20:15:59.546000+00:00', etag='\"44e1bc2ac069b0a0ff6c191f5dda1dd8-82\"', file_format='.nc', output_directory=PosixPath('.'), filename='BAL-NEMO_PHY-2025012012.nc', file_path=PosixPath('BALTICSEA_ANALYSISFORECAST_PHY_003_006/cmems_mod_bal_phy_anfc_PT1H-i_202411/2025/01/BAL-NEMO_PHY-2025012012.nc'), file_status='DOWNLOADED'), FileGet(s3_url='s3://mdl-native-11/native/BALTICSEA_ANALYSISFORECAST_PHY_003_006/cmems_mod_bal_phy_anfc_PT1H-i_202411/2025/01/BAL-NEMO_PHY-2025012100.nc', https_url='https://s3.waw3-1.cloudferro.com/mdl-native-11/native/BALTICSEA_ANALYSISFORECAST_PHY_003_006/cmems_mod_bal_phy_anfc_PT1H-i_202411/2025/01/BAL-NEMO_PHY-2025012100.nc', file_size=650.6783504486084, last_modified_datetime='2025-01-21T12:18:34.289000+00:00', etag='\"906fa461534e0ada486e77f5c1bf77f1-82\"', file_format='.nc', output_directory=PosixPath('.'), filename='BAL-NEMO_PHY-2025012100.nc', file_path=PosixPath('BALTICSEA_ANALYSISFORECAST_PHY_003_006/cmems_mod_bal_phy_anfc_PT1H-i_202411/2025/01/BAL-NEMO_PHY-2025012100.nc'), file_status='DOWNLOADED'), FileGet(s3_url='s3://mdl-native-11/native/BALTICSEA_ANALYSISFORECAST_PHY_003_006/cmems_mod_bal_phy_anfc_PT1H-i_202411/2025/01/BAL-NEMO_PHY-2025012112.nc', https_url='https://s3.waw3-1.cloudferro.com/mdl-native-11/native/BALTICSEA_ANALYSISFORECAST_PHY_003_006/cmems_mod_bal_phy_anfc_PT1H-i_202411/2025/01/BAL-NEMO_PHY-2025012112.nc', file_size=650.8456172943115, last_modified_datetime='2025-01-21T20:12:15.391000+00:00', etag='\"cf5f5039667dba509259b6487b139a78-82\"', file_format='.nc', output_directory=PosixPath('.'), filename='BAL-NEMO_PHY-2025012112.nc', file_path=PosixPath('BALTICSEA_ANALYSISFORECAST_PHY_003_006/cmems_mod_bal_phy_anfc_PT1H-i_202411/2025/01/BAL-NEMO_PHY-2025012112.nc'), file_status='DOWNLOADED'), FileGet(s3_url='s3://mdl-native-11/native/BALTICSEA_ANALYSISFORECAST_PHY_003_006/cmems_mod_bal_phy_anfc_PT1H-i_202411/2025/01/BAL-NEMO_PHY-2025012200.nc', https_url='https://s3.waw3-1.cloudferro.com/mdl-native-11/native/BALTICSEA_ANALYSISFORECAST_PHY_003_006/cmems_mod_bal_phy_anfc_PT1H-i_202411/2025/01/BAL-NEMO_PHY-2025012200.nc', file_size=652.2030553817749, last_modified_datetime='2025-01-22T12:16:49.719000+00:00', etag='\"1b264c75428f7e905e8547574fffc4a7-82\"', file_format='.nc', output_directory=PosixPath('.'), filename='BAL-NEMO_PHY-2025012200.nc', file_path=PosixPath('BALTICSEA_ANALYSISFORECAST_PHY_003_006/cmems_mod_bal_phy_anfc_PT1H-i_202411/2025/01/BAL-NEMO_PHY-2025012200.nc'), file_status='DOWNLOADED'), FileGet(s3_url='s3://mdl-native-11/native/BALTICSEA_ANALYSISFORECAST_PHY_003_006/cmems_mod_bal_phy_anfc_PT1H-i_202411/2025/01/BAL-NEMO_PHY-2025012212.nc', https_url='https://s3.waw3-1.cloudferro.com/mdl-native-11/native/BALTICSEA_ANALYSISFORECAST_PHY_003_006/cmems_mod_bal_phy_anfc_PT1H-i_202411/2025/01/BAL-NEMO_PHY-2025012212.nc', file_size=652.3534097671509, last_modified_datetime='2025-01-22T20:14:31.744000+00:00', etag='\"e1afc3e5fbb017fc587c97e3639cb5b6-82\"', file_format='.nc', output_directory=PosixPath('.'), filename='BAL-NEMO_PHY-2025012212.nc', file_path=PosixPath('BALTICSEA_ANALYSISFORECAST_PHY_003_006/cmems_mod_bal_phy_anfc_PT1H-i_202411/2025/01/BAL-NEMO_PHY-2025012212.nc'), file_status='DOWNLOADED'), FileGet(s3_url='s3://mdl-native-11/native/BALTICSEA_ANALYSISFORECAST_PHY_003_006/cmems_mod_bal_phy_anfc_PT1H-i_202411/2025/01/BAL-NEMO_PHY-2025012300.nc', https_url='https://s3.waw3-1.cloudferro.com/mdl-native-11/native/BALTICSEA_ANALYSISFORECAST_PHY_003_006/cmems_mod_bal_phy_anfc_PT1H-i_202411/2025/01/BAL-NEMO_PHY-2025012300.nc', file_size=652.5668125152588, last_modified_datetime='2025-01-23T12:16:34.866000+00:00', etag='\"f207247dd8dfdc467a6e8d46caf85353-82\"', file_format='.nc', output_directory=PosixPath('.'), filename='BAL-NEMO_PHY-2025012300.nc', file_path=PosixPath('BALTICSEA_ANALYSISFORECAST_PHY_003_006/cmems_mod_bal_phy_anfc_PT1H-i_202411/2025/01/BAL-NEMO_PHY-2025012300.nc'), file_status='DOWNLOADED'), FileGet(s3_url='s3://mdl-native-11/native/BALTICSEA_ANALYSISFORECAST_PHY_003_006/cmems_mod_bal_phy_anfc_PT1H-i_202411/2025/01/BAL-NEMO_PHY-2025012312.nc', https_url='https://s3.waw3-1.cloudferro.com/mdl-native-11/native/BALTICSEA_ANALYSISFORECAST_PHY_003_006/cmems_mod_bal_phy_anfc_PT1H-i_202411/2025/01/BAL-NEMO_PHY-2025012312.nc', file_size=651.2795820236206, last_modified_datetime='2025-01-23T20:15:20.691000+00:00', etag='\"dc0913f3e5257f5c57c54d64913f70e7-82\"', file_format='.nc', output_directory=PosixPath('.'), filename='BAL-NEMO_PHY-2025012312.nc', file_path=PosixPath('BALTICSEA_ANALYSISFORECAST_PHY_003_006/cmems_mod_bal_phy_anfc_PT1H-i_202411/2025/01/BAL-NEMO_PHY-2025012312.nc'), file_status='DOWNLOADED'), FileGet(s3_url='s3://mdl-native-11/native/BALTICSEA_ANALYSISFORECAST_PHY_003_006/cmems_mod_bal_phy_anfc_PT1H-i_202411/2025/01/BAL-NEMO_PHY-2025012400.nc', https_url='https://s3.waw3-1.cloudferro.com/mdl-native-11/native/BALTICSEA_ANALYSISFORECAST_PHY_003_006/cmems_mod_bal_phy_anfc_PT1H-i_202411/2025/01/BAL-NEMO_PHY-2025012400.nc', file_size=651.3773136138916, last_modified_datetime='2025-01-24T12:18:05.920000+00:00', etag='\"ae54854dde89cb199b72e424e98d29c1-82\"', file_format='.nc', output_directory=PosixPath('.'), filename='BAL-NEMO_PHY-2025012400.nc', file_path=PosixPath('BALTICSEA_ANALYSISFORECAST_PHY_003_006/cmems_mod_bal_phy_anfc_PT1H-i_202411/2025/01/BAL-NEMO_PHY-2025012400.nc'), file_status='DOWNLOADED'), FileGet(s3_url='s3://mdl-native-11/native/BALTICSEA_ANALYSISFORECAST_PHY_003_006/cmems_mod_bal_phy_anfc_PT1H-i_202411/2025/01/BAL-NEMO_PHY-2025012412.nc', https_url='https://s3.waw3-1.cloudferro.com/mdl-native-11/native/BALTICSEA_ANALYSISFORECAST_PHY_003_006/cmems_mod_bal_phy_anfc_PT1H-i_202411/2025/01/BAL-NEMO_PHY-2025012412.nc', file_size=650.5478744506836, last_modified_datetime='2025-01-24T20:12:51.626000+00:00', etag='\"1126cd7d5a96fef9c1b39d04fdfa80b3-82\"', file_format='.nc', output_directory=PosixPath('.'), filename='BAL-NEMO_PHY-2025012412.nc', file_path=PosixPath('BALTICSEA_ANALYSISFORECAST_PHY_003_006/cmems_mod_bal_phy_anfc_PT1H-i_202411/2025/01/BAL-NEMO_PHY-2025012412.nc'), file_status='DOWNLOADED'), FileGet(s3_url='s3://mdl-native-11/native/BALTICSEA_ANALYSISFORECAST_PHY_003_006/cmems_mod_bal_phy_anfc_PT1H-i_202411/2025/01/BAL-NEMO_PHY-2025012500.nc', https_url='https://s3.waw3-1.cloudferro.com/mdl-native-11/native/BALTICSEA_ANALYSISFORECAST_PHY_003_006/cmems_mod_bal_phy_anfc_PT1H-i_202411/2025/01/BAL-NEMO_PHY-2025012500.nc', file_size=649.6902837753296, last_modified_datetime='2025-01-25T12:32:26.219000+00:00', etag='\"753a4611b77ae1db5e93a1ea25289e0e-82\"', file_format='.nc', output_directory=PosixPath('.'), filename='BAL-NEMO_PHY-2025012500.nc', file_path=PosixPath('BALTICSEA_ANALYSISFORECAST_PHY_003_006/cmems_mod_bal_phy_anfc_PT1H-i_202411/2025/01/BAL-NEMO_PHY-2025012500.nc'), file_status='DOWNLOADED'), FileGet(s3_url='s3://mdl-native-11/native/BALTICSEA_ANALYSISFORECAST_PHY_003_006/cmems_mod_bal_phy_anfc_PT1H-i_202411/2025/01/BAL-NEMO_PHY-2025012512.nc', https_url='https://s3.waw3-1.cloudferro.com/mdl-native-11/native/BALTICSEA_ANALYSISFORECAST_PHY_003_006/cmems_mod_bal_phy_anfc_PT1H-i_202411/2025/01/BAL-NEMO_PHY-2025012512.nc', file_size=649.7475233078003, last_modified_datetime='2025-01-25T20:13:06.084000+00:00', etag='\"a0ace6a8f2044cc70324d3cb9eb1854a-82\"', file_format='.nc', output_directory=PosixPath('.'), filename='BAL-NEMO_PHY-2025012512.nc', file_path=PosixPath('BALTICSEA_ANALYSISFORECAST_PHY_003_006/cmems_mod_bal_phy_anfc_PT1H-i_202411/2025/01/BAL-NEMO_PHY-2025012512.nc'), file_status='DOWNLOADED'), FileGet(s3_url='s3://mdl-native-11/native/BALTICSEA_ANALYSISFORECAST_PHY_003_006/cmems_mod_bal_phy_anfc_PT1H-i_202411/2025/01/BAL-NEMO_PHY-2025012600.nc', https_url='https://s3.waw3-1.cloudferro.com/mdl-native-11/native/BALTICSEA_ANALYSISFORECAST_PHY_003_006/cmems_mod_bal_phy_anfc_PT1H-i_202411/2025/01/BAL-NEMO_PHY-2025012600.nc', file_size=650.0303106307983, last_modified_datetime='2025-01-26T12:18:44.870000+00:00', etag='\"072943d3f951d38c39ff9e6f252284b5-82\"', file_format='.nc', output_directory=PosixPath('.'), filename='BAL-NEMO_PHY-2025012600.nc', file_path=PosixPath('BALTICSEA_ANALYSISFORECAST_PHY_003_006/cmems_mod_bal_phy_anfc_PT1H-i_202411/2025/01/BAL-NEMO_PHY-2025012600.nc'), file_status='DOWNLOADED'), FileGet(s3_url='s3://mdl-native-11/native/BALTICSEA_ANALYSISFORECAST_PHY_003_006/cmems_mod_bal_phy_anfc_PT1H-i_202411/2025/01/BAL-NEMO_PHY-2025012612.nc', https_url='https://s3.waw3-1.cloudferro.com/mdl-native-11/native/BALTICSEA_ANALYSISFORECAST_PHY_003_006/cmems_mod_bal_phy_anfc_PT1H-i_202411/2025/01/BAL-NEMO_PHY-2025012612.nc', file_size=650.2786712646484, last_modified_datetime='2025-01-26T20:14:16.716000+00:00', etag='\"6dc74b276617fffe87a18264b61e6a0f-82\"', file_format='.nc', output_directory=PosixPath('.'), filename='BAL-NEMO_PHY-2025012612.nc', file_path=PosixPath('BALTICSEA_ANALYSISFORECAST_PHY_003_006/cmems_mod_bal_phy_anfc_PT1H-i_202411/2025/01/BAL-NEMO_PHY-2025012612.nc'), file_status='DOWNLOADED'), FileGet(s3_url='s3://mdl-native-11/native/BALTICSEA_ANALYSISFORECAST_PHY_003_006/cmems_mod_bal_phy_anfc_PT1H-i_202411/2025/01/BAL-NEMO_PHY-2025012700.nc', https_url='https://s3.waw3-1.cloudferro.com/mdl-native-11/native/BALTICSEA_ANALYSISFORECAST_PHY_003_006/cmems_mod_bal_phy_anfc_PT1H-i_202411/2025/01/BAL-NEMO_PHY-2025012700.nc', file_size=650.6708393096924, last_modified_datetime='2025-01-27T12:18:43.108000+00:00', etag='\"96b31e1f0341fe4a475eaec54c1bf51e-82\"', file_format='.nc', output_directory=PosixPath('.'), filename='BAL-NEMO_PHY-2025012700.nc', file_path=PosixPath('BALTICSEA_ANALYSISFORECAST_PHY_003_006/cmems_mod_bal_phy_anfc_PT1H-i_202411/2025/01/BAL-NEMO_PHY-2025012700.nc'), file_status='DOWNLOADED'), FileGet(s3_url='s3://mdl-native-11/native/BALTICSEA_ANALYSISFORECAST_PHY_003_006/cmems_mod_bal_phy_anfc_PT1H-i_202411/2025/01/BAL-NEMO_PHY-2025012712.nc', https_url='https://s3.waw3-1.cloudferro.com/mdl-native-11/native/BALTICSEA_ANALYSISFORECAST_PHY_003_006/cmems_mod_bal_phy_anfc_PT1H-i_202411/2025/01/BAL-NEMO_PHY-2025012712.nc', file_size=650.2980766296387, last_modified_datetime='2025-01-27T20:19:36.472000+00:00', etag='\"0f1c6b6c4dd6bbea9133034de158dbdd-82\"', file_format='.nc', output_directory=PosixPath('.'), filename='BAL-NEMO_PHY-2025012712.nc', file_path=PosixPath('BALTICSEA_ANALYSISFORECAST_PHY_003_006/cmems_mod_bal_phy_anfc_PT1H-i_202411/2025/01/BAL-NEMO_PHY-2025012712.nc'), file_status='DOWNLOADED'), FileGet(s3_url='s3://mdl-native-11/native/BALTICSEA_ANALYSISFORECAST_PHY_003_006/cmems_mod_bal_phy_anfc_PT1H-i_202411/2025/01/BAL-NEMO_PHY-2025012800.nc', https_url='https://s3.waw3-1.cloudferro.com/mdl-native-11/native/BALTICSEA_ANALYSISFORECAST_PHY_003_006/cmems_mod_bal_phy_anfc_PT1H-i_202411/2025/01/BAL-NEMO_PHY-2025012800.nc', file_size=650.6717376708984, last_modified_datetime='2025-01-28T12:18:12.116000+00:00', etag='\"60be0d18205143740d16958f7441b75c-82\"', file_format='.nc', output_directory=PosixPath('.'), filename='BAL-NEMO_PHY-2025012800.nc', file_path=PosixPath('BALTICSEA_ANALYSISFORECAST_PHY_003_006/cmems_mod_bal_phy_anfc_PT1H-i_202411/2025/01/BAL-NEMO_PHY-2025012800.nc'), file_status='DOWNLOADED'), FileGet(s3_url='s3://mdl-native-11/native/BALTICSEA_ANALYSISFORECAST_PHY_003_006/cmems_mod_bal_phy_anfc_PT1H-i_202411/2025/01/BAL-NEMO_PHY-2025012812.nc', https_url='https://s3.waw3-1.cloudferro.com/mdl-native-11/native/BALTICSEA_ANALYSISFORECAST_PHY_003_006/cmems_mod_bal_phy_anfc_PT1H-i_202411/2025/01/BAL-NEMO_PHY-2025012812.nc', file_size=650.6949939727783, last_modified_datetime='2025-01-28T20:12:53.695000+00:00', etag='\"f3c275d742f9dab5aa23342b78f007f6-82\"', file_format='.nc', output_directory=PosixPath('.'), filename='BAL-NEMO_PHY-2025012812.nc', file_path=PosixPath('BALTICSEA_ANALYSISFORECAST_PHY_003_006/cmems_mod_bal_phy_anfc_PT1H-i_202411/2025/01/BAL-NEMO_PHY-2025012812.nc'), file_status='DOWNLOADED'), FileGet(s3_url='s3://mdl-native-11/native/BALTICSEA_ANALYSISFORECAST_PHY_003_006/cmems_mod_bal_phy_anfc_PT1H-i_202411/2025/01/BAL-NEMO_PHY-2025012900.nc', https_url='https://s3.waw3-1.cloudferro.com/mdl-native-11/native/BALTICSEA_ANALYSISFORECAST_PHY_003_006/cmems_mod_bal_phy_anfc_PT1H-i_202411/2025/01/BAL-NEMO_PHY-2025012900.nc', file_size=650.4279775619507, last_modified_datetime='2025-01-29T12:18:38.733000+00:00', etag='\"0d1dc3d669123eed0d14320654f99f91-82\"', file_format='.nc', output_directory=PosixPath('.'), filename='BAL-NEMO_PHY-2025012900.nc', file_path=PosixPath('BALTICSEA_ANALYSISFORECAST_PHY_003_006/cmems_mod_bal_phy_anfc_PT1H-i_202411/2025/01/BAL-NEMO_PHY-2025012900.nc'), file_status='DOWNLOADED'), FileGet(s3_url='s3://mdl-native-11/native/BALTICSEA_ANALYSISFORECAST_PHY_003_006/cmems_mod_bal_phy_anfc_PT1H-i_202411/2025/01/BAL-NEMO_PHY-2025012912.nc', https_url='https://s3.waw3-1.cloudferro.com/mdl-native-11/native/BALTICSEA_ANALYSISFORECAST_PHY_003_006/cmems_mod_bal_phy_anfc_PT1H-i_202411/2025/01/BAL-NEMO_PHY-2025012912.nc', file_size=649.180251121521, last_modified_datetime='2025-01-29T20:18:23.212000+00:00', etag='\"20defb38afa8d66451c1fe4fd1a1e703-82\"', file_format='.nc', output_directory=PosixPath('.'), filename='BAL-NEMO_PHY-2025012912.nc', file_path=PosixPath('BALTICSEA_ANALYSISFORECAST_PHY_003_006/cmems_mod_bal_phy_anfc_PT1H-i_202411/2025/01/BAL-NEMO_PHY-2025012912.nc'), file_status='DOWNLOADED'), FileGet(s3_url='s3://mdl-native-11/native/BALTICSEA_ANALYSISFORECAST_PHY_003_006/cmems_mod_bal_phy_anfc_PT1H-i_202411/2025/01/BAL-NEMO_PHY-2025013000.nc', https_url='https://s3.waw3-1.cloudferro.com/mdl-native-11/native/BALTICSEA_ANALYSISFORECAST_PHY_003_006/cmems_mod_bal_phy_anfc_PT1H-i_202411/2025/01/BAL-NEMO_PHY-2025013000.nc', file_size=649.2390251159668, last_modified_datetime='2025-01-30T12:22:14.947000+00:00', etag='\"9dc08e52bf84071e4b12afb0c8e64f9a-82\"', file_format='.nc', output_directory=PosixPath('.'), filename='BAL-NEMO_PHY-2025013000.nc', file_path=PosixPath('BALTICSEA_ANALYSISFORECAST_PHY_003_006/cmems_mod_bal_phy_anfc_PT1H-i_202411/2025/01/BAL-NEMO_PHY-2025013000.nc'), file_status='DOWNLOADED'), FileGet(s3_url='s3://mdl-native-11/native/BALTICSEA_ANALYSISFORECAST_PHY_003_006/cmems_mod_bal_phy_anfc_PT1H-i_202411/2025/01/BAL-NEMO_PHY-2025013012.nc', https_url='https://s3.waw3-1.cloudferro.com/mdl-native-11/native/BALTICSEA_ANALYSISFORECAST_PHY_003_006/cmems_mod_bal_phy_anfc_PT1H-i_202411/2025/01/BAL-NEMO_PHY-2025013012.nc', file_size=649.8798637390137, last_modified_datetime='2025-01-30T20:16:56.909000+00:00', etag='\"088f59eb8bf3b0e6b3ad09e8721cbbad-82\"', file_format='.nc', output_directory=PosixPath('.'), filename='BAL-NEMO_PHY-2025013012.nc', file_path=PosixPath('BALTICSEA_ANALYSISFORECAST_PHY_003_006/cmems_mod_bal_phy_anfc_PT1H-i_202411/2025/01/BAL-NEMO_PHY-2025013012.nc'), file_status='DOWNLOADED'), FileGet(s3_url='s3://mdl-native-11/native/BALTICSEA_ANALYSISFORECAST_PHY_003_006/cmems_mod_bal_phy_anfc_PT1H-i_202411/2025/01/BAL-NEMO_PHY-2025013100.nc', https_url='https://s3.waw3-1.cloudferro.com/mdl-native-11/native/BALTICSEA_ANALYSISFORECAST_PHY_003_006/cmems_mod_bal_phy_anfc_PT1H-i_202411/2025/01/BAL-NEMO_PHY-2025013100.nc', file_size=650.5148210525513, last_modified_datetime='2025-01-31T12:19:57.439000+00:00', etag='\"cbe45006d323efe423fd965268f0a4f4-82\"', file_format='.nc', output_directory=PosixPath('.'), filename='BAL-NEMO_PHY-2025013100.nc', file_path=PosixPath('BALTICSEA_ANALYSISFORECAST_PHY_003_006/cmems_mod_bal_phy_anfc_PT1H-i_202411/2025/01/BAL-NEMO_PHY-2025013100.nc'), file_status='DOWNLOADED'), FileGet(s3_url='s3://mdl-native-11/native/BALTICSEA_ANALYSISFORECAST_PHY_003_006/cmems_mod_bal_phy_anfc_PT1H-i_202411/2025/01/BAL-NEMO_PHY-2025013112.nc', https_url='https://s3.waw3-1.cloudferro.com/mdl-native-11/native/BALTICSEA_ANALYSISFORECAST_PHY_003_006/cmems_mod_bal_phy_anfc_PT1H-i_202411/2025/01/BAL-NEMO_PHY-2025013112.nc', file_size=650.2510805130005, last_modified_datetime='2025-01-31T20:13:39.306000+00:00', etag='\"fb9c85777e2dced26742b258be597464-82\"', file_format='.nc', output_directory=PosixPath('.'), filename='BAL-NEMO_PHY-2025013112.nc', file_path=PosixPath('BALTICSEA_ANALYSISFORECAST_PHY_003_006/cmems_mod_bal_phy_anfc_PT1H-i_202411/2025/01/BAL-NEMO_PHY-2025013112.nc'), file_status='DOWNLOADED')], files_deleted=None, files_not_found=None, number_of_files_to_download=62, total_size=40297.07271671295, status=<StatusCode.DRY_RUN: '001'>, message=<StatusMessage.DRY_RUN: 'The request was run with the dry-run option. No data was downloaded.'>)"
      ]
     },
     "execution_count": 10,
     "metadata": {},
     "output_type": "execute_result"
    }
   ],
   "source": [
    "query_metadata"
   ]
  },
  {
   "cell_type": "code",
   "execution_count": 16,
   "metadata": {},
   "outputs": [
    {
     "data": {
      "application/vnd.plotly.v1+json": {
       "config": {
        "plotlyServerURL": "https://plot.ly"
       },
       "data": [
        {
         "marker": {
          "cmax": 50,
          "cmin": 0,
          "color": [
           30
          ],
          "colorbar": {
           "len": 0.9,
           "tickvals": [
            0,
            10,
            20,
            30,
            40,
            50
           ],
           "title": {
            "text": "Wind (m/s)"
           },
           "x": 0.7,
           "y": 0.5
          },
          "colorscale": [
           [
            0,
            "rgb(255,245,235)"
           ],
           [
            0.125,
            "rgb(254,230,206)"
           ],
           [
            0.25,
            "rgb(253,208,162)"
           ],
           [
            0.375,
            "rgb(253,174,107)"
           ],
           [
            0.5,
            "rgb(253,141,60)"
           ],
           [
            0.625,
            "rgb(241,105,19)"
           ],
           [
            0.75,
            "rgb(217,72,1)"
           ],
           [
            0.875,
            "rgb(166,54,3)"
           ],
           [
            1,
            "rgb(127,39,4)"
           ]
          ],
          "showscale": true
         },
         "r": [
          30
         ],
         "theta": [
          0
         ],
         "type": "barpolar",
         "width": 45
        }
       ],
       "layout": {
        "font": {
         "color": "#053246"
        },
        "plot_bgcolor": "#78d278",
        "polar": {
         "angularaxis": {
          "direction": "clockwise",
          "tickmode": "array",
          "ticktext": [
           "N",
           "E",
           "S",
           "W"
          ],
          "tickvals": [
           0,
           90,
           180,
           270
          ]
         },
         "radialaxis": {
          "showticklabels": false,
          "ticksuffix": " m/s"
         }
        },
        "template": {
         "data": {
          "bar": [
           {
            "error_x": {
             "color": "#2a3f5f"
            },
            "error_y": {
             "color": "#2a3f5f"
            },
            "marker": {
             "line": {
              "color": "#E5ECF6",
              "width": 0.5
             },
             "pattern": {
              "fillmode": "overlay",
              "size": 10,
              "solidity": 0.2
             }
            },
            "type": "bar"
           }
          ],
          "barpolar": [
           {
            "marker": {
             "line": {
              "color": "#E5ECF6",
              "width": 0.5
             },
             "pattern": {
              "fillmode": "overlay",
              "size": 10,
              "solidity": 0.2
             }
            },
            "type": "barpolar"
           }
          ],
          "carpet": [
           {
            "aaxis": {
             "endlinecolor": "#2a3f5f",
             "gridcolor": "white",
             "linecolor": "white",
             "minorgridcolor": "white",
             "startlinecolor": "#2a3f5f"
            },
            "baxis": {
             "endlinecolor": "#2a3f5f",
             "gridcolor": "white",
             "linecolor": "white",
             "minorgridcolor": "white",
             "startlinecolor": "#2a3f5f"
            },
            "type": "carpet"
           }
          ],
          "choropleth": [
           {
            "colorbar": {
             "outlinewidth": 0,
             "ticks": ""
            },
            "type": "choropleth"
           }
          ],
          "contour": [
           {
            "colorbar": {
             "outlinewidth": 0,
             "ticks": ""
            },
            "colorscale": [
             [
              0,
              "#0d0887"
             ],
             [
              0.1111111111111111,
              "#46039f"
             ],
             [
              0.2222222222222222,
              "#7201a8"
             ],
             [
              0.3333333333333333,
              "#9c179e"
             ],
             [
              0.4444444444444444,
              "#bd3786"
             ],
             [
              0.5555555555555556,
              "#d8576b"
             ],
             [
              0.6666666666666666,
              "#ed7953"
             ],
             [
              0.7777777777777778,
              "#fb9f3a"
             ],
             [
              0.8888888888888888,
              "#fdca26"
             ],
             [
              1,
              "#f0f921"
             ]
            ],
            "type": "contour"
           }
          ],
          "contourcarpet": [
           {
            "colorbar": {
             "outlinewidth": 0,
             "ticks": ""
            },
            "type": "contourcarpet"
           }
          ],
          "heatmap": [
           {
            "colorbar": {
             "outlinewidth": 0,
             "ticks": ""
            },
            "colorscale": [
             [
              0,
              "#0d0887"
             ],
             [
              0.1111111111111111,
              "#46039f"
             ],
             [
              0.2222222222222222,
              "#7201a8"
             ],
             [
              0.3333333333333333,
              "#9c179e"
             ],
             [
              0.4444444444444444,
              "#bd3786"
             ],
             [
              0.5555555555555556,
              "#d8576b"
             ],
             [
              0.6666666666666666,
              "#ed7953"
             ],
             [
              0.7777777777777778,
              "#fb9f3a"
             ],
             [
              0.8888888888888888,
              "#fdca26"
             ],
             [
              1,
              "#f0f921"
             ]
            ],
            "type": "heatmap"
           }
          ],
          "heatmapgl": [
           {
            "colorbar": {
             "outlinewidth": 0,
             "ticks": ""
            },
            "colorscale": [
             [
              0,
              "#0d0887"
             ],
             [
              0.1111111111111111,
              "#46039f"
             ],
             [
              0.2222222222222222,
              "#7201a8"
             ],
             [
              0.3333333333333333,
              "#9c179e"
             ],
             [
              0.4444444444444444,
              "#bd3786"
             ],
             [
              0.5555555555555556,
              "#d8576b"
             ],
             [
              0.6666666666666666,
              "#ed7953"
             ],
             [
              0.7777777777777778,
              "#fb9f3a"
             ],
             [
              0.8888888888888888,
              "#fdca26"
             ],
             [
              1,
              "#f0f921"
             ]
            ],
            "type": "heatmapgl"
           }
          ],
          "histogram": [
           {
            "marker": {
             "pattern": {
              "fillmode": "overlay",
              "size": 10,
              "solidity": 0.2
             }
            },
            "type": "histogram"
           }
          ],
          "histogram2d": [
           {
            "colorbar": {
             "outlinewidth": 0,
             "ticks": ""
            },
            "colorscale": [
             [
              0,
              "#0d0887"
             ],
             [
              0.1111111111111111,
              "#46039f"
             ],
             [
              0.2222222222222222,
              "#7201a8"
             ],
             [
              0.3333333333333333,
              "#9c179e"
             ],
             [
              0.4444444444444444,
              "#bd3786"
             ],
             [
              0.5555555555555556,
              "#d8576b"
             ],
             [
              0.6666666666666666,
              "#ed7953"
             ],
             [
              0.7777777777777778,
              "#fb9f3a"
             ],
             [
              0.8888888888888888,
              "#fdca26"
             ],
             [
              1,
              "#f0f921"
             ]
            ],
            "type": "histogram2d"
           }
          ],
          "histogram2dcontour": [
           {
            "colorbar": {
             "outlinewidth": 0,
             "ticks": ""
            },
            "colorscale": [
             [
              0,
              "#0d0887"
             ],
             [
              0.1111111111111111,
              "#46039f"
             ],
             [
              0.2222222222222222,
              "#7201a8"
             ],
             [
              0.3333333333333333,
              "#9c179e"
             ],
             [
              0.4444444444444444,
              "#bd3786"
             ],
             [
              0.5555555555555556,
              "#d8576b"
             ],
             [
              0.6666666666666666,
              "#ed7953"
             ],
             [
              0.7777777777777778,
              "#fb9f3a"
             ],
             [
              0.8888888888888888,
              "#fdca26"
             ],
             [
              1,
              "#f0f921"
             ]
            ],
            "type": "histogram2dcontour"
           }
          ],
          "mesh3d": [
           {
            "colorbar": {
             "outlinewidth": 0,
             "ticks": ""
            },
            "type": "mesh3d"
           }
          ],
          "parcoords": [
           {
            "line": {
             "colorbar": {
              "outlinewidth": 0,
              "ticks": ""
             }
            },
            "type": "parcoords"
           }
          ],
          "pie": [
           {
            "automargin": true,
            "type": "pie"
           }
          ],
          "scatter": [
           {
            "fillpattern": {
             "fillmode": "overlay",
             "size": 10,
             "solidity": 0.2
            },
            "type": "scatter"
           }
          ],
          "scatter3d": [
           {
            "line": {
             "colorbar": {
              "outlinewidth": 0,
              "ticks": ""
             }
            },
            "marker": {
             "colorbar": {
              "outlinewidth": 0,
              "ticks": ""
             }
            },
            "type": "scatter3d"
           }
          ],
          "scattercarpet": [
           {
            "marker": {
             "colorbar": {
              "outlinewidth": 0,
              "ticks": ""
             }
            },
            "type": "scattercarpet"
           }
          ],
          "scattergeo": [
           {
            "marker": {
             "colorbar": {
              "outlinewidth": 0,
              "ticks": ""
             }
            },
            "type": "scattergeo"
           }
          ],
          "scattergl": [
           {
            "marker": {
             "colorbar": {
              "outlinewidth": 0,
              "ticks": ""
             }
            },
            "type": "scattergl"
           }
          ],
          "scattermapbox": [
           {
            "marker": {
             "colorbar": {
              "outlinewidth": 0,
              "ticks": ""
             }
            },
            "type": "scattermapbox"
           }
          ],
          "scatterpolar": [
           {
            "marker": {
             "colorbar": {
              "outlinewidth": 0,
              "ticks": ""
             }
            },
            "type": "scatterpolar"
           }
          ],
          "scatterpolargl": [
           {
            "marker": {
             "colorbar": {
              "outlinewidth": 0,
              "ticks": ""
             }
            },
            "type": "scatterpolargl"
           }
          ],
          "scatterternary": [
           {
            "marker": {
             "colorbar": {
              "outlinewidth": 0,
              "ticks": ""
             }
            },
            "type": "scatterternary"
           }
          ],
          "surface": [
           {
            "colorbar": {
             "outlinewidth": 0,
             "ticks": ""
            },
            "colorscale": [
             [
              0,
              "#0d0887"
             ],
             [
              0.1111111111111111,
              "#46039f"
             ],
             [
              0.2222222222222222,
              "#7201a8"
             ],
             [
              0.3333333333333333,
              "#9c179e"
             ],
             [
              0.4444444444444444,
              "#bd3786"
             ],
             [
              0.5555555555555556,
              "#d8576b"
             ],
             [
              0.6666666666666666,
              "#ed7953"
             ],
             [
              0.7777777777777778,
              "#fb9f3a"
             ],
             [
              0.8888888888888888,
              "#fdca26"
             ],
             [
              1,
              "#f0f921"
             ]
            ],
            "type": "surface"
           }
          ],
          "table": [
           {
            "cells": {
             "fill": {
              "color": "#EBF0F8"
             },
             "line": {
              "color": "white"
             }
            },
            "header": {
             "fill": {
              "color": "#C8D4E3"
             },
             "line": {
              "color": "white"
             }
            },
            "type": "table"
           }
          ]
         },
         "layout": {
          "annotationdefaults": {
           "arrowcolor": "#2a3f5f",
           "arrowhead": 0,
           "arrowwidth": 1
          },
          "autotypenumbers": "strict",
          "coloraxis": {
           "colorbar": {
            "outlinewidth": 0,
            "ticks": ""
           }
          },
          "colorscale": {
           "diverging": [
            [
             0,
             "#8e0152"
            ],
            [
             0.1,
             "#c51b7d"
            ],
            [
             0.2,
             "#de77ae"
            ],
            [
             0.3,
             "#f1b6da"
            ],
            [
             0.4,
             "#fde0ef"
            ],
            [
             0.5,
             "#f7f7f7"
            ],
            [
             0.6,
             "#e6f5d0"
            ],
            [
             0.7,
             "#b8e186"
            ],
            [
             0.8,
             "#7fbc41"
            ],
            [
             0.9,
             "#4d9221"
            ],
            [
             1,
             "#276419"
            ]
           ],
           "sequential": [
            [
             0,
             "#0d0887"
            ],
            [
             0.1111111111111111,
             "#46039f"
            ],
            [
             0.2222222222222222,
             "#7201a8"
            ],
            [
             0.3333333333333333,
             "#9c179e"
            ],
            [
             0.4444444444444444,
             "#bd3786"
            ],
            [
             0.5555555555555556,
             "#d8576b"
            ],
            [
             0.6666666666666666,
             "#ed7953"
            ],
            [
             0.7777777777777778,
             "#fb9f3a"
            ],
            [
             0.8888888888888888,
             "#fdca26"
            ],
            [
             1,
             "#f0f921"
            ]
           ],
           "sequentialminus": [
            [
             0,
             "#0d0887"
            ],
            [
             0.1111111111111111,
             "#46039f"
            ],
            [
             0.2222222222222222,
             "#7201a8"
            ],
            [
             0.3333333333333333,
             "#9c179e"
            ],
            [
             0.4444444444444444,
             "#bd3786"
            ],
            [
             0.5555555555555556,
             "#d8576b"
            ],
            [
             0.6666666666666666,
             "#ed7953"
            ],
            [
             0.7777777777777778,
             "#fb9f3a"
            ],
            [
             0.8888888888888888,
             "#fdca26"
            ],
            [
             1,
             "#f0f921"
            ]
           ]
          },
          "colorway": [
           "#636efa",
           "#EF553B",
           "#00cc96",
           "#ab63fa",
           "#FFA15A",
           "#19d3f3",
           "#FF6692",
           "#B6E880",
           "#FF97FF",
           "#FECB52"
          ],
          "font": {
           "color": "#2a3f5f"
          },
          "geo": {
           "bgcolor": "white",
           "lakecolor": "white",
           "landcolor": "#E5ECF6",
           "showlakes": true,
           "showland": true,
           "subunitcolor": "white"
          },
          "hoverlabel": {
           "align": "left"
          },
          "hovermode": "closest",
          "mapbox": {
           "style": "light"
          },
          "paper_bgcolor": "white",
          "plot_bgcolor": "#E5ECF6",
          "polar": {
           "angularaxis": {
            "gridcolor": "white",
            "linecolor": "white",
            "ticks": ""
           },
           "bgcolor": "#E5ECF6",
           "radialaxis": {
            "gridcolor": "white",
            "linecolor": "white",
            "ticks": ""
           }
          },
          "scene": {
           "xaxis": {
            "backgroundcolor": "#E5ECF6",
            "gridcolor": "white",
            "gridwidth": 2,
            "linecolor": "white",
            "showbackground": true,
            "ticks": "",
            "zerolinecolor": "white"
           },
           "yaxis": {
            "backgroundcolor": "#E5ECF6",
            "gridcolor": "white",
            "gridwidth": 2,
            "linecolor": "white",
            "showbackground": true,
            "ticks": "",
            "zerolinecolor": "white"
           },
           "zaxis": {
            "backgroundcolor": "#E5ECF6",
            "gridcolor": "white",
            "gridwidth": 2,
            "linecolor": "white",
            "showbackground": true,
            "ticks": "",
            "zerolinecolor": "white"
           }
          },
          "shapedefaults": {
           "line": {
            "color": "#2a3f5f"
           }
          },
          "ternary": {
           "aaxis": {
            "gridcolor": "white",
            "linecolor": "white",
            "ticks": ""
           },
           "baxis": {
            "gridcolor": "white",
            "linecolor": "white",
            "ticks": ""
           },
           "bgcolor": "#E5ECF6",
           "caxis": {
            "gridcolor": "white",
            "linecolor": "white",
            "ticks": ""
           }
          },
          "title": {
           "x": 0.05
          },
          "xaxis": {
           "automargin": true,
           "gridcolor": "white",
           "linecolor": "white",
           "ticks": "",
           "title": {
            "standoff": 15
           },
           "zerolinecolor": "white",
           "zerolinewidth": 2
          },
          "yaxis": {
           "automargin": true,
           "gridcolor": "white",
           "linecolor": "white",
           "ticks": "",
           "title": {
            "standoff": 15
           },
           "zerolinecolor": "white",
           "zerolinewidth": 2
          }
         }
        }
       }
      }
     },
     "metadata": {},
     "output_type": "display_data"
    }
   ],
   "source": [
    "import plotly.graph_objects as go\n",
    "\n",
    "# Beispiel-Daten: Windrichtung in Grad (0° = N, 90° = E, 180° = S, 270° = W)\n",
    "wind_directions = [0]  # Nord\n",
    "wind_speeds = [30]  # Windgeschwindigkeit\n",
    "\n",
    "# Erstellen des Plots\n",
    "fig = go.Figure()\n",
    "\n",
    "fig.add_trace(go.Barpolar(\n",
    "    r=wind_speeds,  # Windgeschwindigkeit als Radius\n",
    "    theta=wind_directions,  # Windrichtung in Grad\n",
    "    width=45,  # Breite der Balken (45° für 8 Himmelsrichtungen)\n",
    "    marker=dict(\n",
    "        color=wind_speeds,\n",
    "        colorscale='Oranges',  \n",
    "        showscale=True,\n",
    "        cmin=0,  # Minimaler Wert der Skala\n",
    "        cmax=50,  # Maximaler Wert der Skala\n",
    "        colorbar=dict(\n",
    "            x=0.7,  # Position der Skala\n",
    "            y=0.5,  # Vertikale Position\n",
    "            len=0.9,  # Höhe der Skala\n",
    "            title=\"Wind (m/s)\",  # Titel der Skala\n",
    "            tickvals=[0, 10, 20, 30, 40, 50],  # Definierte Werte\n",
    "            #ticktext=[\"0\", \"Leicht\", \"Mittel\", \"Stark\", \"Sehr stark\", \"Extrem\"]  # Eigene Labels\n",
    "        )\n",
    "    )\n",
    "))\n",
    "\n",
    "# Theme anwenden\n",
    "fig.update_layout(\n",
    "    plot_bgcolor=\"#78d278\",  # Hintergrund des Plots\n",
    "    font=dict(color=\"#053246\"),  # Allgemeine Textfarbe\n",
    "    polar=dict(\n",
    "        radialaxis=dict(showticklabels=False, ticksuffix=\" m/s\"),\n",
    "        angularaxis=dict(direction=\"clockwise\", tickmode=\"array\",\n",
    "                         tickvals=[0, 90, 180, 270],\n",
    "                         ticktext=['N', 'E', 'S', 'W'])  # Himmelsrichtungen\n",
    "    )\n",
    ")\n",
    "\n",
    "fig.show()\n"
   ]
  }
 ],
 "metadata": {
  "kernelspec": {
   "display_name": ".main",
   "language": "python",
   "name": "python3"
  },
  "language_info": {
   "codemirror_mode": {
    "name": "ipython",
    "version": 3
   },
   "file_extension": ".py",
   "mimetype": "text/x-python",
   "name": "python",
   "nbconvert_exporter": "python",
   "pygments_lexer": "ipython3",
   "version": "3.12.3"
  }
 },
 "nbformat": 4,
 "nbformat_minor": 2
}
