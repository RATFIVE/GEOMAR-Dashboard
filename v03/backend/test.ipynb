{
 "cells": [
  {
   "cell_type": "code",
   "execution_count": 1,
   "metadata": {},
   "outputs": [
    {
     "data": {
      "text/plain": [
       "[{'name': 'Sonwik Yachthafen Flensburg',\n",
       "  'location': {'latitude': 54.793, 'longitude': 9.441},\n",
       "  'address': {'street': 'Fördepromenade 2',\n",
       "   'zip': '24944',\n",
       "   'city': 'Flensburg',\n",
       "   'country': 'Germany'}},\n",
       " {'name': 'Boltenhagen Marina',\n",
       "  'location': {'latitude': 53.997, 'longitude': 11.216},\n",
       "  'address': {'street': 'Am Yachthafen 1',\n",
       "   'zip': '23946',\n",
       "   'city': 'Boltenhagen',\n",
       "   'country': 'Germany'}},\n",
       " {'name': 'Badesteg Reventlou',\n",
       "  'location': {'latitude': 54.3323, 'longitude': 10.1519},\n",
       "  'address': {'street': 'Reventloubrücke',\n",
       "   'zip': '24103',\n",
       "   'city': 'Kiel',\n",
       "   'country': 'Germany'}},\n",
       " {'name': 'Kappeln',\n",
       "  'location': {'latitude': 54.655, 'longitude': 9.934},\n",
       "  'address': {'street': 'Hafenstraße 1',\n",
       "   'zip': '24376',\n",
       "   'city': 'Kappeln',\n",
       "   'country': 'Germany'}}]"
      ]
     },
     "execution_count": 1,
     "metadata": {},
     "output_type": "execute_result"
    }
   ],
   "source": [
    "from fastapi import FastAPI\n",
    "import pandas as pd\n",
    "import numpy as np\n",
    "from utils.Copernicus import AdvancedCopernicus\n",
    "import json \n",
    "from utils.OpenMeteoWeather import OpenMeteoWeather\n",
    "import datetime\n",
    "ac = AdvancedCopernicus() \n",
    "\n",
    "\n",
    "def get_json_data(file):\n",
    "    with open(file) as f:\n",
    "        data = json.load(f)\n",
    "    return data\n",
    "\n",
    "marinas = get_json_data('../data/marinas.json')\n",
    "\n",
    "marinas"
   ]
  },
  {
   "cell_type": "code",
   "execution_count": 7,
   "metadata": {},
   "outputs": [
    {
     "name": "stderr",
     "output_type": "stream",
     "text": [
      "INFO - 2025-02-25T10:19:44Z - Selected dataset version: \"202406\"\n",
      "INFO - 2025-02-25T10:19:44Z - Selected dataset part: \"default\"\n",
      "INFO - 2025-02-25T10:19:48Z - Starting download. Please wait...\n"
     ]
    },
    {
     "data": {
      "application/vnd.jupyter.widget-view+json": {
       "model_id": "51821ff2c8b64de5a421f1f229907dd4",
       "version_major": 2,
       "version_minor": 0
      },
      "text/plain": [
       "  0%|          | 0/50 [00:00<?, ?it/s]"
      ]
     },
     "metadata": {},
     "output_type": "display_data"
    },
    {
     "name": "stderr",
     "output_type": "stream",
     "text": [
      "INFO - 2025-02-25T10:19:52Z - Successfully downloaded to output.nc\n"
     ]
    }
   ],
   "source": [
    "OUTPUT_FILENAME = \"output.nc\"\n",
    "START_DATETIME = \"2023-05-01T00:00:00Z\"\n",
    "END_DATETIME = datetime.datetime.now().strftime(\"%Y-%m-%dT%H:%M:%SZ\")\n",
    "RADIUS = 0.1\n",
    "\n",
    "for marina in marinas:\n",
    "    marina_name = marina['name']\n",
    "    marina_latitude = marina['location']['latitude']\n",
    "    marina_longitude = marina['location']['longitude']\n",
    "\n",
    "    minimum_longitude = marina_longitude - RADIUS\n",
    "    maximum_longitude = marina_longitude + RADIUS\n",
    "    minimum_latitude = marina_latitude - RADIUS\n",
    "    maximum_latitude = marina_latitude + RADIUS\n",
    "\n",
    "\n",
    "\n",
    "    marina_data = ac.get_subset(\n",
    "        dataset_id=\"cmems_mod_glo_phy_anfc_0.083deg_PT1H-m\",\n",
    "        dataset_version=\"202406\",\n",
    "        variables=[\"so\", \"thetao\", \"vo\", \"zos\", \"uo\"], \n",
    "        minimum_longitude=minimum_longitude,\n",
    "        maximum_longitude=maximum_longitude,\n",
    "        minimum_latitude=minimum_latitude,\n",
    "        maximum_latitude=maximum_latitude,\n",
    "        start_datetime=START_DATETIME,\n",
    "        end_datetime=END_DATETIME,\n",
    "        minimum_depth=0.49402499198913574,\n",
    "        maximum_depth=0.49402499198913574,\n",
    "        coordinates_selection_method=\"strict-inside\",\n",
    "        disable_progress_bar=False,\n",
    "        output_filename=OUTPUT_FILENAME\n",
    "        )\n",
    "    \n",
    "    ac.delete_dataset(OUTPUT_FILENAME)\n",
    "\n",
    "    marina_df = marina_data.to_dataframe().reset_index()\n",
    "    marina_df = marina_df.dropna(axis=0, how='all')\n",
    "    marina_df_grouped = marina_df.groupby('time').mean()\n",
    "    marina_df_grouped.sort_values(by='time', ascending=False, inplace=True)\n",
    "    marina_df_grouped.reset_index(inplace=True)\n",
    "\n",
    "    omw = OpenMeteoWeather(\n",
    "            latitude=marina_latitude, \n",
    "            longitude=marina_longitude, \n",
    "            start_date=START_DATETIME.split('T')[0], \n",
    "            end_date=END_DATETIME.split('T')[0]\n",
    "            )\n",
    "    df_omw = omw.get_weather_dataframe()\n",
    "    cols = ['time', 'wind_speed_10m', 'wind_direction_10m', 'temperature_2m', 'pressure_msl', 'relative_humidity_2m']\n",
    "    df_omw = df_omw[cols]\n",
    "    df_omw[\"time\"] = pd.to_datetime(df_omw[\"time\"]).dt.tz_localize(None)\n",
    "\n",
    "    # Sicherstellen, dass der Schlüssel 'measurement' existiert\n",
    "    \n",
    "    def insert_measurement(df:pd.DataFrame, data:dict, key:str, name:str):\n",
    "        if 'measurement' not in data:\n",
    "            data['measurement'] = {}\n",
    "\n",
    "        if key not in df.columns:\n",
    "            return print(f\"Key {key} not in dataframe\")\n",
    "        \n",
    "        df = df.loc[:, ['time', key]].rename(columns={key: 'values'})\n",
    "        data['measurement'][name] = df.loc[:, ['time', 'values']].to_dict(orient='list')\n",
    "\n",
    "\n",
    "    insert_measurement(marina_df_grouped, marina, key='thetao', name='water_temperature')\n",
    "    insert_measurement(marina_df_grouped, marina, key='zos', name='water_height')\n",
    "    insert_measurement(df_omw, marina, key='wind_speed_10m', name='wind_speed')\n",
    "    insert_measurement(df_omw, marina, key='wind_direction_10m', name='wind_direction')\n",
    "    insert_measurement(df_omw, marina, key='temperature_2m', name='air_temperature')\n",
    "    insert_measurement(df_omw, marina, key='pressure_msl', name='air_pressure')\n",
    "    insert_measurement(df_omw, marina, key='relative_humidity_2m', name='air_humidity')\n",
    "    break\n",
    "\n"
   ]
  },
  {
   "cell_type": "code",
   "execution_count": null,
   "metadata": {},
   "outputs": [],
   "source": [
    "app = FastAPI()\n",
    "\n",
    "@app.get(\"/\")\n",
    "def read_root():\n",
    "    return {\"Hello\": \"World\"}\n",
    "\n",
    "@app.get(\"/data\")\n",
    "def read_marinas():\n",
    "    return marinas\n",
    "\n",
    "@app.get(\"/settings\")\n",
    "def read_settings():\n",
    "    return {\"settings\": \"settings\"}\n",
    "\n"
   ]
  }
 ],
 "metadata": {
  "kernelspec": {
   "display_name": ".main",
   "language": "python",
   "name": ".main"
  },
  "language_info": {
   "codemirror_mode": {
    "name": "ipython",
    "version": 3
   },
   "file_extension": ".py",
   "mimetype": "text/x-python",
   "name": "python",
   "nbconvert_exporter": "python",
   "pygments_lexer": "ipython3",
   "version": "3.11.8"
  }
 },
 "nbformat": 4,
 "nbformat_minor": 2
}
